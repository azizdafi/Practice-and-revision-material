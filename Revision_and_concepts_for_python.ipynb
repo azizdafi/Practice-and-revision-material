{
  "nbformat": 4,
  "nbformat_minor": 0,
  "metadata": {
    "colab": {
      "provenance": [],
      "mount_file_id": "1PN0Emj1VwQrA0ZUaS5oyBp-oesvmeq2z",
      "authorship_tag": "ABX9TyMLQtFl1LpKEHRlwlWQgLcQ",
      "include_colab_link": true
    },
    "kernelspec": {
      "name": "python3",
      "display_name": "Python 3"
    },
    "language_info": {
      "name": "python"
    }
  },
  "cells": [
    {
      "cell_type": "markdown",
      "metadata": {
        "id": "view-in-github",
        "colab_type": "text"
      },
      "source": [
        "<a href=\"https://colab.research.google.com/github/azizdafi/Practice-and-revision-material/blob/main/Revision_and_concepts_for_python.ipynb\" target=\"_parent\"><img src=\"https://colab.research.google.com/assets/colab-badge.svg\" alt=\"Open In Colab\"/></a>"
      ]
    },
    {
      "cell_type": "markdown",
      "source": [
        "## Python Variables\n",
        "A variable is created the moment you first assign a value to it."
      ],
      "metadata": {
        "id": "itRmFz6oXBkI"
      }
    },
    {
      "cell_type": "markdown",
      "source": [
        "### Rules for declaring a variable:\n",
        "\n",
        "* A variable name must start with a letter or the underscore character\n",
        "* A variable name cannot start with a number\n",
        "* A variable name can only contain alpha-numeric characters and underscores (A-z, 0-9, and _ )\n",
        "* Variable names are case-sensitive (age, Age and AGE are three different variables)\n",
        "* A variable name cannot be any of the Python keywords.\n",
        "\n",
        "Note: Remember that variable names are case-sensitive"
      ],
      "metadata": {
        "id": "vdMHKfMvYsso"
      }
    },
    {
      "cell_type": "markdown",
      "source": [
        "Some example of declaring a variable."
      ],
      "metadata": {
        "id": "7CkCdYskZOqo"
      }
    },
    {
      "cell_type": "code",
      "execution_count": null,
      "metadata": {
        "colab": {
          "base_uri": "https://localhost:8080/"
        },
        "id": "lJrXsOqFWm0i",
        "outputId": "9319f52c-cb82-44c3-b5f5-717c8517a63c"
      },
      "outputs": [
        {
          "output_type": "stream",
          "name": "stdout",
          "text": [
            "5\n",
            "<class 'int'>\n",
            "John\n",
            "<class 'str'>\n",
            "1.0\n",
            "<class 'float'>\n",
            "(1+4j)\n",
            "<class 'complex'>\n",
            "True\n",
            "<class 'bool'>\n"
          ]
        }
      ],
      "source": [
        "x = 5       # this creates a variable of type int\n",
        "print(x)\n",
        "print(type(x))\n",
        "###########################\n",
        "y = \"John\"       # this creates a variable of type str\n",
        "print(y)\n",
        "print(type(y))\n",
        "###########################\n",
        "z = 1.0       # this creates a variable of type float\n",
        "print(z)\n",
        "print(type(z))\n",
        "###########################\n",
        "z = 1 + 4j       # this creates a variable of type Complex\n",
        "print(z)\n",
        "print(type(z))\n",
        "x = True       # this creates a variable of type Boolean\n",
        "print(x)\n",
        "print(type(x))\n",
        "###########################"
      ]
    },
    {
      "cell_type": "markdown",
      "source": [
        "## Python Casting"
      ],
      "metadata": {
        "id": "W2shoqCSaScE"
      }
    },
    {
      "cell_type": "markdown",
      "source": [
        "forcing a data type to change its type is known as casting, how ever it is important for us to undersatnd that the forcefull casting can be done only if the data can be converted to what we are planning to, for example we cannot convert string a as int.\n"
      ],
      "metadata": {
        "id": "j0H-5dKfaUhT"
      }
    },
    {
      "cell_type": "code",
      "source": [
        "var =\n",
        "x = int(1)   # x will be int\n",
        "x = float(1)     # x will be float (1.0)\n",
        "x = str(3.0)  # z will be string  ('3.0')"
      ],
      "metadata": {
        "id": "_4wnnCzhivYB"
      },
      "execution_count": null,
      "outputs": []
    },
    {
      "cell_type": "markdown",
      "source": [
        "## Strings"
      ],
      "metadata": {
        "id": "TdRp1HRqjbg_"
      }
    },
    {
      "cell_type": "code",
      "source": [
        "print(\"Hello with double quotes\")\n",
        "print('Hello with single quotes')\n",
        "a = \"Hello assigned as variable\"\n",
        "print(a)\n",
        "a = \"\"\"Hello with multiline\n",
        "string assigned\"\"\"\n",
        "print(a)"
      ],
      "metadata": {
        "colab": {
          "base_uri": "https://localhost:8080/"
        },
        "id": "wyF5qDBMjh3S",
        "outputId": "c6acdd95-a241-4974-921e-720c26d4d2e4"
      },
      "execution_count": null,
      "outputs": [
        {
          "output_type": "stream",
          "name": "stdout",
          "text": [
            "Hello with double quotes\n",
            "Hello with single quotes\n",
            "Hello assigned as variable\n",
            "Hello with multiline\n",
            "string assigned\n"
          ]
        }
      ]
    },
    {
      "cell_type": "code",
      "source": [
        "# String slicing:\n",
        "b = \"Hello, World!\"\n",
        "print(b[2:5])\n",
        "# indexing starts from 0 till n-1 so here output is \"llo\"\n",
        "# note: charecter present in location 5 is not printed"
      ],
      "metadata": {
        "colab": {
          "base_uri": "https://localhost:8080/"
        },
        "id": "twlZnyRfkFbJ",
        "outputId": "7b7c936b-99a4-452b-ee8e-047f38886143"
      },
      "execution_count": null,
      "outputs": [
        {
          "output_type": "stream",
          "name": "stdout",
          "text": [
            "llo\n"
          ]
        }
      ]
    },
    {
      "cell_type": "code",
      "source": [
        "# Get the characters from the start to position 5 (not included)\n",
        "b = \"Hello, World!\"\n",
        "print(b[:5])\n",
        "print(b[5:-1]) #prints from 5 till last but 1"
      ],
      "metadata": {
        "colab": {
          "base_uri": "https://localhost:8080/"
        },
        "id": "lK_Y2q5CkHbk",
        "outputId": "d10600e5-92cf-4ee7-e67c-fcd764c8cf2e"
      },
      "execution_count": null,
      "outputs": [
        {
          "output_type": "stream",
          "name": "stdout",
          "text": [
            "Hello\n",
            ", World\n"
          ]
        }
      ]
    },
    {
      "cell_type": "markdown",
      "source": [
        "## String Methods and examples"
      ],
      "metadata": {
        "id": "5Ql_VryTm91g"
      }
    },
    {
      "cell_type": "markdown",
      "source": [
        "####Methods\n"
      ],
      "metadata": {
        "id": "hGYKoAornHh3"
      }
    },
    {
      "cell_type": "code",
      "source": [
        "txt = \"hello, and welcome to my world.\"\n",
        "x = txt.capitalize()\n",
        "print (x)"
      ],
      "metadata": {
        "id": "jUdCEe8InP8M",
        "outputId": "38b52fc3-2d13-42aa-8d42-46e964e8b3bb",
        "colab": {
          "base_uri": "https://localhost:8080/"
        }
      },
      "execution_count": null,
      "outputs": [
        {
          "output_type": "stream",
          "name": "stdout",
          "text": [
            "Hello, and welcome to my world.\n"
          ]
        }
      ]
    },
    {
      "cell_type": "markdown",
      "source": [
        "###similar methods\n",
        "\n",
        "**capitalize()**   \n",
        "Converts the first character to upper case  \n",
        "*Example Usage:*  \n",
        "x = txt.capitalize()\n",
        "\n",
        "---\n",
        "**casefold()**\n",
        "Converts string into lower case  \n",
        "x = txt.casefold()\n",
        "\n",
        "---\n",
        "**center()**\n",
        "Returns a centered string  \n",
        "*Example Usage:*  \n",
        "x = txt.center(20)\n",
        "\n",
        "---\n",
        "**count()**\n",
        "Returns the number of times a specified value occurs in a string  \n",
        "*Example Usage:*  \n",
        "x = txt.count(\"apple\")\n",
        "\n",
        "---\n",
        "**encode()**\n",
        "Returns an encoded version of the string  \n",
        "*Example Usage:*  \n",
        "x = txt.encode()\n",
        "\n",
        "---\n",
        "**endswith()**\n",
        "Returns true if the string ends with the specified value  \n",
        "*Example Usage:*  \n",
        "x = txt.endswith(\".\")\n",
        "\n",
        "---\n",
        "**expandtabs()**\n",
        "Sets the tab size of the string  \n",
        "*Example Usage:*  \n",
        "x =  txt.expandtabs(2)\n",
        "\n",
        "---\n",
        "**find()**\n",
        "Searches the string for a specified value and returns the position of where it was found  \n",
        "*Example Usage:*  \n",
        "x = txt.find(\"welcome\")\n",
        "\n",
        "---\n",
        "**format()**\n",
        "Formats specified values in a string  \n",
        "*Example Usage:*  \n",
        "print(txt.format(price = 49))\n",
        "\n",
        "---\n",
        "**format_map()**\n",
        "Formats specified values in a string  \n",
        "*Example Usage:*  \n",
        "\n",
        "\n",
        "---\n",
        "**index()**\n",
        "Searches the string for a specified value and returns the position of where it was found  \n",
        "*Example Usage:*  \n",
        "x = txt.index(\"welcome\")\n",
        "\n",
        "---\n",
        "**isalnum()**\n",
        "Returns True if all characters in the string are alphanumeric  \n",
        "*Example Usage:*  \n",
        "x = txt.isalnum()\n",
        "\n",
        "---\n",
        "**isalpha()**\n",
        "Returns True if all characters in the string are in the alphabet  \n",
        "*Example Usage:*  \n",
        "x = txt.isalpha()\n",
        "\n",
        "---\n",
        "**isascii()**\n",
        "Returns True if all characters in the string are ascii characters  \n",
        "*Example Usage:*  \n",
        "x = txt.isascii()\n",
        "\n",
        "---\n",
        "**isdecimal()**\n",
        "Returns True if all characters in the string are decimals  \n",
        "*Example Usage:*  \n",
        "x = txt.isdecimal()\n",
        "\n",
        "---\n",
        "**isdigit()**\n",
        "Returns True if all characters in the string are digits  \n",
        "*Example Usage:*  \n",
        "x = txt.isdigit()\n",
        "\n",
        "---\n",
        "**isidentifier()**\n",
        "Returns True if the string is an identifier  \n",
        "*Example Usage:*  \n",
        "x = txt.isidentifier()\n",
        "\n",
        "\n",
        "---\n",
        "**islower()**\n",
        "Returns True if all characters in the string are lower case  \n",
        "*Example Usage:*  \n",
        "x = txt.islower()\n",
        "\n",
        "---\n",
        "**isnumeric()**\n",
        "Returns True if all characters in the string are numeric  \n",
        "*Example Usage:*  \n",
        "x = txt.isnumeric()\n",
        "\n",
        "---\n",
        "**isprintable()**\n",
        "Returns True if all characters in the string are printable  \n",
        "*Example Usage:*  \n",
        "x = txt.isprintable()\n",
        "\n",
        "---\n",
        "**isspace()**\n",
        "Returns True if all characters in the string are whitespaces  \n",
        "*Example Usage:*  \n",
        "x = txt.isspace()\n",
        "\n",
        "---\n",
        "**istitle()**\n",
        "Returns True if the string follows the rules of a title  \n",
        "*Example Usage:*  \n",
        "x = txt.istitle()\n",
        "\n",
        "---\n",
        "**isupper()**\n",
        "Returns True if all characters in the string are upper case  \n",
        "*Example Usage:*  \n",
        "x = txt.isupper()\n",
        "\n",
        "---\n",
        "**join()**\n",
        "Joins the elements of an iterable to the end of the string  \n",
        "*Example Usage:*  \n",
        "x = \"#\".join(myTuple/list)\n",
        "\n",
        "---\n",
        "**ljust()**\n",
        "Returns a left justified version of the string  \n",
        "*Example Usage:*  \n",
        "x = txt.ljust(20)\n",
        "\n",
        "---\n",
        "**lower()**\n",
        "Converts a string into lower case  \n",
        "*Example Usage:*  \n",
        "x = txt.lower()\n",
        "\n",
        "---\n",
        "**lstrip()**\n",
        "Returns a left trim version of the string  \n",
        "*Example Usage:*  \n",
        "x = txt.lstrip()\n",
        "\n",
        "---\n",
        "**maketrans()**\n",
        "Returns a translation table to be used in translations  \n",
        "*Example Usage:*  \n",
        "mytable = str.maketrans(\"S\", \"P\")\n",
        "\n",
        "---\n",
        "**partition()**\n",
        "Returns a tuple where the string is parted into three parts  \n",
        "*Example Usage:*  \n",
        "x = txt.partition(\"bananas\")\n",
        "\n",
        "---\n",
        "**replace()**\n",
        "Returns a string where a specified value is replaced with a specified value  \n",
        "*Example Usage:*  \n",
        "x = txt.replace(\"bananas\", \"apples\")\n",
        "\n",
        "---\n",
        "**rfind()**\n",
        "Searches the string for a specified value and returns the last position of where it was found  \n",
        "*Example Usage:*  \n",
        "x = txt.rfind(\"casa\")\n",
        "\n",
        "---\n",
        "**rindex()**\n",
        "Searches the string for a specified value and returns the last position of where it was found  \n",
        "*Example Usage:*  \n",
        "x = txt.rindex(\"casa\")\n",
        "\n",
        "---\n",
        "**rjust()**\n",
        "Returns a right justified version of the string  \n",
        "*Example Usage:*  \n",
        "x = txt.rjust(20)\n",
        "\n",
        "---\n",
        "**rpartition()**\n",
        "Returns a tuple where the string is parted into three parts  \n",
        "*Example Usage:*  \n",
        "x = txt.rpartition(\"bananas\")\n",
        "\n",
        "---\n",
        "**rsplit()**\n",
        "Splits the string at the specified separator, and returns a list  \n",
        "*Example Usage:*  \n",
        "x = txt.rsplit(\", \")\n",
        "\n",
        "---\n",
        "**rstrip()**\n",
        "Returns a right trim version of the string  \n",
        "*Example Usage:*  \n",
        "x = txt.rstrip()\n",
        "\n",
        "---\n",
        "**split()**\n",
        "Splits the string at the specified separator, and returns a list  \n",
        "*Example Usage:*  \n",
        "x = txt.split()\n",
        "\n",
        "---\n",
        "**splitlines()**\n",
        "Splits the string at line breaks and returns a list  \n",
        "*Example Usage:*  \n",
        "x = txt.splitlines()\n",
        "\n",
        "---\n",
        "**startswith()**\n",
        "Returns true if the string starts with the specified value  \n",
        "*Example Usage:*  \n",
        "x = txt.startswith(\"Hello\")\n",
        "\n",
        "---\n",
        "**strip()**\n",
        "Returns a trimmed version of the string  \n",
        "*Example Usage:*  \n",
        "x = txt.strip()\n",
        "\n",
        "---\n",
        "**swapcase()**\n",
        "Swaps cases, lower case becomes upper case and vice versa  \n",
        "*Example Usage:*  \n",
        "x = txt.swapcase()\n",
        "\n",
        "---\n",
        "**title()**\n",
        "Converts the first character of each word to upper case  \n",
        "*Example Usage:*  \n",
        "x = txt.title()\n",
        "\n",
        "---\n",
        "**translate()**\n",
        "Returns a translated string  \n",
        "*Example Usage:*  \n",
        "use a dictionary with ascii codes to replace 83 (S) with 80 (P):  \n",
        "mydict = {83:  80}  \n",
        "txt = \"Hello Sam!\"  \n",
        "print(txt.translate(mydict))  \n",
        "output: Hello Pam!\n",
        "\n",
        "---\n",
        "**upper()**\n",
        "Converts a string into upper case  \n",
        "*Example Usage:*  \n",
        "x = txt.upper()\n",
        "\n",
        "---\n",
        "**zfill()**\n",
        "Fills the string with a specified number of 0 values at the beginning  \n",
        "*Example Usage:*  \n",
        "x = txt.zfill(10)\n",
        "\n",
        "---"
      ],
      "metadata": {
        "id": "PJ3Vc11cjA9j"
      }
    },
    {
      "cell_type": "markdown",
      "source": [
        "####List"
      ],
      "metadata": {
        "id": "8od-AdoO5CT8"
      }
    },
    {
      "cell_type": "markdown",
      "source": [
        "Lists are used to store multiple items in a single variable.\n",
        "\n",
        "Lists are one of 4 built-in data types in Python used to store collections of data, the other 3 are  \n",
        "Tuple   \n",
        "Set  \n",
        "Dictionary"
      ],
      "metadata": {
        "id": "T91q9nls5tqB"
      }
    },
    {
      "cell_type": "code",
      "source": [
        "thislist = [\"apple\", \"banana\", \"cherry\", \"orange\", \"kiwi\", \"melon\", \"mango\"]\n",
        "print(thislist)\n",
        "print(len(thislist))\n",
        "print(type(thislist))\n",
        "print(thislist[0]) # indexing starts from 0\n",
        "print(thislist[-1]) #prints last item in the list\n",
        "print(thislist[2:5]) #prints 3rd item till 5th(excluding the item indexed at 5)\n",
        "print(thislist[:4]) #Prints first 4\n",
        "print(thislist[2:]) #prints all after 3\n",
        "\n",
        "#if condition checking\n",
        "if \"apple\" in thislist:\n",
        "  print(\"Yes, 'apple' is in the fruits list\")\n",
        "thislist[1] = \"blackcurrant\" #replaces banana to blackcurrant\n",
        "print(thislist)\n",
        "\n",
        "thislist.append(\"litchy\") #adds litchy at the last\n",
        "print(thislist)\n",
        "\n",
        "thislist.remove(\"melon\") #removes melon from list\n",
        "print(thislist)\n",
        "thislist.sort(reverse = False) #sorts list items\n",
        "print(thislist)\n",
        "del thislist #delete the list\n",
        "# print(thislist)"
      ],
      "metadata": {
        "colab": {
          "base_uri": "https://localhost:8080/"
        },
        "id": "_52iAyQt6Fnj",
        "outputId": "4a42288d-15f6-4390-87b3-129ce0034378"
      },
      "execution_count": null,
      "outputs": [
        {
          "output_type": "stream",
          "name": "stdout",
          "text": [
            "['apple', 'banana', 'cherry', 'orange', 'kiwi', 'melon', 'mango']\n",
            "7\n",
            "<class 'list'>\n",
            "apple\n",
            "mango\n",
            "['cherry', 'orange', 'kiwi']\n",
            "['apple', 'banana', 'cherry', 'orange']\n",
            "['cherry', 'orange', 'kiwi', 'melon', 'mango']\n",
            "Yes, 'apple' is in the fruits list\n",
            "['apple', 'blackcurrant', 'cherry', 'orange', 'kiwi', 'melon', 'mango']\n",
            "['apple', 'blackcurrant', 'cherry', 'orange', 'kiwi', 'melon', 'mango', 'litchy']\n",
            "['apple', 'blackcurrant', 'cherry', 'orange', 'kiwi', 'mango', 'litchy']\n",
            "['apple', 'blackcurrant', 'cherry', 'kiwi', 'litchy', 'mango', 'orange']\n"
          ]
        }
      ]
    },
    {
      "cell_type": "markdown",
      "source": [
        "The list is changeable, allows Duplicates.  \n",
        "we can get length of list by len function  \n",
        "List items are indexed and you can access them by referring to the index number"
      ],
      "metadata": {
        "id": "-NviSUiM6NLE"
      }
    },
    {
      "cell_type": "markdown",
      "source": [
        "####Tuples"
      ],
      "metadata": {
        "id": "8NJIX33488te"
      }
    },
    {
      "cell_type": "markdown",
      "source": [
        "Tuples are used to store multiple items in a single variable.  \n",
        "A tuple is a collection which is ordered and unchangeable.\n",
        "Tuple items are ordered, unchangeable, and allow duplicate values."
      ],
      "metadata": {
        "id": "ZNu6ykFQ-jJF"
      }
    },
    {
      "cell_type": "code",
      "source": [
        "thistuple = (\"apple\", \"banana\", \"cherry\", \"apple\", \"cherry\")\n",
        "print(thistuple)\n",
        "print(len(thistuple))\n",
        "print(type(thistuple))\n",
        "# thistuple = (\"apple\",) #for single item tuple remember the comma\n",
        "# accessing tuple is same as list\n",
        "\n",
        "#umpacking tuple:\n",
        "fruits = (\"apple\", \"banana\", \"cherry\")\n",
        "\n",
        "(green, yellow, red) = fruits\n",
        "\n",
        "print(green)\n",
        "print(yellow)\n",
        "print(red)\n",
        "\n",
        "# Looping is same like list\n",
        "\n",
        "#tuple method\n",
        "thistuple = (1, 3, 7, 8, 7, 5, 4, 6, 8, 5)\n",
        "x = thistuple.count(5)\n",
        "print(x)"
      ],
      "metadata": {
        "colab": {
          "base_uri": "https://localhost:8080/"
        },
        "id": "0p1pRh6F-4_e",
        "outputId": "c50c6a80-9dee-42da-f099-f82be76e5156"
      },
      "execution_count": null,
      "outputs": [
        {
          "output_type": "stream",
          "name": "stdout",
          "text": [
            "('apple', 'banana', 'cherry', 'apple', 'cherry')\n",
            "5\n",
            "<class 'tuple'>\n",
            "apple\n",
            "banana\n",
            "cherry\n",
            "2\n"
          ]
        }
      ]
    },
    {
      "cell_type": "markdown",
      "source": [
        "####Set"
      ],
      "metadata": {
        "id": "YTXgLiyaAPlg"
      }
    },
    {
      "cell_type": "markdown",
      "source": [
        "Sets are used to store multiple items in a single variable.  \n",
        "A set is a collection which is unordered, unchangeable*, and unindexed.  \n",
        "Set items are unordered, unchangeable, and do not allow duplicate values."
      ],
      "metadata": {
        "id": "0lNTuEK4AbY_"
      }
    },
    {
      "cell_type": "code",
      "source": [
        "thisset = {\"apple\", \"banana\", \"cherry\", True, 1, 2}\n",
        "print(thisset)\n",
        "\n",
        "# access list itmes is same as list\n",
        "\n",
        "# adding item to set\n",
        "thisset1 = {\"apple\", \"banana\", \"cherry\"}\n",
        "thisset1.add(\"orange\")\n",
        "print(thisset1)\n",
        "# removing item\n",
        "thisset1 = {\"apple\", \"banana\", \"cherry\"}\n",
        "thisset1.remove(\"banana\")\n",
        "print(thisset1)\n",
        "print()\n",
        "# Looping is same as list\n",
        "\n",
        "# joining 2 sets\n",
        "set1 = {\"a\", \"b\" , \"c\"}\n",
        "set2 = {1, 2, 3}\n",
        "set3 = set1.union(set2)\n",
        "print(set3)"
      ],
      "metadata": {
        "colab": {
          "base_uri": "https://localhost:8080/"
        },
        "id": "GHhF2FMQAsM0",
        "outputId": "ce2a6972-1ffb-43fc-f7b4-94aa89b3caa1"
      },
      "execution_count": null,
      "outputs": [
        {
          "output_type": "stream",
          "name": "stdout",
          "text": [
            "{True, 'apple', 2, 'banana', 'cherry'}\n",
            "{'apple', 'banana', 'orange', 'cherry'}\n",
            "{'apple', 'cherry'}\n",
            "\n",
            "{'a', 1, 2, 3, 'c', 'b'}\n"
          ]
        }
      ]
    },
    {
      "cell_type": "markdown",
      "source": [
        "####Dictionary"
      ],
      "metadata": {
        "id": "A9XNKfEmLp-Y"
      }
    },
    {
      "cell_type": "markdown",
      "source": [
        "Dictionaries are used to store data values in key:value pairs.  \n",
        "A dictionary is a collection which is ordered*, changeable and do not allow duplicates  \n",
        "Dictionaries are written with curly brackets, and have keys and values:"
      ],
      "metadata": {
        "id": "W1M35dezLr3X"
      }
    },
    {
      "cell_type": "code",
      "source": [
        "thisdict = {\n",
        "  \"brand\": \"Ford\",\n",
        "  \"model\": \"Mustang\",\n",
        "  \"year\": 1964\n",
        "}\n",
        "print(thisdict)\n",
        "print()\n",
        "# access by key\n",
        "print(thisdict[\"brand\"])\n",
        "\n",
        "car = {\n",
        "\"brand\": \"Ford\",\n",
        "\"model\": \"Mustang\",\n",
        "\"year\": 1964\n",
        "}\n",
        "# adding new key value pair to dict\n",
        "thisdict[\"color\"] = \"red\"\n",
        "print(thisdict)\n",
        "\n",
        "if \"model\" in thisdict:\n",
        "  print(\"Yes, 'model' is one of the keys in the thisdict dictionary\")\n",
        "\n",
        "# updating value in dict\n",
        "thisdict[\"year\"] = 2018\n",
        "print(thisdict)\n",
        "\n",
        "# removing key value pair in dict\n",
        "thisdict.pop(\"color\")\n",
        "print(thisdict)\n",
        "\n",
        "\n",
        "# looping in dictionary\n",
        "for key, value in thisdict.items():\n",
        "  print(key, value)"
      ],
      "metadata": {
        "colab": {
          "base_uri": "https://localhost:8080/"
        },
        "id": "t-mq6er0L0lc",
        "outputId": "f28fbec2-52f3-42a1-81d7-e339f60b4693"
      },
      "execution_count": null,
      "outputs": [
        {
          "output_type": "stream",
          "name": "stdout",
          "text": [
            "{'brand': 'Ford', 'model': 'Mustang', 'year': 1964}\n",
            "\n",
            "Ford\n",
            "{'brand': 'Ford', 'model': 'Mustang', 'year': 1964, 'color': 'red'}\n",
            "Yes, 'model' is one of the keys in the thisdict dictionary\n",
            "{'brand': 'Ford', 'model': 'Mustang', 'year': 2018, 'color': 'red'}\n",
            "{'brand': 'Ford', 'model': 'Mustang', 'year': 2018}\n",
            "brand Ford\n",
            "model Mustang\n",
            "year 2018\n"
          ]
        }
      ]
    },
    {
      "cell_type": "code",
      "source": [
        "# dictionary of dictionar access\n",
        "myfamily = {\n",
        "  \"child1\" : {\n",
        "    \"name\" : \"Emil\",\n",
        "    \"year\" : 2004\n",
        "  },\n",
        "  \"child2\" : {\n",
        "    \"name\" : \"Tobias\",\n",
        "    \"year\" : 2007\n",
        "  },\n",
        "  \"child3\" : {\n",
        "    \"name\" : \"Linus\",\n",
        "    \"year\" : 2011\n",
        "  }\n",
        "}\n",
        "\n",
        "print(myfamily)\n",
        "for k, v in myfamily.items():\n",
        "\tfor k1, v1 in v.items():\n",
        "\t\tprint(k1, v1)"
      ],
      "metadata": {
        "colab": {
          "base_uri": "https://localhost:8080/"
        },
        "id": "nVhihrZVNcH4",
        "outputId": "bc45a896-4e9e-4f82-9076-44ca034fbd32"
      },
      "execution_count": null,
      "outputs": [
        {
          "output_type": "stream",
          "name": "stdout",
          "text": [
            "{'child1': {'name': 'Emil', 'year': 2004}, 'child2': {'name': 'Tobias', 'year': 2007}, 'child3': {'name': 'Linus', 'year': 2011}}\n",
            "name Emil\n",
            "year 2004\n",
            "name Tobias\n",
            "year 2007\n",
            "name Linus\n",
            "year 2011\n"
          ]
        }
      ]
    },
    {
      "cell_type": "markdown",
      "source": [
        "####If ... Else"
      ],
      "metadata": {
        "id": "0GGDTom1OP0i"
      }
    },
    {
      "cell_type": "code",
      "source": [
        "a = 200\n",
        "b = 33\n",
        "if b > a:\n",
        "  print(\"b is greater than a\")\n",
        "elif a == b:\n",
        "  print(\"a and b are equal\")\n",
        "else:\n",
        "  print(\"a is greater than b\")"
      ],
      "metadata": {
        "colab": {
          "base_uri": "https://localhost:8080/"
        },
        "id": "tF5qFhuiOYJP",
        "outputId": "487c8023-0c21-441e-bb43-5ab77791c4a7"
      },
      "execution_count": null,
      "outputs": [
        {
          "output_type": "stream",
          "name": "stdout",
          "text": [
            "a is greater than b\n"
          ]
        }
      ]
    },
    {
      "cell_type": "code",
      "source": [
        "print(a) if a > b else print(b)"
      ],
      "metadata": {
        "colab": {
          "base_uri": "https://localhost:8080/"
        },
        "id": "3xy8SYnSOfOz",
        "outputId": "d09f9203-d872-4fb8-b1ee-e7d4de10b984"
      },
      "execution_count": null,
      "outputs": [
        {
          "output_type": "stream",
          "name": "stdout",
          "text": [
            "200\n"
          ]
        }
      ]
    },
    {
      "cell_type": "code",
      "source": [
        "a = 330\n",
        "b = 330\n",
        "print(a) if a > b else print(\"equal\") if a == b else print(b)"
      ],
      "metadata": {
        "colab": {
          "base_uri": "https://localhost:8080/"
        },
        "id": "0Sw9w9GHOuJp",
        "outputId": "68a069db-bb84-4afc-9208-bfe11791871a"
      },
      "execution_count": null,
      "outputs": [
        {
          "output_type": "stream",
          "name": "stdout",
          "text": [
            "equal\n"
          ]
        }
      ]
    },
    {
      "cell_type": "code",
      "source": [
        "# Nested if\n",
        "x = 41\n",
        "\n",
        "if x > 10:\n",
        "  print(\"Above ten,\")\n",
        "  if x > 20:\n",
        "    print(\"and also above 20!\")\n",
        "  else:\n",
        "    print(\"but not above 20.\")"
      ],
      "metadata": {
        "colab": {
          "base_uri": "https://localhost:8080/"
        },
        "id": "pj8wjz0DO6NY",
        "outputId": "aa516f7d-a468-44c7-a1b5-da54649bbd1e"
      },
      "execution_count": null,
      "outputs": [
        {
          "output_type": "stream",
          "name": "stdout",
          "text": [
            "Above ten,\n",
            "and also above 20!\n"
          ]
        }
      ]
    },
    {
      "cell_type": "markdown",
      "source": [
        "####While Loops"
      ],
      "metadata": {
        "id": "Pss3eGInPDzF"
      }
    },
    {
      "cell_type": "code",
      "source": [
        "# With the while loop we can execute a set of statements as long as a condition is true.\n",
        "i = 1\n",
        "while i < 6:\n",
        "  print(i)\n",
        "  if i == 3:\n",
        "    break\n",
        "  i += 1"
      ],
      "metadata": {
        "colab": {
          "base_uri": "https://localhost:8080/"
        },
        "id": "ARjT4UJRPHCz",
        "outputId": "59f03605-f2d3-4d5a-985e-3613bd0dd46d"
      },
      "execution_count": null,
      "outputs": [
        {
          "output_type": "stream",
          "name": "stdout",
          "text": [
            "1\n",
            "2\n",
            "3\n"
          ]
        }
      ]
    },
    {
      "cell_type": "markdown",
      "source": [
        "####For Loops"
      ],
      "metadata": {
        "id": "5Ur5MpgzPXA0"
      }
    },
    {
      "cell_type": "code",
      "source": [
        "fruits = [\"apple\", \"banana\", \"cherry\"]\n",
        "for x in fruits:\n",
        "  print(x)"
      ],
      "metadata": {
        "colab": {
          "base_uri": "https://localhost:8080/"
        },
        "id": "82HKWG2fPaTm",
        "outputId": "f50ea454-99c9-46b3-c34d-de0c0dfe17c7"
      },
      "execution_count": null,
      "outputs": [
        {
          "output_type": "stream",
          "name": "stdout",
          "text": [
            "apple\n",
            "banana\n",
            "cherry\n"
          ]
        }
      ]
    },
    {
      "cell_type": "code",
      "source": [
        "# for itterating in string\n",
        "for x in \"banana\":\n",
        "  print(x)"
      ],
      "metadata": {
        "colab": {
          "base_uri": "https://localhost:8080/"
        },
        "id": "Rjt6agWvPdzg",
        "outputId": "36daba77-3920-4cf5-fa22-edd622767cd8"
      },
      "execution_count": null,
      "outputs": [
        {
          "output_type": "stream",
          "name": "stdout",
          "text": [
            "b\n",
            "a\n",
            "n\n",
            "a\n",
            "n\n",
            "a\n"
          ]
        }
      ]
    },
    {
      "cell_type": "markdown",
      "source": [
        "####Python Functions"
      ],
      "metadata": {
        "id": "W-Cc-vtmPnmz"
      }
    },
    {
      "cell_type": "markdown",
      "source": [
        "A function is a block of code which only runs when it is called.  \n",
        "You can pass data, known as parameters, into a function.  \n",
        "A function can return data as a result.  \n",
        "In Python a function is defined using the def keyword:"
      ],
      "metadata": {
        "id": "gNxIpETWPsVL"
      }
    },
    {
      "cell_type": "code",
      "source": [
        "def my_function():\n",
        "  print(\"Hello from a function\")\n",
        "\n",
        "my_function()"
      ],
      "metadata": {
        "colab": {
          "base_uri": "https://localhost:8080/"
        },
        "id": "breXF8ZWP1mr",
        "outputId": "014e36cc-0195-4462-a6d2-6b1e3ab8284a"
      },
      "execution_count": 1,
      "outputs": [
        {
          "output_type": "stream",
          "name": "stdout",
          "text": [
            "Hello from a function\n"
          ]
        }
      ]
    },
    {
      "cell_type": "code",
      "source": [
        "# passing argivment\n",
        "def my_function(fname, lname):\n",
        "  print(fname + \" \" + lname)\n",
        "\n",
        "my_function(\"Emil\", \"Refsnes\")"
      ],
      "metadata": {
        "colab": {
          "base_uri": "https://localhost:8080/"
        },
        "id": "6bQyThCvP-KD",
        "outputId": "b196bbe2-ea25-4c4c-b9ca-3cedee99e549"
      },
      "execution_count": null,
      "outputs": [
        {
          "output_type": "stream",
          "name": "stdout",
          "text": [
            "Emil Refsnes\n"
          ]
        }
      ]
    },
    {
      "cell_type": "code",
      "source": [
        "# setting default value in function\n",
        "def my_function(country = \"Norway\"):\n",
        "  print(\"I am from \" + country)\n",
        "\n",
        "my_function(\"Sweden\")\n",
        "my_function(\"India\")\n",
        "my_function()\n",
        "my_function(\"Brazil\")"
      ],
      "metadata": {
        "colab": {
          "base_uri": "https://localhost:8080/"
        },
        "id": "TpRezRIeQAAH",
        "outputId": "7c1b745d-2a1c-4cfc-bfd7-e05b41c408ea"
      },
      "execution_count": null,
      "outputs": [
        {
          "output_type": "stream",
          "name": "stdout",
          "text": [
            "I am from Sweden\n",
            "I am from India\n",
            "I am from Norway\n",
            "I am from Brazil\n"
          ]
        }
      ]
    },
    {
      "cell_type": "markdown",
      "source": [
        "Python also accepts function recursion, which means a defined function can call itself.\n",
        "\n",
        "Recursion is a common mathematical and programming concept. It means that a function calls itself. This has the benefit of meaning that you can loop through data to reach a result.\n",
        "\n",
        "The developer should be very careful with recursion as it can be quite easy to slip into writing a function which never terminates, or one that uses excess amounts of memory or processor power. However, when written correctly recursion can be a very efficient and mathematically-elegant approach to programming.\n",
        "\n",
        "In this example, tri_recursion() is a function that we have defined to call itself (\"recurse\"). We use the k variable as the data, which decrements (-1) every time we recurse. The recursion ends when the condition is not greater than 0 (i.e. when it is 0).\n",
        "\n",
        "To a new developer it can take some time to work out how exactly this works, best way to find out is by testing and modifying it."
      ],
      "metadata": {
        "id": "YUJfRXmzQm1-"
      }
    },
    {
      "cell_type": "code",
      "source": [
        "def tri_recursion(k):\n",
        "  if(k > 0):\n",
        "    result = k + tri_recursion(k - 1)\n",
        "    print(result)\n",
        "  else:\n",
        "    result = 0\n",
        "  return result\n",
        "\n",
        "print(\"\\n\\nRecursion Example Results\")\n",
        "tri_recursion(6)"
      ],
      "metadata": {
        "colab": {
          "base_uri": "https://localhost:8080/"
        },
        "id": "plkOAMbHQsNL",
        "outputId": "83444937-757d-4f64-dbf8-a719fe552f9d"
      },
      "execution_count": null,
      "outputs": [
        {
          "output_type": "stream",
          "name": "stdout",
          "text": [
            "\n",
            "\n",
            "Recursion Example Results\n",
            "1\n",
            "3\n",
            "6\n",
            "10\n",
            "15\n",
            "21\n"
          ]
        },
        {
          "output_type": "execute_result",
          "data": {
            "text/plain": [
              "21"
            ]
          },
          "metadata": {},
          "execution_count": 52
        }
      ]
    },
    {
      "cell_type": "markdown",
      "source": [
        "####Lambda"
      ],
      "metadata": {
        "id": "ZCK9vHys81qZ"
      }
    },
    {
      "cell_type": "markdown",
      "source": [
        "A lambda function is a small anonymous function.  \n",
        "A lambda function can take any number of arguments, but can only have one expression.  \n",
        "\n",
        "The power of lambda is better shown when you use them as an anonymous function inside another function.  \n",
        "Say you have a function definition that takes one argument, and that argument will be multiplied with an unknown number:"
      ],
      "metadata": {
        "id": "HxNYyi7J9IU9"
      }
    },
    {
      "cell_type": "code",
      "source": [
        "x = lambda a, b, c: a + b + c\n",
        "print(x(5, 6, 2))"
      ],
      "metadata": {
        "colab": {
          "base_uri": "https://localhost:8080/"
        },
        "id": "pkeSlB3q-w7D",
        "outputId": "0c362aeb-02a1-4707-d36c-8466c1ab0460"
      },
      "execution_count": null,
      "outputs": [
        {
          "output_type": "stream",
          "name": "stdout",
          "text": [
            "13\n"
          ]
        }
      ]
    },
    {
      "cell_type": "code",
      "source": [
        "def myfunc(n):\n",
        "  return lambda a : a * n\n",
        "\n",
        "mydoubler = myfunc(3)\n",
        "\n",
        "print(mydoubler(11))"
      ],
      "metadata": {
        "colab": {
          "base_uri": "https://localhost:8080/"
        },
        "id": "KaolTQBZ9tGd",
        "outputId": "91e30e5c-6e4c-41bd-8a44-5e86f21084f8"
      },
      "execution_count": null,
      "outputs": [
        {
          "output_type": "stream",
          "name": "stdout",
          "text": [
            "33\n"
          ]
        }
      ]
    },
    {
      "cell_type": "markdown",
      "source": [
        "####Class"
      ],
      "metadata": {
        "id": "Oc7jgt6q-Fta"
      }
    },
    {
      "cell_type": "markdown",
      "source": [
        "Almost everything in Python is an object, with its properties and methods.  \n",
        "A Class is like an object constructor, or a \"blueprint\" for creating objects."
      ],
      "metadata": {
        "id": "n_jR7qwf-IR9"
      }
    },
    {
      "cell_type": "code",
      "source": [
        "class Person:\n",
        "  def __init__(self, name, age):\n",
        "    self.name = name\n",
        "    self.age = age\n",
        "\n",
        "p1 = Person(\"John\", 36)\n",
        "\n",
        "print(p1.name)\n",
        "print(p1.age)\n",
        "\n",
        "# we can modify parameters like this:\n",
        "p1.age = 40\n",
        "print(p1.age)"
      ],
      "metadata": {
        "colab": {
          "base_uri": "https://localhost:8080/"
        },
        "id": "8WmhaD2_-yXN",
        "outputId": "0756a878-c023-4b15-8378-cfc34701ed86"
      },
      "execution_count": null,
      "outputs": [
        {
          "output_type": "stream",
          "name": "stdout",
          "text": [
            "John\n",
            "36\n",
            "40\n"
          ]
        }
      ]
    },
    {
      "cell_type": "markdown",
      "source": [
        "The \\_\\_str__() function controls what should be returned when the class object is represented as a string.\n",
        "\n",
        "If the \\_\\_str__() function is not set, the string representation of the object is returned:"
      ],
      "metadata": {
        "id": "IPg0mNdo-e_T"
      }
    },
    {
      "cell_type": "code",
      "source": [
        "class Person:\n",
        "  def __init__(self, name, age):\n",
        "    self.name = name\n",
        "    self.age = age\n",
        "\n",
        "  def __str__(self):\n",
        "    return f\"{self.name}({self.age})\"\n",
        "\n",
        "p1 = Person(\"John\", 36)\n",
        "\n",
        "print(p1)"
      ],
      "metadata": {
        "colab": {
          "base_uri": "https://localhost:8080/"
        },
        "id": "c3Seilbu-OT9",
        "outputId": "5f245d24-da55-4d74-be44-2a871185ac96"
      },
      "execution_count": null,
      "outputs": [
        {
          "output_type": "stream",
          "name": "stdout",
          "text": [
            "John(36)\n"
          ]
        }
      ]
    },
    {
      "cell_type": "markdown",
      "source": [
        "Objects can also contain methods. Methods in objects are functions that belong to the object.\n",
        "\n",
        "Let us create a method in the Person class:"
      ],
      "metadata": {
        "id": "POHlv98Q-_LN"
      }
    },
    {
      "cell_type": "code",
      "source": [
        "class Person:\n",
        "  def __init__(self, name, age):\n",
        "    self.name = name\n",
        "    self.age = age\n",
        "\n",
        "  def myfunc(self):\n",
        "    print(\"Hello my name is \" + self.name)\n",
        "\n",
        "p1 = Person(\"John\", 36)\n",
        "p1.myfunc()\n"
      ],
      "metadata": {
        "colab": {
          "base_uri": "https://localhost:8080/"
        },
        "id": "_7FQOE2s_Bwd",
        "outputId": "4e2a4c8c-8ba9-4020-a2da-0dbe2b0ad21e"
      },
      "execution_count": null,
      "outputs": [
        {
          "output_type": "stream",
          "name": "stdout",
          "text": [
            "Hello my name is John\n"
          ]
        }
      ]
    },
    {
      "cell_type": "markdown",
      "source": [
        "####NumPy"
      ],
      "metadata": {
        "id": "pLdWVj0L_wj9"
      }
    },
    {
      "cell_type": "markdown",
      "source": [
        "NumPy is a Python library used for working with arrays.  \n",
        "It also has functions for working in domain of linear algebra, fourier transform, and matrices.  \n",
        "NumPy was created in 2005 by Travis Oliphant. It is an open source project and you can use it freely.  \n",
        "NumPy stands for Numerical Python.\n",
        "\n",
        "####**Why Use NumPy?**\n",
        "In Python we have lists that serve the purpose of arrays, but they are slow to process.  \n",
        "NumPy aims to provide an array object that is up to 50x faster than traditional Python lists.  \n",
        "The array object in NumPy is called **ndarray**, it provides a lot of supporting functions that make working with **ndarray** very easy.\n",
        "\n",
        "####**Which Language is NumPy written in?**\n",
        "NumPy is a Python library and is written partially in Python, but most of the parts that require fast computation are written in C or C++."
      ],
      "metadata": {
        "id": "xYXT5Oqg_1xq"
      }
    },
    {
      "cell_type": "markdown",
      "source": [
        "NumPy is usually imported under the np alias."
      ],
      "metadata": {
        "id": "29-fBn6lAg_N"
      }
    },
    {
      "cell_type": "code",
      "source": [
        "import numpy as np\n",
        "\n",
        "print(np.__version__)"
      ],
      "metadata": {
        "colab": {
          "base_uri": "https://localhost:8080/"
        },
        "id": "KxRgTowA_wHp",
        "outputId": "1ddab248-6b5d-40c2-bba7-62a8afab9208"
      },
      "execution_count": null,
      "outputs": [
        {
          "output_type": "stream",
          "name": "stdout",
          "text": [
            "1.22.4\n"
          ]
        }
      ]
    },
    {
      "cell_type": "code",
      "source": [
        "import numpy as np\n",
        "\n",
        "arr = np.array([1, 2, 3, 4, 5])\n",
        "print(f'the array {arr}')\n",
        "print(type(arr))\n",
        "\n",
        "print('dimentions of ndarray')\n",
        "a = np.array(42)\n",
        "b = np.array([1, 2, 3, 4, 5])\n",
        "c = np.array([[1, 2, 3], [4, 5, 6]])\n",
        "d = np.array([[[1, 2, 3], [4, 5, 6]], [[1, 2, 3], [4, 5, 6]]])\n",
        "\n",
        "print(a.ndim)\n",
        "print(b.ndim)\n",
        "print(c.ndim)\n",
        "print(d.ndim)\n",
        "print('setting dimentions to list of numbers manually')\n",
        "arr = np.array([1, 2, 3, 4], ndmin=5)\n",
        "\n",
        "print(arr)\n",
        "print('number of dimensions :', arr.ndim)\n",
        "print('\\n In this array the innermost dimension (5th dim) has 4 elements, \\n the 4th dim has 1 element that is the vector, the 3rd dim has 1 element that is the matrix with the vector, \\n the 2nd dim has 1 element that is 3D array and 1st dim has 1 element that is a 4D array.')"
      ],
      "metadata": {
        "colab": {
          "base_uri": "https://localhost:8080/"
        },
        "id": "BLm51WeOAvNl",
        "outputId": "d4a0c527-3778-4dfc-b5d2-6b3790cebf8b"
      },
      "execution_count": null,
      "outputs": [
        {
          "output_type": "stream",
          "name": "stdout",
          "text": [
            "the array [1 2 3 4 5]\n",
            "<class 'numpy.ndarray'>\n",
            "dimentions of ndarray\n",
            "0\n",
            "1\n",
            "2\n",
            "3\n",
            "setting dimentions to list of numbers manually\n",
            "[[[[[1 2 3 4]]]]]\n",
            "number of dimensions : 5\n",
            "\n",
            " In this array the innermost dimension (5th dim) has 4 elements, \n",
            " the 4th dim has 1 element that is the vector, the 3rd dim has 1 element that is the matrix with the vector, \n",
            " the 2nd dim has 1 element that is 3D array and 1st dim has 1 element that is a 4D array.\n"
          ]
        }
      ]
    },
    {
      "cell_type": "markdown",
      "source": [
        "#####Indexing in NumPy"
      ],
      "metadata": {
        "id": "c0WPcHLHCbSt"
      }
    },
    {
      "cell_type": "code",
      "source": [
        "arr = np.array([[1,2,3,4,5], [6,7,8,9,10]])\n",
        "print('2nd element on 1st row: ', arr[0, 1])\n",
        "\n",
        "arr = np.array([[[1, 2, 3], [4, 5, 6]], [[7, 8, 9], [10, 11, 12]]])\n",
        "\n",
        "print(arr[0, 1, 2])"
      ],
      "metadata": {
        "colab": {
          "base_uri": "https://localhost:8080/"
        },
        "id": "iVzRXN--Cfom",
        "outputId": "dc69a4ec-7ea9-4fcd-e6f0-f7ae309a7a4d"
      },
      "execution_count": null,
      "outputs": [
        {
          "output_type": "stream",
          "name": "stdout",
          "text": [
            "2nd element on 1st row:  2\n",
            "6\n"
          ]
        }
      ]
    },
    {
      "cell_type": "markdown",
      "source": [
        "arr[0, 1, 2] prints the value 6.\n",
        "\n",
        "And this is why:\n",
        "\n",
        "The first number represents the first dimension, which contains two arrays:\n",
        "[[1, 2, 3], [4, 5, 6]]\n",
        "and:\n",
        "[[7, 8, 9], [10, 11, 12]]\n",
        "Since we selected 0, we are left with the first array:\n",
        "[[1, 2, 3], [4, 5, 6]]\n",
        "\n",
        "The second number represents the second dimension, which also contains two arrays:\n",
        "[1, 2, 3]\n",
        "and:\n",
        "[4, 5, 6]\n",
        "Since we selected 1, we are left with the second array:\n",
        "[4, 5, 6]\n",
        "\n",
        "The third number represents the third dimension, which contains three values:\n",
        "4\n",
        "5\n",
        "6\n",
        "Since we selected 2, we end up with the third value:\n",
        "6\n",
        "\n"
      ],
      "metadata": {
        "id": "VlLdDX9xCfHM"
      }
    },
    {
      "cell_type": "markdown",
      "source": [
        "Same like lists using the above logic we can do negative indexing."
      ],
      "metadata": {
        "id": "VxwOQMV8C0Ji"
      }
    },
    {
      "cell_type": "markdown",
      "source": [
        "#####Slicing arrays\n",
        "Slicing in python means taking elements from one given index to another given index.\n",
        "\n",
        "We pass slice instead of index like this: [start:end].\n",
        "\n",
        "We can also define the step, like this: [start:end:step].\n",
        "\n",
        "If we don't pass start its considered 0\n",
        "\n",
        "If we don't pass end its considered length of array in that dimension\n",
        "\n",
        "If we don't pass step its considered 1"
      ],
      "metadata": {
        "id": "DpVIiryWC_Qc"
      }
    },
    {
      "cell_type": "code",
      "source": [
        "arr = np.array([1, 2, 3, 4, 5, 6, 7])\n",
        "\n",
        "print(arr[1:5:2])"
      ],
      "metadata": {
        "colab": {
          "base_uri": "https://localhost:8080/"
        },
        "id": "4uYHu_4dDKIU",
        "outputId": "9423dde5-a68a-485f-da46-e83f34981f8a"
      },
      "execution_count": null,
      "outputs": [
        {
          "output_type": "stream",
          "name": "stdout",
          "text": [
            "[2 4]\n"
          ]
        }
      ]
    },
    {
      "cell_type": "code",
      "source": [
        "# Array shape\n",
        "arr = np.array([[1, 2, 3, 4], [5, 6, 7, 8]])\n",
        "print(arr.shape)\n",
        "\n",
        "arr = np.array([1, 2, 3, 4], ndmin=5)\n",
        "print(arr)\n",
        "print('shape of array :', arr.shape)"
      ],
      "metadata": {
        "colab": {
          "base_uri": "https://localhost:8080/"
        },
        "id": "f4k-_k_cDXbc",
        "outputId": "7331cca3-3d9e-485b-eb61-f1de4db1fdaf"
      },
      "execution_count": null,
      "outputs": [
        {
          "output_type": "stream",
          "name": "stdout",
          "text": [
            "(2, 4)\n",
            "[[[[[1 2 3 4]]]]]\n",
            "shape of array : (1, 1, 1, 1, 4)\n"
          ]
        }
      ]
    },
    {
      "cell_type": "code",
      "source": [
        "# Reshaping arrays\n",
        "arr = np.array([1, 2, 3, 4, 5, 6, 7, 8, 9, 10, 11, 12])\n",
        "newarr = arr.reshape(2, 3, 2)\n",
        "print(newarr)\n",
        "print('shape of array :', newarr.shape)"
      ],
      "metadata": {
        "colab": {
          "base_uri": "https://localhost:8080/"
        },
        "id": "QauHn9H-DjF8",
        "outputId": "df8c91f3-b741-4ddc-ab70-f3a5bca0be11"
      },
      "execution_count": null,
      "outputs": [
        {
          "output_type": "stream",
          "name": "stdout",
          "text": [
            "[[[ 1  2]\n",
            "  [ 3  4]\n",
            "  [ 5  6]]\n",
            "\n",
            " [[ 7  8]\n",
            "  [ 9 10]\n",
            "  [11 12]]]\n",
            "shape of array : (2, 3, 2)\n"
          ]
        }
      ]
    },
    {
      "cell_type": "code",
      "source": [
        "# Itterating in numpy array.\n",
        "arr = np.array([[[1, 2, 3], [4, 5, 6]], [[7, 8, 9], [10, 11, 12]]])\n",
        "\n",
        "for x in arr:\n",
        "  for y in x:\n",
        "    for z in y:\n",
        "      print(z)\n",
        "\n",
        "# Alternate method\n",
        "print('\\n\\nAlternate Method')\n",
        "arr = np.array([[[1, 2], [3, 4]], [[5, 6], [7, 8]]])\n",
        "\n",
        "for x in np.nditer(arr):\n",
        "  print(x)\n"
      ],
      "metadata": {
        "colab": {
          "base_uri": "https://localhost:8080/"
        },
        "id": "0BHdOjD8D_NQ",
        "outputId": "a6e33d82-4a6d-4e4e-828a-e37700550581"
      },
      "execution_count": null,
      "outputs": [
        {
          "output_type": "stream",
          "name": "stdout",
          "text": [
            "1\n",
            "2\n",
            "3\n",
            "4\n",
            "5\n",
            "6\n",
            "7\n",
            "8\n",
            "9\n",
            "10\n",
            "11\n",
            "12\n",
            "\n",
            "\n",
            "Alternate Method\n",
            "1\n",
            "2\n",
            "3\n",
            "4\n",
            "5\n",
            "6\n",
            "7\n",
            "8\n"
          ]
        }
      ]
    },
    {
      "cell_type": "code",
      "source": [
        "# Joining NumPy Arrays\n",
        "arr1 = np.array([[1, 2], [3, 4]])\n",
        "arr2 = np.array([[5, 6], [7, 8]])\n",
        "arr = np.concatenate((arr1, arr2), axis=1)\n",
        "print('axis as 1')\n",
        "print(arr)\n",
        "arr = np.concatenate((arr1, arr2), axis=0)\n",
        "print('axis as 0')\n",
        "print(arr)"
      ],
      "metadata": {
        "colab": {
          "base_uri": "https://localhost:8080/"
        },
        "id": "j5wjBvz1EDLW",
        "outputId": "9a3d3ff1-5912-4381-b56e-99626d10119d"
      },
      "execution_count": null,
      "outputs": [
        {
          "output_type": "stream",
          "name": "stdout",
          "text": [
            "axis as 1\n",
            "[[1 2 5 6]\n",
            " [3 4 7 8]]\n",
            "axis as 0\n",
            "[[1 2]\n",
            " [3 4]\n",
            " [5 6]\n",
            " [7 8]]\n"
          ]
        }
      ]
    },
    {
      "cell_type": "code",
      "source": [
        "# NumPy provides a helper function: hstack() to stack along rows.\n",
        "arr1 = np.array([1, 2, 3])\n",
        "arr2 = np.array([4, 5, 6])\n",
        "arr = np.hstack((arr1, arr2))\n",
        "print('horizontal stacking')\n",
        "print(arr)\n",
        "arr = np.vstack((arr1, arr2))\n",
        "print('vertical stacking')\n",
        "print(arr)"
      ],
      "metadata": {
        "colab": {
          "base_uri": "https://localhost:8080/"
        },
        "id": "m9I9BtbAE1Tk",
        "outputId": "c3e4458d-3101-4f5b-e753-54468b0eecf5"
      },
      "execution_count": null,
      "outputs": [
        {
          "output_type": "stream",
          "name": "stdout",
          "text": [
            "horizontal stacking\n",
            "[1 2 3 4 5 6]\n",
            "vertical stacking\n",
            "[[1 2 3]\n",
            " [4 5 6]]\n"
          ]
        }
      ]
    },
    {
      "cell_type": "code",
      "source": [
        "# array splitting\n",
        "arr = np.array([1, 2, 3, 4, 5, 6])\n",
        "newarr = np.array_split(arr, 3)\n",
        "print(newarr[0])\n",
        "print(newarr[1])\n",
        "print(newarr[2])"
      ],
      "metadata": {
        "colab": {
          "base_uri": "https://localhost:8080/"
        },
        "id": "tdsIdeDTFb71",
        "outputId": "413be060-669a-4373-979e-43c733374c73"
      },
      "execution_count": null,
      "outputs": [
        {
          "output_type": "stream",
          "name": "stdout",
          "text": [
            "[1 2]\n",
            "[3 4]\n",
            "[5 6]\n"
          ]
        }
      ]
    },
    {
      "cell_type": "code",
      "source": [
        "# getting index of the element (where)\n",
        "arr = np.array([1, 2, 3, 4, 5, 4, 4,3,3])\n",
        "x = np.where(arr == 4)\n",
        "print(x)\n",
        "print('x == 3')\n",
        "x = np.where(arr == 3)\n",
        "print(x)"
      ],
      "metadata": {
        "colab": {
          "base_uri": "https://localhost:8080/"
        },
        "id": "yAlThNCDFxMy",
        "outputId": "59d80985-8489-4b98-d097-ee8317ce185a"
      },
      "execution_count": null,
      "outputs": [
        {
          "output_type": "stream",
          "name": "stdout",
          "text": [
            "(array([3, 5, 6]),)\n",
            "x == 3\n",
            "(array([2, 7, 8]),)\n"
          ]
        }
      ]
    },
    {
      "cell_type": "code",
      "source": [
        "# Sorting NP array\n",
        "arr = np.array([3, 2, 0, 1])\n",
        "\n",
        "print(np.sort(arr))\n",
        "print(arr, 'it just sorts temp as its a method not function')"
      ],
      "metadata": {
        "colab": {
          "base_uri": "https://localhost:8080/"
        },
        "id": "8JFYNWArGXAz",
        "outputId": "11e83ac6-b043-436b-cbc2-19bd4de4aff6"
      },
      "execution_count": null,
      "outputs": [
        {
          "output_type": "stream",
          "name": "stdout",
          "text": [
            "[0 1 2 3]\n",
            "[3 2 0 1] it just sorts temp as its a method not function\n"
          ]
        }
      ]
    },
    {
      "cell_type": "code",
      "source": [
        "# filtering array\n",
        "arr = np.array([1, 2, 3, 4, 5, 6, 7])\n",
        "filter_arr = arr % 2 == 0\n",
        "newarr = arr[filter_arr]\n",
        "print(filter_arr)\n",
        "print(newarr)"
      ],
      "metadata": {
        "id": "eDyM0-lgG--I",
        "outputId": "26375325-a52a-4a04-d4dd-49c171232df3",
        "colab": {
          "base_uri": "https://localhost:8080/"
        }
      },
      "execution_count": null,
      "outputs": [
        {
          "output_type": "stream",
          "name": "stdout",
          "text": [
            "[False  True False  True False  True False]\n",
            "[2 4 6]\n"
          ]
        }
      ]
    },
    {
      "cell_type": "markdown",
      "source": [
        "#####Random Number"
      ],
      "metadata": {
        "id": "YcraQd7Ptk_Y"
      }
    },
    {
      "cell_type": "code",
      "source": [
        "from numpy import random\n",
        "x = random.randint(100)   # random int value within 100\n",
        "print(x)\n",
        "x = random.rand()         #rendom float value\n",
        "print(x)\n",
        "\n",
        "x=random.randint(100, size=(5))   #list of 5 numbers\n",
        "\n",
        "print(x)"
      ],
      "metadata": {
        "colab": {
          "base_uri": "https://localhost:8080/"
        },
        "id": "HLrb51JZtwuB",
        "outputId": "d22e7589-f6dd-4e84-a43d-0436f1e51eea"
      },
      "execution_count": null,
      "outputs": [
        {
          "output_type": "stream",
          "name": "stdout",
          "text": [
            "91\n",
            "0.5285352708935245\n",
            "[30 73 34  2 91]\n"
          ]
        }
      ]
    },
    {
      "cell_type": "code",
      "source": [
        "# Random choice with probability\n",
        "# Note: The sum of all probability numbers should be 1.\n",
        "from numpy import random\n",
        "\n",
        "x = random.choice([3, 5, 7, 9], p=[0.1, 0.3, 0.6, 0.0], size=(100))\n",
        "\n",
        "print(x)"
      ],
      "metadata": {
        "colab": {
          "base_uri": "https://localhost:8080/"
        },
        "id": "l75JemYZjmnr",
        "outputId": "bf919fdf-3d1d-43f6-ed01-4e07c3b0ca89"
      },
      "execution_count": null,
      "outputs": [
        {
          "output_type": "stream",
          "name": "stdout",
          "text": [
            "[5 7 5 5 7 7 5 3 7 5 3 7 5 7 3 7 5 7 7 5 5 7 7 5 7 7 7 5 7 7 7 7 7 5 7 7 5\n",
            " 5 5 5 7 7 5 7 3 7 7 7 7 7 5 7 7 7 3 7 5 7 7 7 7 7 3 7 7 5 7 3 7 7 7 7 7 5\n",
            " 7 7 5 3 5 5 7 5 5 7 7 5 5 7 5 7 7 7 7 7 7 7 5 5 7 7]\n"
          ]
        }
      ]
    },
    {
      "cell_type": "markdown",
      "source": [
        "####Pandas"
      ],
      "metadata": {
        "id": "LSiHjBQ3kJRg"
      }
    },
    {
      "cell_type": "markdown",
      "source": [
        "What is Pandas?\n",
        "Pandas is a Python library used for working with data sets.\n",
        "\n",
        "It has functions for analyzing, cleaning, exploring, and manipulating data.\n",
        "\n",
        "The name \"Pandas\" has a reference to both \"Panel Data\", and \"Python Data Analysis\" and was created by Wes McKinney in 2008.\n",
        "\n",
        "Why Use Pandas?\n",
        "Pandas allows us to analyze big data and make conclusions based on statistical theories.\n",
        "\n",
        "Pandas can clean messy data sets, and make them readable and relevant.\n",
        "\n",
        "Relevant data is very important in data science.\n",
        "\n",
        "What Can Pandas Do?\n",
        "Pandas gives you answers about the data. Like:\n",
        "\n",
        "Is there a correlation between two or more columns?\n",
        "What is average value?  \n",
        "Max value?  \n",
        "Min value?  \n",
        "Pandas are also able to delete rows that are not relevant, or contains wrong values, like empty or NULL values. This is called cleaning the data.  "
      ],
      "metadata": {
        "id": "Nm5vIYWFkUH8"
      }
    },
    {
      "cell_type": "code",
      "source": [
        "# Example for series\n",
        "import pandas as pd\n",
        "calories = {\"day1\": 420, \"day2\": 380, \"day3\": 390}\n",
        "myvar = pd.Series(calories)\n",
        "print(myvar)"
      ],
      "metadata": {
        "colab": {
          "base_uri": "https://localhost:8080/"
        },
        "id": "8FxV0YL1ku31",
        "outputId": "d16a2628-222c-444d-ce84-b6506dc47ba3"
      },
      "execution_count": null,
      "outputs": [
        {
          "output_type": "stream",
          "name": "stdout",
          "text": [
            "day1    420\n",
            "day2    380\n",
            "day3    390\n",
            "dtype: int64\n"
          ]
        }
      ]
    },
    {
      "cell_type": "markdown",
      "source": [
        "if we have data as list or a dictionary with one key and and one value pair we use Series note the capital S"
      ],
      "metadata": {
        "id": "Gn3nOiN9krwn"
      }
    },
    {
      "cell_type": "code",
      "source": [
        "# dataframe\n",
        "import pandas as pd\n",
        "\n",
        "data = {\n",
        "  \"calories\": [420, 380, 390],\n",
        "  \"duration\": [50, 40, 45]\n",
        "}\n",
        "\n",
        "df = pd.DataFrame(data, index = [\"day1\", \"day2\", \"day3\"])\n",
        "\n",
        "print(df)\n",
        "print('\\n\\nindexing by location')\n",
        "# indexing by location\n",
        "print(df.loc[\"day2\"])"
      ],
      "metadata": {
        "colab": {
          "base_uri": "https://localhost:8080/"
        },
        "id": "320JPQpdlCdD",
        "outputId": "af07b2f3-9f1e-4a87-8bd9-64f7fa25d46f"
      },
      "execution_count": null,
      "outputs": [
        {
          "output_type": "stream",
          "name": "stdout",
          "text": [
            "      calories  duration\n",
            "day1       420        50\n",
            "day2       380        40\n",
            "day3       390        45\n",
            "\n",
            "\n",
            "indexing by location\n",
            "calories    380\n",
            "duration     40\n",
            "Name: day2, dtype: int64\n"
          ]
        }
      ]
    },
    {
      "cell_type": "markdown",
      "source": [
        "# how we read csv\n",
        "df = pd.read_csv('filepath.csv')\n",
        "\n",
        "print(df)\n",
        "\n",
        "# similarly json\n",
        "df = pd.read_json('data.json')\n",
        "\n",
        "print(df.to_string())"
      ],
      "metadata": {
        "id": "YXM81-RzmL3x"
      }
    },
    {
      "cell_type": "code",
      "source": [
        "data = {\n",
        "  \"Duration\":{\n",
        "    \"0\":60,\n",
        "    \"1\":60,\n",
        "    \"2\":60,\n",
        "    \"3\":45,\n",
        "    \"4\":45,\n",
        "    \"5\":60\n",
        "  },\n",
        "  \"Pulse\":{\n",
        "    \"0\":110,\n",
        "    \"1\":117,\n",
        "    \"2\":103,\n",
        "    \"3\":109,\n",
        "    \"4\":117,\n",
        "    \"5\":102\n",
        "  },\n",
        "  \"Maxpulse\":{\n",
        "    \"0\":130,\n",
        "    \"1\":145,\n",
        "    \"2\":135,\n",
        "    \"3\":175,\n",
        "    \"4\":148,\n",
        "    \"5\":127\n",
        "  },\n",
        "  \"Calories\":{\n",
        "    \"0\":409,\n",
        "    \"1\":479,\n",
        "    \"2\":340,\n",
        "    \"3\":282,\n",
        "    \"4\":406,\n",
        "    \"5\":300\n",
        "  }\n",
        "}\n",
        "\n",
        "df = pd.DataFrame(data)\n",
        "\n",
        "print(df)\n"
      ],
      "metadata": {
        "colab": {
          "base_uri": "https://localhost:8080/"
        },
        "id": "Y_UNyOBplzWH",
        "outputId": "1ffbe8d5-b8d6-4907-95ac-989543bd659e"
      },
      "execution_count": null,
      "outputs": [
        {
          "output_type": "stream",
          "name": "stdout",
          "text": [
            "   Duration  Pulse  Maxpulse  Calories\n",
            "0        60    110       130       409\n",
            "1        60    117       145       479\n",
            "2        60    103       135       340\n",
            "3        45    109       175       282\n",
            "4        45    117       148       406\n",
            "5        60    102       127       300\n"
          ]
        }
      ]
    },
    {
      "cell_type": "code",
      "source": [
        "file_path = '/content/drive/MyDrive/Colab Notebooks/data/dat/data.csv'\n",
        "df = pd.read_csv(file_path)\n",
        "print(df.head())"
      ],
      "metadata": {
        "colab": {
          "base_uri": "https://localhost:8080/"
        },
        "id": "J3pNt-8Sq4Gp",
        "outputId": "52fe26ae-25b3-4bb0-85bb-2f4d525deb50"
      },
      "execution_count": null,
      "outputs": [
        {
          "output_type": "stream",
          "name": "stdout",
          "text": [
            "   Duration  Pulse  Maxpulse  Calories\n",
            "0        60    110       130     409.1\n",
            "1        60    117       145     479.0\n",
            "2        60    103       135     340.0\n",
            "3        45    109       175     282.4\n",
            "4        45    117       148     406.0\n"
          ]
        }
      ]
    },
    {
      "cell_type": "code",
      "source": [
        "df1 = df.copy()"
      ],
      "metadata": {
        "id": "tQ38umForpkQ"
      },
      "execution_count": null,
      "outputs": []
    },
    {
      "cell_type": "code",
      "source": [
        "df.info()"
      ],
      "metadata": {
        "colab": {
          "base_uri": "https://localhost:8080/"
        },
        "id": "7rAfrP2druBx",
        "outputId": "5bab85a5-5475-42a0-e27e-c2c0cb648f65"
      },
      "execution_count": null,
      "outputs": [
        {
          "output_type": "stream",
          "name": "stdout",
          "text": [
            "<class 'pandas.core.frame.DataFrame'>\n",
            "RangeIndex: 169 entries, 0 to 168\n",
            "Data columns (total 4 columns):\n",
            " #   Column    Non-Null Count  Dtype  \n",
            "---  ------    --------------  -----  \n",
            " 0   Duration  169 non-null    int64  \n",
            " 1   Pulse     169 non-null    int64  \n",
            " 2   Maxpulse  169 non-null    int64  \n",
            " 3   Calories  164 non-null    float64\n",
            "dtypes: float64(1), int64(3)\n",
            "memory usage: 5.4 KB\n"
          ]
        }
      ]
    },
    {
      "cell_type": "code",
      "source": [
        "df.describe()"
      ],
      "metadata": {
        "colab": {
          "base_uri": "https://localhost:8080/",
          "height": 300
        },
        "id": "JlXqN3tir0JE",
        "outputId": "f128a6bc-53e7-4aca-fb96-3f581d37cbbd"
      },
      "execution_count": null,
      "outputs": [
        {
          "output_type": "execute_result",
          "data": {
            "text/plain": [
              "         Duration       Pulse    Maxpulse     Calories\n",
              "count  169.000000  169.000000  169.000000   164.000000\n",
              "mean    63.846154  107.461538  134.047337   375.790244\n",
              "std     42.299949   14.510259   16.450434   266.379919\n",
              "min     15.000000   80.000000  100.000000    50.300000\n",
              "25%     45.000000  100.000000  124.000000   250.925000\n",
              "50%     60.000000  105.000000  131.000000   318.600000\n",
              "75%     60.000000  111.000000  141.000000   387.600000\n",
              "max    300.000000  159.000000  184.000000  1860.400000"
            ],
            "text/html": [
              "\n",
              "  <div id=\"df-07bf2eaf-06a9-4a6e-9899-9e14bac845e4\">\n",
              "    <div class=\"colab-df-container\">\n",
              "      <div>\n",
              "<style scoped>\n",
              "    .dataframe tbody tr th:only-of-type {\n",
              "        vertical-align: middle;\n",
              "    }\n",
              "\n",
              "    .dataframe tbody tr th {\n",
              "        vertical-align: top;\n",
              "    }\n",
              "\n",
              "    .dataframe thead th {\n",
              "        text-align: right;\n",
              "    }\n",
              "</style>\n",
              "<table border=\"1\" class=\"dataframe\">\n",
              "  <thead>\n",
              "    <tr style=\"text-align: right;\">\n",
              "      <th></th>\n",
              "      <th>Duration</th>\n",
              "      <th>Pulse</th>\n",
              "      <th>Maxpulse</th>\n",
              "      <th>Calories</th>\n",
              "    </tr>\n",
              "  </thead>\n",
              "  <tbody>\n",
              "    <tr>\n",
              "      <th>count</th>\n",
              "      <td>169.000000</td>\n",
              "      <td>169.000000</td>\n",
              "      <td>169.000000</td>\n",
              "      <td>164.000000</td>\n",
              "    </tr>\n",
              "    <tr>\n",
              "      <th>mean</th>\n",
              "      <td>63.846154</td>\n",
              "      <td>107.461538</td>\n",
              "      <td>134.047337</td>\n",
              "      <td>375.790244</td>\n",
              "    </tr>\n",
              "    <tr>\n",
              "      <th>std</th>\n",
              "      <td>42.299949</td>\n",
              "      <td>14.510259</td>\n",
              "      <td>16.450434</td>\n",
              "      <td>266.379919</td>\n",
              "    </tr>\n",
              "    <tr>\n",
              "      <th>min</th>\n",
              "      <td>15.000000</td>\n",
              "      <td>80.000000</td>\n",
              "      <td>100.000000</td>\n",
              "      <td>50.300000</td>\n",
              "    </tr>\n",
              "    <tr>\n",
              "      <th>25%</th>\n",
              "      <td>45.000000</td>\n",
              "      <td>100.000000</td>\n",
              "      <td>124.000000</td>\n",
              "      <td>250.925000</td>\n",
              "    </tr>\n",
              "    <tr>\n",
              "      <th>50%</th>\n",
              "      <td>60.000000</td>\n",
              "      <td>105.000000</td>\n",
              "      <td>131.000000</td>\n",
              "      <td>318.600000</td>\n",
              "    </tr>\n",
              "    <tr>\n",
              "      <th>75%</th>\n",
              "      <td>60.000000</td>\n",
              "      <td>111.000000</td>\n",
              "      <td>141.000000</td>\n",
              "      <td>387.600000</td>\n",
              "    </tr>\n",
              "    <tr>\n",
              "      <th>max</th>\n",
              "      <td>300.000000</td>\n",
              "      <td>159.000000</td>\n",
              "      <td>184.000000</td>\n",
              "      <td>1860.400000</td>\n",
              "    </tr>\n",
              "  </tbody>\n",
              "</table>\n",
              "</div>\n",
              "      <button class=\"colab-df-convert\" onclick=\"convertToInteractive('df-07bf2eaf-06a9-4a6e-9899-9e14bac845e4')\"\n",
              "              title=\"Convert this dataframe to an interactive table.\"\n",
              "              style=\"display:none;\">\n",
              "        \n",
              "  <svg xmlns=\"http://www.w3.org/2000/svg\" height=\"24px\"viewBox=\"0 0 24 24\"\n",
              "       width=\"24px\">\n",
              "    <path d=\"M0 0h24v24H0V0z\" fill=\"none\"/>\n",
              "    <path d=\"M18.56 5.44l.94 2.06.94-2.06 2.06-.94-2.06-.94-.94-2.06-.94 2.06-2.06.94zm-11 1L8.5 8.5l.94-2.06 2.06-.94-2.06-.94L8.5 2.5l-.94 2.06-2.06.94zm10 10l.94 2.06.94-2.06 2.06-.94-2.06-.94-.94-2.06-.94 2.06-2.06.94z\"/><path d=\"M17.41 7.96l-1.37-1.37c-.4-.4-.92-.59-1.43-.59-.52 0-1.04.2-1.43.59L10.3 9.45l-7.72 7.72c-.78.78-.78 2.05 0 2.83L4 21.41c.39.39.9.59 1.41.59.51 0 1.02-.2 1.41-.59l7.78-7.78 2.81-2.81c.8-.78.8-2.07 0-2.86zM5.41 20L4 18.59l7.72-7.72 1.47 1.35L5.41 20z\"/>\n",
              "  </svg>\n",
              "      </button>\n",
              "      \n",
              "  <style>\n",
              "    .colab-df-container {\n",
              "      display:flex;\n",
              "      flex-wrap:wrap;\n",
              "      gap: 12px;\n",
              "    }\n",
              "\n",
              "    .colab-df-convert {\n",
              "      background-color: #E8F0FE;\n",
              "      border: none;\n",
              "      border-radius: 50%;\n",
              "      cursor: pointer;\n",
              "      display: none;\n",
              "      fill: #1967D2;\n",
              "      height: 32px;\n",
              "      padding: 0 0 0 0;\n",
              "      width: 32px;\n",
              "    }\n",
              "\n",
              "    .colab-df-convert:hover {\n",
              "      background-color: #E2EBFA;\n",
              "      box-shadow: 0px 1px 2px rgba(60, 64, 67, 0.3), 0px 1px 3px 1px rgba(60, 64, 67, 0.15);\n",
              "      fill: #174EA6;\n",
              "    }\n",
              "\n",
              "    [theme=dark] .colab-df-convert {\n",
              "      background-color: #3B4455;\n",
              "      fill: #D2E3FC;\n",
              "    }\n",
              "\n",
              "    [theme=dark] .colab-df-convert:hover {\n",
              "      background-color: #434B5C;\n",
              "      box-shadow: 0px 1px 3px 1px rgba(0, 0, 0, 0.15);\n",
              "      filter: drop-shadow(0px 1px 2px rgba(0, 0, 0, 0.3));\n",
              "      fill: #FFFFFF;\n",
              "    }\n",
              "  </style>\n",
              "\n",
              "      <script>\n",
              "        const buttonEl =\n",
              "          document.querySelector('#df-07bf2eaf-06a9-4a6e-9899-9e14bac845e4 button.colab-df-convert');\n",
              "        buttonEl.style.display =\n",
              "          google.colab.kernel.accessAllowed ? 'block' : 'none';\n",
              "\n",
              "        async function convertToInteractive(key) {\n",
              "          const element = document.querySelector('#df-07bf2eaf-06a9-4a6e-9899-9e14bac845e4');\n",
              "          const dataTable =\n",
              "            await google.colab.kernel.invokeFunction('convertToInteractive',\n",
              "                                                     [key], {});\n",
              "          if (!dataTable) return;\n",
              "\n",
              "          const docLinkHtml = 'Like what you see? Visit the ' +\n",
              "            '<a target=\"_blank\" href=https://colab.research.google.com/notebooks/data_table.ipynb>data table notebook</a>'\n",
              "            + ' to learn more about interactive tables.';\n",
              "          element.innerHTML = '';\n",
              "          dataTable['output_type'] = 'display_data';\n",
              "          await google.colab.output.renderOutput(dataTable, element);\n",
              "          const docLink = document.createElement('div');\n",
              "          docLink.innerHTML = docLinkHtml;\n",
              "          element.appendChild(docLink);\n",
              "        }\n",
              "      </script>\n",
              "    </div>\n",
              "  </div>\n",
              "  "
            ]
          },
          "metadata": {},
          "execution_count": 14
        }
      ]
    },
    {
      "cell_type": "code",
      "source": [
        "df.columns"
      ],
      "metadata": {
        "colab": {
          "base_uri": "https://localhost:8080/"
        },
        "id": "K7GcrdIGsTJv",
        "outputId": "e07b29d6-167e-41b4-d477-c48d361c5309"
      },
      "execution_count": null,
      "outputs": [
        {
          "output_type": "execute_result",
          "data": {
            "text/plain": [
              "Index(['Duration', 'Pulse', 'Maxpulse', 'Calories'], dtype='object')"
            ]
          },
          "metadata": {},
          "execution_count": 17
        }
      ]
    },
    {
      "cell_type": "code",
      "source": [
        "df.shape"
      ],
      "metadata": {
        "colab": {
          "base_uri": "https://localhost:8080/"
        },
        "id": "pYwgFuOcsIeA",
        "outputId": "c93b0032-5744-4090-855b-cf9675adde27"
      },
      "execution_count": null,
      "outputs": [
        {
          "output_type": "execute_result",
          "data": {
            "text/plain": [
              "(169, 4)"
            ]
          },
          "metadata": {},
          "execution_count": 15
        }
      ]
    },
    {
      "cell_type": "code",
      "source": [
        "dup = df.duplicated().sum()\n",
        "print(dup, '\\n', '*'*30)\n",
        "missing_values = df.isna().sum()\n",
        "print(missing_values)"
      ],
      "metadata": {
        "colab": {
          "base_uri": "https://localhost:8080/"
        },
        "id": "7hn3zYj-sL-p",
        "outputId": "cdd38df0-9835-4d3a-e3d9-6979ee2554d8"
      },
      "execution_count": null,
      "outputs": [
        {
          "output_type": "stream",
          "name": "stdout",
          "text": [
            "7 \n",
            " ******************************\n",
            "Duration    0\n",
            "Pulse       0\n",
            "Maxpulse    0\n",
            "Calories    5\n",
            "dtype: int64\n"
          ]
        }
      ]
    },
    {
      "cell_type": "code",
      "source": [
        "# # to drop na\n",
        "# df = df.dropna()\n",
        "# # to drop subset of null column\n",
        "# df = df.drop_duplicates(subset=['App'],keep=\"first\")"
      ],
      "metadata": {
        "id": "OB_5BdlNsorr"
      },
      "execution_count": null,
      "outputs": []
    },
    {
      "cell_type": "markdown",
      "source": [
        "for numpy and pandas revision  \n",
        "[practice problems](https://colab.research.google.com/drive/1rgRdE1j3E_MCH1xyIUSZBmb8tZszSgJl?usp=sharing)"
      ],
      "metadata": {
        "id": "cqsPCLXcwHOe"
      }
    }
  ]
}