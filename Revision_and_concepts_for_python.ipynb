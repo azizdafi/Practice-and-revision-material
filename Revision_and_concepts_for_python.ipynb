{
  "nbformat": 4,
  "nbformat_minor": 0,
  "metadata": {
    "colab": {
      "provenance": [],
      "authorship_tag": "ABX9TyOiTI+I7fPZgAq+pN4S4UNw",
      "include_colab_link": true
    },
    "kernelspec": {
      "name": "python3",
      "display_name": "Python 3"
    },
    "language_info": {
      "name": "python"
    }
  },
  "cells": [
    {
      "cell_type": "markdown",
      "metadata": {
        "id": "view-in-github",
        "colab_type": "text"
      },
      "source": [
        "<a href=\"https://colab.research.google.com/github/azizdafi/Practice-and-revision-material/blob/main/Revision_and_concepts_for_python.ipynb\" target=\"_parent\"><img src=\"https://colab.research.google.com/assets/colab-badge.svg\" alt=\"Open In Colab\"/></a>"
      ]
    },
    {
      "cell_type": "markdown",
      "source": [
        "## Python Variables\n",
        "A variable is created the moment you first assign a value to it."
      ],
      "metadata": {
        "id": "itRmFz6oXBkI"
      }
    },
    {
      "cell_type": "markdown",
      "source": [
        "### Rules for declaring a variable:\n",
        "\n",
        "* A variable name must start with a letter or the underscore character\n",
        "* A variable name cannot start with a number\n",
        "* A variable name can only contain alpha-numeric characters and underscores (A-z, 0-9, and _ )\n",
        "* Variable names are case-sensitive (age, Age and AGE are three different variables)\n",
        "* A variable name cannot be any of the Python keywords.\n",
        "\n",
        "Note: Remember that variable names are case-sensitive"
      ],
      "metadata": {
        "id": "vdMHKfMvYsso"
      }
    },
    {
      "cell_type": "markdown",
      "source": [
        "Some example of declaring a variable."
      ],
      "metadata": {
        "id": "7CkCdYskZOqo"
      }
    },
    {
      "cell_type": "code",
      "execution_count": 3,
      "metadata": {
        "colab": {
          "base_uri": "https://localhost:8080/"
        },
        "id": "lJrXsOqFWm0i",
        "outputId": "9319f52c-cb82-44c3-b5f5-717c8517a63c"
      },
      "outputs": [
        {
          "output_type": "stream",
          "name": "stdout",
          "text": [
            "5\n",
            "<class 'int'>\n",
            "John\n",
            "<class 'str'>\n",
            "1.0\n",
            "<class 'float'>\n",
            "(1+4j)\n",
            "<class 'complex'>\n",
            "True\n",
            "<class 'bool'>\n"
          ]
        }
      ],
      "source": [
        "x = 5       # this creates a variable of type int\n",
        "print(x)\n",
        "print(type(x))\n",
        "###########################\n",
        "y = \"John\"       # this creates a variable of type str\n",
        "print(y)\n",
        "print(type(y))\n",
        "###########################\n",
        "z = 1.0       # this creates a variable of type float\n",
        "print(z)\n",
        "print(type(z))\n",
        "###########################\n",
        "z = 1 + 4j       # this creates a variable of type Complex\n",
        "print(z)\n",
        "print(type(z))\n",
        "x = True       # this creates a variable of type Boolean\n",
        "print(x)\n",
        "print(type(x))\n",
        "###########################"
      ]
    },
    {
      "cell_type": "markdown",
      "source": [
        "## Python Casting"
      ],
      "metadata": {
        "id": "W2shoqCSaScE"
      }
    },
    {
      "cell_type": "markdown",
      "source": [
        "forcing a data type to change its type is known as casting, how ever it is important for us to undersatnd that the forcefull casting can be done only if the data can be converted to what we are planning to, for example we cannot convert string a as int.\n"
      ],
      "metadata": {
        "id": "j0H-5dKfaUhT"
      }
    },
    {
      "cell_type": "code",
      "source": [
        "var =\n",
        "x = int(1)   # x will be int\n",
        "x = float(1)     # x will be float (1.0)\n",
        "x = str(3.0)  # z will be string  ('3.0')"
      ],
      "metadata": {
        "id": "_4wnnCzhivYB"
      },
      "execution_count": null,
      "outputs": []
    },
    {
      "cell_type": "markdown",
      "source": [
        "## Strings"
      ],
      "metadata": {
        "id": "TdRp1HRqjbg_"
      }
    },
    {
      "cell_type": "code",
      "source": [
        "print(\"Hello with double quotes\")\n",
        "print('Hello with single quotes')\n",
        "a = \"Hello assigned as variable\"\n",
        "print(a)\n",
        "a = \"\"\"Hello with multiline\n",
        "string assigned\"\"\"\n",
        "print(a)"
      ],
      "metadata": {
        "colab": {
          "base_uri": "https://localhost:8080/"
        },
        "id": "wyF5qDBMjh3S",
        "outputId": "c6acdd95-a241-4974-921e-720c26d4d2e4"
      },
      "execution_count": 6,
      "outputs": [
        {
          "output_type": "stream",
          "name": "stdout",
          "text": [
            "Hello with double quotes\n",
            "Hello with single quotes\n",
            "Hello assigned as variable\n",
            "Hello with multiline\n",
            "string assigned\n"
          ]
        }
      ]
    },
    {
      "cell_type": "code",
      "source": [
        "# String slicing:\n",
        "b = \"Hello, World!\"\n",
        "print(b[2:5])\n",
        "# indexing starts from 0 till n-1 so here output is \"llo\"\n",
        "# note: charecter present in location 5 is not printed"
      ],
      "metadata": {
        "colab": {
          "base_uri": "https://localhost:8080/"
        },
        "id": "twlZnyRfkFbJ",
        "outputId": "7b7c936b-99a4-452b-ee8e-047f38886143"
      },
      "execution_count": 8,
      "outputs": [
        {
          "output_type": "stream",
          "name": "stdout",
          "text": [
            "llo\n"
          ]
        }
      ]
    },
    {
      "cell_type": "code",
      "source": [
        "# Get the characters from the start to position 5 (not included)\n",
        "b = \"Hello, World!\"\n",
        "print(b[:5])\n",
        "print(b[5:-1]) #prints from 5 till last but 1"
      ],
      "metadata": {
        "colab": {
          "base_uri": "https://localhost:8080/"
        },
        "id": "lK_Y2q5CkHbk",
        "outputId": "d10600e5-92cf-4ee7-e67c-fcd764c8cf2e"
      },
      "execution_count": 10,
      "outputs": [
        {
          "output_type": "stream",
          "name": "stdout",
          "text": [
            "Hello\n",
            ", World\n"
          ]
        }
      ]
    },
    {
      "cell_type": "markdown",
      "source": [
        "## String Methods and examples"
      ],
      "metadata": {
        "id": "5Ql_VryTm91g"
      }
    },
    {
      "cell_type": "markdown",
      "source": [
        "####capitalize()\n",
        "Upper case the first letter in this sentence"
      ],
      "metadata": {
        "id": "hGYKoAornHh3"
      }
    },
    {
      "cell_type": "code",
      "source": [
        "txt = \"hello, and welcome to my world.\"\n",
        "x = txt.capitalize()\n",
        "print (x)"
      ],
      "metadata": {
        "colab": {
          "base_uri": "https://localhost:8080/"
        },
        "id": "jUdCEe8InP8M",
        "outputId": "38b52fc3-2d13-42aa-8d42-46e964e8b3bb"
      },
      "execution_count": 11,
      "outputs": [
        {
          "output_type": "stream",
          "name": "stdout",
          "text": [
            "Hello, and welcome to my world.\n"
          ]
        }
      ]
    }
  ]
}