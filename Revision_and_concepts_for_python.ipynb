{
  "nbformat": 4,
  "nbformat_minor": 0,
  "metadata": {
    "colab": {
      "provenance": [],
      "authorship_tag": "ABX9TyO/bq/owyNozFz2A4JCqlSH",
      "include_colab_link": true
    },
    "kernelspec": {
      "name": "python3",
      "display_name": "Python 3"
    },
    "language_info": {
      "name": "python"
    }
  },
  "cells": [
    {
      "cell_type": "markdown",
      "metadata": {
        "id": "view-in-github",
        "colab_type": "text"
      },
      "source": [
        "<a href=\"https://colab.research.google.com/github/azizdafi/Practice-and-revision-material/blob/main/Revision_and_concepts_for_python.ipynb\" target=\"_parent\"><img src=\"https://colab.research.google.com/assets/colab-badge.svg\" alt=\"Open In Colab\"/></a>"
      ]
    },
    {
      "cell_type": "markdown",
      "source": [
        "## Python Variables\n",
        "A variable is created the moment you first assign a value to it."
      ],
      "metadata": {
        "id": "itRmFz6oXBkI"
      }
    },
    {
      "cell_type": "markdown",
      "source": [
        "### Rules for declaring a variable:\n",
        "\n",
        "* A variable name must start with a letter or the underscore character\n",
        "* A variable name cannot start with a number\n",
        "* A variable name can only contain alpha-numeric characters and underscores (A-z, 0-9, and _ )\n",
        "* Variable names are case-sensitive (age, Age and AGE are three different variables)\n",
        "* A variable name cannot be any of the Python keywords.\n",
        "\n",
        "Note: Remember that variable names are case-sensitive"
      ],
      "metadata": {
        "id": "vdMHKfMvYsso"
      }
    },
    {
      "cell_type": "markdown",
      "source": [
        "Some example of declaring a variable."
      ],
      "metadata": {
        "id": "7CkCdYskZOqo"
      }
    },
    {
      "cell_type": "code",
      "execution_count": null,
      "metadata": {
        "colab": {
          "base_uri": "https://localhost:8080/"
        },
        "id": "lJrXsOqFWm0i",
        "outputId": "9319f52c-cb82-44c3-b5f5-717c8517a63c"
      },
      "outputs": [
        {
          "output_type": "stream",
          "name": "stdout",
          "text": [
            "5\n",
            "<class 'int'>\n",
            "John\n",
            "<class 'str'>\n",
            "1.0\n",
            "<class 'float'>\n",
            "(1+4j)\n",
            "<class 'complex'>\n",
            "True\n",
            "<class 'bool'>\n"
          ]
        }
      ],
      "source": [
        "x = 5       # this creates a variable of type int\n",
        "print(x)\n",
        "print(type(x))\n",
        "###########################\n",
        "y = \"John\"       # this creates a variable of type str\n",
        "print(y)\n",
        "print(type(y))\n",
        "###########################\n",
        "z = 1.0       # this creates a variable of type float\n",
        "print(z)\n",
        "print(type(z))\n",
        "###########################\n",
        "z = 1 + 4j       # this creates a variable of type Complex\n",
        "print(z)\n",
        "print(type(z))\n",
        "x = True       # this creates a variable of type Boolean\n",
        "print(x)\n",
        "print(type(x))\n",
        "###########################"
      ]
    },
    {
      "cell_type": "markdown",
      "source": [
        "## Python Casting"
      ],
      "metadata": {
        "id": "W2shoqCSaScE"
      }
    },
    {
      "cell_type": "markdown",
      "source": [
        "forcing a data type to change its type is known as casting, how ever it is important for us to undersatnd that the forcefull casting can be done only if the data can be converted to what we are planning to, for example we cannot convert string a as int.\n"
      ],
      "metadata": {
        "id": "j0H-5dKfaUhT"
      }
    },
    {
      "cell_type": "code",
      "source": [
        "var =\n",
        "x = int(1)   # x will be int\n",
        "x = float(1)     # x will be float (1.0)\n",
        "x = str(3.0)  # z will be string  ('3.0')"
      ],
      "metadata": {
        "id": "_4wnnCzhivYB"
      },
      "execution_count": null,
      "outputs": []
    },
    {
      "cell_type": "markdown",
      "source": [
        "## Strings"
      ],
      "metadata": {
        "id": "TdRp1HRqjbg_"
      }
    },
    {
      "cell_type": "code",
      "source": [
        "print(\"Hello with double quotes\")\n",
        "print('Hello with single quotes')\n",
        "a = \"Hello assigned as variable\"\n",
        "print(a)\n",
        "a = \"\"\"Hello with multiline\n",
        "string assigned\"\"\"\n",
        "print(a)"
      ],
      "metadata": {
        "colab": {
          "base_uri": "https://localhost:8080/"
        },
        "id": "wyF5qDBMjh3S",
        "outputId": "c6acdd95-a241-4974-921e-720c26d4d2e4"
      },
      "execution_count": null,
      "outputs": [
        {
          "output_type": "stream",
          "name": "stdout",
          "text": [
            "Hello with double quotes\n",
            "Hello with single quotes\n",
            "Hello assigned as variable\n",
            "Hello with multiline\n",
            "string assigned\n"
          ]
        }
      ]
    },
    {
      "cell_type": "code",
      "source": [
        "# String slicing:\n",
        "b = \"Hello, World!\"\n",
        "print(b[2:5])\n",
        "# indexing starts from 0 till n-1 so here output is \"llo\"\n",
        "# note: charecter present in location 5 is not printed"
      ],
      "metadata": {
        "colab": {
          "base_uri": "https://localhost:8080/"
        },
        "id": "twlZnyRfkFbJ",
        "outputId": "7b7c936b-99a4-452b-ee8e-047f38886143"
      },
      "execution_count": null,
      "outputs": [
        {
          "output_type": "stream",
          "name": "stdout",
          "text": [
            "llo\n"
          ]
        }
      ]
    },
    {
      "cell_type": "code",
      "source": [
        "# Get the characters from the start to position 5 (not included)\n",
        "b = \"Hello, World!\"\n",
        "print(b[:5])\n",
        "print(b[5:-1]) #prints from 5 till last but 1"
      ],
      "metadata": {
        "colab": {
          "base_uri": "https://localhost:8080/"
        },
        "id": "lK_Y2q5CkHbk",
        "outputId": "d10600e5-92cf-4ee7-e67c-fcd764c8cf2e"
      },
      "execution_count": null,
      "outputs": [
        {
          "output_type": "stream",
          "name": "stdout",
          "text": [
            "Hello\n",
            ", World\n"
          ]
        }
      ]
    },
    {
      "cell_type": "markdown",
      "source": [
        "## String Methods and examples"
      ],
      "metadata": {
        "id": "5Ql_VryTm91g"
      }
    },
    {
      "cell_type": "markdown",
      "source": [
        "####capitalize()\n",
        "Upper case the first letter in this sentence"
      ],
      "metadata": {
        "id": "hGYKoAornHh3"
      }
    },
    {
      "cell_type": "code",
      "source": [
        "txt = \"hello, and welcome to my world.\"\n",
        "x = txt.capitalize()\n",
        "print (x)"
      ],
      "metadata": {
        "id": "jUdCEe8InP8M",
        "outputId": "38b52fc3-2d13-42aa-8d42-46e964e8b3bb",
        "colab": {
          "base_uri": "https://localhost:8080/"
        }
      },
      "execution_count": null,
      "outputs": [
        {
          "output_type": "stream",
          "name": "stdout",
          "text": [
            "Hello, and welcome to my world.\n"
          ]
        }
      ]
    },
    {
      "cell_type": "markdown",
      "source": [
        "####similar methods\n",
        "\n",
        "**capitalize()**   \n",
        "Converts the first character to upper case  \n",
        "*Example Usage:*  \n",
        "x = txt.capitalize()\n",
        "\n",
        "---\n",
        "**casefold()**\n",
        "Converts string into lower case  \n",
        "x = txt.casefold()\n",
        "\n",
        "---\n",
        "**center()**\n",
        "Returns a centered string  \n",
        "*Example Usage:*  \n",
        "x = txt.center(20)\n",
        "\n",
        "---\n",
        "**count()**\n",
        "Returns the number of times a specified value occurs in a string  \n",
        "*Example Usage:*  \n",
        "x = txt.count(\"apple\")\n",
        "\n",
        "---\n",
        "**encode()**\n",
        "Returns an encoded version of the string  \n",
        "*Example Usage:*  \n",
        "x = txt.encode()\n",
        "\n",
        "---\n",
        "**endswith()**\n",
        "Returns true if the string ends with the specified value  \n",
        "*Example Usage:*  \n",
        "x = txt.endswith(\".\")\n",
        "\n",
        "---\n",
        "**expandtabs()**\n",
        "Sets the tab size of the string  \n",
        "*Example Usage:*  \n",
        "x =  txt.expandtabs(2)\n",
        "\n",
        "---\n",
        "**find()**\n",
        "Searches the string for a specified value and returns the position of where it was found  \n",
        "*Example Usage:*  \n",
        "x = txt.find(\"welcome\")\n",
        "\n",
        "---\n",
        "**format()**\n",
        "Formats specified values in a string  \n",
        "*Example Usage:*  \n",
        "print(txt.format(price = 49))\n",
        "\n",
        "---\n",
        "**format_map()**\n",
        "Formats specified values in a string  \n",
        "*Example Usage:*  \n",
        "\n",
        "\n",
        "---\n",
        "**index()**\n",
        "Searches the string for a specified value and returns the position of where it was found  \n",
        "*Example Usage:*  \n",
        "x = txt.index(\"welcome\")\n",
        "\n",
        "---\n",
        "**isalnum()**\n",
        "Returns True if all characters in the string are alphanumeric  \n",
        "*Example Usage:*  \n",
        "x = txt.isalnum()\n",
        "\n",
        "---\n",
        "**isalpha()**\n",
        "Returns True if all characters in the string are in the alphabet  \n",
        "*Example Usage:*  \n",
        "x = txt.isalpha()\n",
        "\n",
        "---\n",
        "**isascii()**\n",
        "Returns True if all characters in the string are ascii characters  \n",
        "*Example Usage:*  \n",
        "x = txt.isascii()\n",
        "\n",
        "---\n",
        "**isdecimal()**\n",
        "Returns True if all characters in the string are decimals  \n",
        "*Example Usage:*  \n",
        "x = txt.isdecimal()\n",
        "\n",
        "---\n",
        "**isdigit()**\n",
        "Returns True if all characters in the string are digits  \n",
        "*Example Usage:*  \n",
        "x = txt.isdigit()\n",
        "\n",
        "---\n",
        "**isidentifier()**\n",
        "Returns True if the string is an identifier  \n",
        "*Example Usage:*  \n",
        "x = txt.isidentifier()\n",
        "\n",
        "\n",
        "---\n",
        "**islower()**\n",
        "Returns True if all characters in the string are lower case  \n",
        "*Example Usage:*  \n",
        "x = txt.islower()\n",
        "\n",
        "---\n",
        "**isnumeric()**\n",
        "Returns True if all characters in the string are numeric  \n",
        "*Example Usage:*  \n",
        "x = txt.isnumeric()\n",
        "\n",
        "---\n",
        "**isprintable()**\n",
        "Returns True if all characters in the string are printable  \n",
        "*Example Usage:*  \n",
        "x = txt.isprintable()\n",
        "\n",
        "---\n",
        "**isspace()**\n",
        "Returns True if all characters in the string are whitespaces  \n",
        "*Example Usage:*  \n",
        "x = txt.isspace()\n",
        "\n",
        "---\n",
        "**istitle()**\n",
        "Returns True if the string follows the rules of a title  \n",
        "*Example Usage:*  \n",
        "x = txt.istitle()\n",
        "\n",
        "---\n",
        "**isupper()**\n",
        "Returns True if all characters in the string are upper case  \n",
        "*Example Usage:*  \n",
        "x = txt.isupper()\n",
        "\n",
        "---\n",
        "**join()**\n",
        "Joins the elements of an iterable to the end of the string  \n",
        "*Example Usage:*  \n",
        "x = \"#\".join(myTuple/list)\n",
        "\n",
        "---\n",
        "**ljust()**\n",
        "Returns a left justified version of the string  \n",
        "*Example Usage:*  \n",
        "x = txt.ljust(20)\n",
        "\n",
        "---\n",
        "**lower()**\n",
        "Converts a string into lower case  \n",
        "*Example Usage:*  \n",
        "x = txt.lower()\n",
        "\n",
        "---\n",
        "**lstrip()**\n",
        "Returns a left trim version of the string  \n",
        "*Example Usage:*  \n",
        "x = txt.lstrip()\n",
        "\n",
        "---\n",
        "**maketrans()**\n",
        "Returns a translation table to be used in translations  \n",
        "*Example Usage:*  \n",
        "mytable = str.maketrans(\"S\", \"P\")\n",
        "\n",
        "---\n",
        "**partition()**\n",
        "Returns a tuple where the string is parted into three parts  \n",
        "*Example Usage:*  \n",
        "x = txt.partition(\"bananas\")\n",
        "\n",
        "---\n",
        "**replace()**\n",
        "Returns a string where a specified value is replaced with a specified value  \n",
        "*Example Usage:*  \n",
        "x = txt.replace(\"bananas\", \"apples\")\n",
        "\n",
        "---\n",
        "**rfind()**\n",
        "Searches the string for a specified value and returns the last position of where it was found  \n",
        "*Example Usage:*  \n",
        "x = txt.rfind(\"casa\")\n",
        "\n",
        "---\n",
        "**rindex()**\n",
        "Searches the string for a specified value and returns the last position of where it was found  \n",
        "*Example Usage:*  \n",
        "x = txt.rindex(\"casa\")\n",
        "\n",
        "---\n",
        "**rjust()**\n",
        "Returns a right justified version of the string  \n",
        "*Example Usage:*  \n",
        "x = txt.rjust(20)\n",
        "\n",
        "---\n",
        "**rpartition()**\n",
        "Returns a tuple where the string is parted into three parts  \n",
        "*Example Usage:*  \n",
        "x = txt.rpartition(\"bananas\")\n",
        "\n",
        "---\n",
        "**rsplit()**\n",
        "Splits the string at the specified separator, and returns a list  \n",
        "*Example Usage:*  \n",
        "x = txt.rsplit(\", \")\n",
        "\n",
        "---\n",
        "**rstrip()**\n",
        "Returns a right trim version of the string  \n",
        "*Example Usage:*  \n",
        "x = txt.rstrip()\n",
        "\n",
        "---\n",
        "**split()**\n",
        "Splits the string at the specified separator, and returns a list  \n",
        "*Example Usage:*  \n",
        "x = txt.split()\n",
        "\n",
        "---\n",
        "**splitlines()**\n",
        "Splits the string at line breaks and returns a list  \n",
        "*Example Usage:*  \n",
        "x = txt.splitlines()\n",
        "\n",
        "---\n",
        "**startswith()**\n",
        "Returns true if the string starts with the specified value  \n",
        "*Example Usage:*  \n",
        "x = txt.startswith(\"Hello\")\n",
        "\n",
        "---\n",
        "**strip()**\n",
        "Returns a trimmed version of the string  \n",
        "*Example Usage:*  \n",
        "x = txt.strip()\n",
        "\n",
        "---\n",
        "**swapcase()**\n",
        "Swaps cases, lower case becomes upper case and vice versa  \n",
        "*Example Usage:*  \n",
        "x = txt.swapcase()\n",
        "\n",
        "---\n",
        "**title()**\n",
        "Converts the first character of each word to upper case  \n",
        "*Example Usage:*  \n",
        "x = txt.title()\n",
        "\n",
        "---\n",
        "**translate()**\n",
        "Returns a translated string  \n",
        "*Example Usage:*  \n",
        "use a dictionary with ascii codes to replace 83 (S) with 80 (P):  \n",
        "mydict = {83:  80}  \n",
        "txt = \"Hello Sam!\"  \n",
        "print(txt.translate(mydict))  \n",
        "output: Hello Pam!\n",
        "\n",
        "---\n",
        "**upper()**\n",
        "Converts a string into upper case  \n",
        "*Example Usage:*  \n",
        "x = txt.upper()\n",
        "\n",
        "---\n",
        "**zfill()**\n",
        "Fills the string with a specified number of 0 values at the beginning  \n",
        "*Example Usage:*  \n",
        "x = txt.zfill(10)\n",
        "\n",
        "---"
      ],
      "metadata": {
        "id": "PJ3Vc11cjA9j"
      }
    }
  ]
}