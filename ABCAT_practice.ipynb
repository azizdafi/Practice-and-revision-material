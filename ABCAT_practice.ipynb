{
  "cells": [
    {
      "cell_type": "markdown",
      "metadata": {
        "id": "view-in-github",
        "colab_type": "text"
      },
      "source": [
        "<a href=\"https://colab.research.google.com/github/azizdafi/Practice-and-revision-material/blob/main/ABCAT_practice.ipynb\" target=\"_parent\"><img src=\"https://colab.research.google.com/assets/colab-badge.svg\" alt=\"Open In Colab\"/></a>"
      ]
    },
    {
      "cell_type": "markdown",
      "metadata": {
        "id": "QJO8kb39GMxf"
      },
      "source": [
        "## This Colab is to share some questions to practice for ABCAT which is obtained from Hacker Rank, etc. and some questions shared by some of the freinds in Data Science community."
      ]
    },
    {
      "cell_type": "code",
      "execution_count": null,
      "metadata": {
        "colab": {
          "base_uri": "https://localhost:8080/"
        },
        "id": "KagqvL4uSyz-",
        "outputId": "a9d0fdfa-dce9-4533-ff72-442c0af9cc88"
      },
      "outputs": [
        {
          "name": "stdout",
          "output_type": "stream",
          "text": [
            "[0, 1, 2, 3, 4, 5]\n"
          ]
        }
      ],
      "source": [
        "# program to change nth value with (n+1)th value\n",
        "def change_nth_value(lst):\n",
        "    for i in range(0, len(lst)-1, 2):\n",
        "        lst[i], lst[i+1] = lst[i+1], lst[i]\n",
        "\n",
        "    return lst\n",
        "\n",
        "# Example usage:\n",
        "given_list = [1,0,3,2,5,4]\n",
        "\n",
        "result = change_nth_value(given_list)\n",
        "print(result)"
      ]
    },
    {
      "cell_type": "code",
      "execution_count": null,
      "metadata": {
        "colab": {
          "base_uri": "https://localhost:8080/"
        },
        "id": "bXgtHZzESu64",
        "outputId": "b05a9d7b-73ac-4cea-c46f-61b8252ecfdd"
      },
      "outputs": [
        {
          "name": "stdout",
          "output_type": "stream",
          "text": [
            "factorial of 5 is 120\n"
          ]
        }
      ],
      "source": [
        "# write program to calculate factorial with itteration method\n",
        "n = 5\n",
        "# n = int(input())\n",
        "fact = 1\n",
        "for i in range(1,n+1):\n",
        "  fact = fact*i\n",
        "print(f'factorial of {n} is {fact}')"
      ]
    },
    {
      "cell_type": "code",
      "execution_count": null,
      "metadata": {
        "colab": {
          "base_uri": "https://localhost:8080/"
        },
        "id": "21LY95CwSqmP",
        "outputId": "c91d88c1-5411-484f-e852-1de68c8e24a1"
      },
      "outputs": [
        {
          "name": "stdout",
          "output_type": "stream",
          "text": [
            "3\n",
            "4\n"
          ]
        }
      ],
      "source": [
        "# swapping 2 variables without using third variable\n",
        "a = 4\n",
        "b= 3\n",
        "# a = int(input())\n",
        "# b = int(input())\n",
        "a,b = b,a\n",
        "print(a)\n",
        "print(b)"
      ]
    },
    {
      "cell_type": "code",
      "execution_count": null,
      "metadata": {
        "colab": {
          "base_uri": "https://localhost:8080/"
        },
        "id": "oa2hYayJSmNY",
        "outputId": "a550a845-6551-4f63-e5cb-fe8782e379e3"
      },
      "outputs": [
        {
          "name": "stdout",
          "output_type": "stream",
          "text": [
            "After addition: 25\n",
            "After multiplication: 48\n"
          ]
        }
      ],
      "source": [
        "# write a lambda function to add 15 to given function and multiply 2 numbers\n",
        "add_lambda = lambda num: num + 15\n",
        "mult_lambda = lambda x, y: x * y\n",
        "\n",
        "# Input\n",
        "add_input = 10\n",
        "mult_input_1 = 12\n",
        "mult_input_2 = 4\n",
        "\n",
        "# Perform operations and print results\n",
        "add_result = add_lambda(add_input)\n",
        "mult_result = mult_lambda(mult_input_1, mult_input_2)\n",
        "\n",
        "print(\"After addition:\", add_result)\n",
        "print(\"After multiplication:\", mult_result)"
      ]
    },
    {
      "cell_type": "code",
      "execution_count": null,
      "metadata": {
        "colab": {
          "base_uri": "https://localhost:8080/"
        },
        "id": "qOp_AAweSNdQ",
        "outputId": "4d549f25-1e8c-4715-e3a1-576854e8e1ae"
      },
      "outputs": [
        {
          "name": "stdout",
          "output_type": "stream",
          "text": [
            "After addition: 25\n",
            "After multiplication: 48\n"
          ]
        }
      ],
      "source": [
        "# write a lambda function to add 15 to given function and multiply 2 numbers\n",
        "add_lambda = lambda num: num + 15\n",
        "mult_lambda = lambda x, y: x * y\n",
        "\n",
        "# Input\n",
        "add_input = 10\n",
        "mult_input_1 = 12\n",
        "mult_input_2 = 4\n",
        "\n",
        "# Perform operations and print results\n",
        "add_result = add_lambda(add_input)\n",
        "mult_result = mult_lambda(mult_input_1, mult_input_2)\n",
        "\n",
        "print(\"After addition:\", add_result)\n",
        "print(\"After multiplication:\", mult_result)"
      ]
    },
    {
      "cell_type": "code",
      "execution_count": null,
      "metadata": {
        "colab": {
          "base_uri": "https://localhost:8080/"
        },
        "id": "tAcisqAiSGA-",
        "outputId": "effe7eee-22f4-4a68-f32b-6ed7359aaeb3"
      },
      "outputs": [
        {
          "name": "stdout",
          "output_type": "stream",
          "text": [
            "Resta$t\n"
          ]
        }
      ],
      "source": [
        "# program to change the last occrence of the first letter with $\n",
        "txt = 'Restart'\n",
        "# txt = str(input())\n",
        "temp = txt.lower()\n",
        "last_occurrence = txt.rfind(temp[0])\n",
        "\n",
        "# Replace the last occurrence of \"too\" with \"$\"\n",
        "x = txt[:last_occurrence] + \"$\" + txt[last_occurrence+1:]\n",
        "\n",
        "print(x)\n",
        "\n",
        "# input:Restart\n",
        "# output: Resta$t"
      ]
    },
    {
      "cell_type": "code",
      "execution_count": null,
      "metadata": {
        "colab": {
          "base_uri": "https://localhost:8080/"
        },
        "id": "UqWGAKeNSB83",
        "outputId": "8db368da-69b0-446a-d87f-db7c79117e09"
      },
      "outputs": [
        {
          "name": "stdout",
          "output_type": "stream",
          "text": [
            "String is a Palindrome\n"
          ]
        }
      ],
      "source": [
        "def is_palindrome(string):\n",
        "    reversed_string = string[::-1]\n",
        "    if string == reversed_string:\n",
        "        return \"String is a Palindrome\"\n",
        "    else:\n",
        "        return \"String is not a Palindrome\"\n",
        "\n",
        "# Test the function\n",
        "input_string = 'Madam'\n",
        "# input_string = input(\"Enter a string: \")\n",
        "input_string = input_string.lower()\n",
        "print(is_palindrome(input_string))"
      ]
    },
    {
      "cell_type": "code",
      "execution_count": null,
      "metadata": {
        "colab": {
          "background_save": true
        },
        "id": "9NRErBaMRUgn",
        "outputId": "789b727c-5ffd-4155-d0a4-bb7f92bf232d"
      },
      "outputs": [
        {
          "name": "stdout",
          "output_type": "stream",
          "text": [
            "res\n"
          ]
        }
      ],
      "source": [
        "#program to remove duplicate words and sort them in assending order\n",
        "\n",
        "lis_input = list(input().split(','))\n",
        "res = set(lis_input)\n",
        "res = list(res)\n",
        "res.sort()\n",
        "res = ','.join(res)\n",
        "print(res)"
      ]
    },
    {
      "cell_type": "markdown",
      "metadata": {
        "id": "ehoCtxmirB07"
      },
      "source": [
        "## **INTEGER FORMATING**\n",
        "\n",
        "Sample Input:\n",
        "1\n",
        "1\n",
        "\n",
        "\n",
        "Sample Output: 1\n",
        "\n",
        "1\n",
        "\n",
        "Sample Input1:\n",
        "1\n",
        "3\n",
        "\n",
        "\n",
        "Sample Output: 1\n",
        "\n",
        "001"
      ]
    },
    {
      "cell_type": "code",
      "execution_count": null,
      "metadata": {
        "id": "VRoD5W1k4yk3"
      },
      "outputs": [],
      "source": [
        "x, y = int(input()), int(input())\n",
        "result = str(x).zfill(y) if len(str(x)) < y else str(x)\n",
        "print(result)\n"
      ]
    },
    {
      "cell_type": "code",
      "execution_count": null,
      "metadata": {
        "id": "u8dXNZA736vX"
      },
      "outputs": [],
      "source": [
        "def format(x, y):\n",
        "    x_str = str(x)  # Convert x to string\n",
        "    if len(x_str) >= y:\n",
        "        return x_str\n",
        "    else:\n",
        "        return x_str.zfill(y)  # Pad with leading zeros if necessary\n",
        "\n",
        "# Take input from the user for x and y\n",
        "x = int(input())\n",
        "y = int(input())\n",
        "\n",
        "# Call the format function with user-provided values\n",
        "result = format(x, y)\n",
        "print(result)"
      ]
    },
    {
      "cell_type": "markdown",
      "metadata": {
        "id": "dn0G4evKpz6L"
      },
      "source": [
        "# **Print largest number from that list**\n",
        "\n",
        "input:\n",
        "5\n",
        "6\n",
        "7\n",
        "1\n",
        "0\n",
        "6\n",
        "\n",
        "Output: 7"
      ]
    },
    {
      "cell_type": "code",
      "execution_count": null,
      "metadata": {
        "id": "0cP-cnaTqJmG"
      },
      "outputs": [],
      "source": [
        "n = int(input())\n",
        "largest = max(int(input()) for _ in range(n))\n",
        "print(largest)"
      ]
    },
    {
      "cell_type": "markdown",
      "metadata": {
        "id": "9qVI-vMemthB"
      },
      "source": [
        "If you remove the following substrings, the remaining part can be counted as equal.\n",
        "The parts are stn[1:2], stn[1:3], stn[1:4], stn[2:2], stn[2:3], stn[2:4].\n",
        "\n",
        "\n",
        "37. Solve the python problem:\n",
        "If A-1;B-2;C-3;D-4;E-5;F-6;G-7;H-8;I-9;J-10;K-11;L-12;M-13;N-14;O- 15;P-16;Q-17;R-18;S-19;T-20;U-21;V-22;W-23;-X-24;Y-25;Z-26;\n",
        "\n",
        "Enter a string,  convert the string to the number format and display the value.\n",
        "\n",
        "Sample Input : Happy\n",
        "\n",
        "Sample Output :\n",
        "81161625\n"
      ]
    },
    {
      "cell_type": "code",
      "execution_count": null,
      "metadata": {
        "id": "MZIubCpkm5z1"
      },
      "outputs": [],
      "source": [
        "def convert_string_to_number(string):\n",
        "    mapping = {\n",
        "        'A': 1, 'B': 2, 'C': 3, 'D': 4, 'E': 5, 'F': 6, 'G': 7, 'H': 8, 'I': 9, 'J': 10,\n",
        "        'K': 11, 'L': 12, 'M': 13, 'N': 14, 'O': 15, 'P': 16, 'Q': 17, 'R': 18, 'S': 19,\n",
        "        'T': 20, 'U': 21, 'V': 22, 'W': 23, 'X': 24, 'Y': 25, 'Z': 26\n",
        "    }\n",
        "    result = ''\n",
        "    for char in string:\n",
        "        if char.isalpha():\n",
        "            result += str(mapping[char.upper()])\n",
        "    return result\n",
        "\n",
        "# Example usage:\n",
        "input_string = 'Happy'\n",
        "output_number = convert_string_to_number(input_string)\n",
        "print(output_number)\n"
      ]
    },
    {
      "cell_type": "markdown",
      "metadata": {
        "id": "C2hkgwfNFfBw"
      },
      "source": [
        "# Strings\n",
        "\n",
        "In this challenge, the user enters a string and a substring. You have to print the number of times that the substring occurs in the given string. String traversal will take place from left to right, not from right to left.\n",
        "\n",
        "NOTE: String letters are case-sensitive.\n",
        "\n",
        "**Input Format**\n",
        "\n",
        "The first line of input contains the original string. The next line contains the substring.\n",
        "\n",
        "Constraints\n",
        "\n",
        "\n",
        "Each character in the string is an ascii character.\n",
        "\n",
        "**Output Format**\n",
        "\n",
        "Output the integer number indicating the total number of occurrences of the substring in the original string.\n",
        "\n",
        "**Sample Input**\n",
        "\n",
        "ABCDCDC\n",
        "CDC\n",
        "\n",
        "**Sample Output**\n",
        "\n",
        "2\n",
        "Concept\n",
        "\n",
        "Some string processing examples, such as these, might be useful.\n",
        "There are a couple of new concepts:\n",
        "In Python, the length of a string is found by the function len(s), where  is the string.\n",
        "To traverse through the length of a string, use a for loop:\n",
        "\n",
        "for i in range(0, len(s)):\n",
        "    print (s[i])\n",
        "A range function is used to loop over some length:\n",
        "\n",
        "range (0, 5)"
      ]
    },
    {
      "cell_type": "code",
      "execution_count": null,
      "metadata": {
        "id": "Gi3FBYT-FuML"
      },
      "outputs": [],
      "source": [
        "string = input().strip()\n",
        "substring = input().strip()\n",
        "\n",
        "count = 0\n",
        "for i in range(len(string) - len(substring) + 1):\n",
        "    if string[i:i+len(substring)] == substring:\n",
        "        count += 1\n",
        "\n",
        "print(count)\n"
      ]
    },
    {
      "cell_type": "markdown",
      "metadata": {
        "id": "SW5TrH6JhnN9"
      },
      "source": [
        "##Pandas\n",
        "\n",
        "\n",
        "Create two lists and vertically stack the lists in pandas data frame:\n",
        "\n",
        "**Input1** : 0 1 2 3 4\n",
        "        a b c d e\n",
        "\n",
        "**Output1:**\n",
        "  0  1\n",
        "\n",
        "0 0  a\n",
        "\n",
        "1 1  b\n",
        "\n",
        "2 2  c\n",
        "\n",
        "3 3  d\n",
        "\n",
        "4 4  e\n",
        "\n",
        "**Input2:**\n",
        "0 1 2 3\n",
        "a b c d e\n",
        "\n",
        "**Output2:**\n",
        "  0    1\n",
        "\n",
        "0 0    a\n",
        "\n",
        "1 1    b\n",
        "\n",
        "2 2    c\n",
        "\n",
        "3 3    d\n",
        "\n",
        "4 NaN  e"
      ]
    },
    {
      "cell_type": "code",
      "execution_count": null,
      "metadata": {
        "id": "J-kISfJ3jKK5"
      },
      "outputs": [],
      "source": [
        "import pandas as pd\n",
        "\n",
        "list1 = input().split()\n",
        "list2 = input().split()\n",
        "\n",
        "s1 = pd.Series(list1)\n",
        "s2 = pd.Series(list2)\n",
        "result=pd.concat([s1,s2],axis=1)\n",
        "print(result)\n"
      ]
    },
    {
      "cell_type": "markdown",
      "metadata": {
        "id": "ddIypxUGl_PQ"
      },
      "source": [
        "# **Greatest N digit Number which is divisible by N**\n",
        "\n",
        "\n",
        "input1: 2,5,8\n",
        "\n",
        "output1: 98,99995,99999992"
      ]
    },
    {
      "cell_type": "code",
      "execution_count": null,
      "metadata": {
        "id": "oJScVEaNkk5I"
      },
      "outputs": [],
      "source": [
        "n=input(str)\n",
        "numbers = n.split(',')\n",
        "numbers = [int(num) for num in numbers]\n",
        "output=[]\n",
        "for i in numbers:\n",
        "  largest=10**i-1\n",
        "  remainder=(10**i-1)%i\n",
        "  output.append(largest-remainder)\n",
        "output_string = ', '.join(str(x) for x in output)\n",
        "print(output_string)"
      ]
    },
    {
      "cell_type": "markdown",
      "metadata": {
        "id": "TA0F_nscAI7h"
      },
      "source": [
        "# **Delimiter - -**"
      ]
    },
    {
      "cell_type": "markdown",
      "metadata": {
        "id": "is0XUq0rI3_S"
      },
      "source": [
        "In Python, a string can be split on a delimiter.\n",
        "\n",
        "Example:\n",
        "\n",
        ">>> a = \"this is a string\"\n",
        ">>> a = a.split(\" \") # a is converted to a list of strings.\n",
        ">>> print a\n",
        "['this', 'is', 'a', 'string']\n",
        "Joining a string is simple:\n",
        "\n",
        ">>> a = \"-\".join(a)\n",
        ">>> print a\n",
        "this-is-a-string\n",
        "Task\n",
        "You are given a string. Split the string on a \" \" (space) delimiter and join using a - hyphen.\n",
        "\n",
        "Function Description\n",
        "\n",
        "Complete the split_and_join function in the editor below.\n",
        "\n",
        "split_and_join has the following parameters:\n",
        "\n",
        "string line: a string of space-separated words\n",
        "Returns\n",
        "\n",
        "string: the resulting string\n",
        "Input Format\n",
        "The one line contains a string consisting of space separated words.\n",
        "\n",
        "Sample Input\n",
        "\n",
        "this is a string\n",
        "Sample Output\n",
        "\n",
        "this-is-a-string"
      ]
    },
    {
      "cell_type": "code",
      "execution_count": null,
      "metadata": {
        "id": "uVf5BksZI5YL"
      },
      "outputs": [],
      "source": [
        "def split_and_join(line):\n",
        "    # Split the line on spaces and join the resulting list with hyphens\n",
        "    return \"-\".join(line.split())\n",
        "\n",
        "# Read the input string from the user\n",
        "input_string = input()\n",
        "\n",
        "# Call the split_and_join function on the input string and print the result\n",
        "result = split_and_join(input_string)\n",
        "print(result)\n"
      ]
    },
    {
      "cell_type": "markdown",
      "metadata": {
        "id": "49pJNmpppV_z"
      },
      "source": [
        "# Difference of ASCII Values of two strings\n",
        "\n",
        "input1:\n",
        "123ABC, 456DEF\n",
        "\n",
        "output1:\n",
        "-18"
      ]
    },
    {
      "cell_type": "code",
      "execution_count": null,
      "metadata": {
        "id": "JVcZkLySoAp-"
      },
      "outputs": [],
      "source": [
        "str1=input()\n",
        "str2=input()\n",
        "def sum_ascii(string):\n",
        "  sum=0\n",
        "  for char in string:\n",
        "        sum += ord(char)\n",
        "  return sum\n",
        "\n",
        "diff=sum_ascii(str1)-sum_ascii(str2)\n",
        "print(diff)"
      ]
    },
    {
      "cell_type": "markdown",
      "metadata": {
        "id": "nB05QzQe6JBN"
      },
      "source": [
        "**#Frequency**\n",
        "\n",
        "input: a a a b b b b c c c c c d d d e e\n",
        "\n",
        "output:\n",
        "\n",
        "a 3\n",
        "\n",
        "b 4\n",
        "\n",
        "c 5\n",
        "\n",
        "d 3\n",
        "\n",
        "e 2"
      ]
    },
    {
      "cell_type": "code",
      "execution_count": null,
      "metadata": {
        "id": "sK6LAwWQ5LjD"
      },
      "outputs": [],
      "source": [
        "import pandas as pd\n",
        "input_str = input(str())\n",
        "\n",
        "# Remove the spaces from the input string\n",
        "input_str = input_str.replace(\" \", \"\")\n",
        "# Create a dictionary to store the letter counts\n",
        "counts = {}\n",
        "\n",
        "# Loop through the input string and count the occurrences of each letter\n",
        "for letter in input_str:\n",
        "    if letter in counts:\n",
        "        counts[letter] += 1\n",
        "    else:\n",
        "        counts[letter] = 1\n",
        "\n",
        "answer=pd.DataFrame(counts.items(),columns=['letters','count'])\n",
        "answer.sort_values('count')\n",
        "print(answer.to_string(index=False, header=False))\n",
        "print(answer['count'].dtype)"
      ]
    },
    {
      "cell_type": "code",
      "execution_count": null,
      "metadata": {
        "id": "41qZiBYN8XHf"
      },
      "outputs": [],
      "source": [
        "import pandas as pd\n",
        "\n",
        "input_str = input(\"Enter a string: \")\n",
        "\n",
        "# Remove the spaces from the input string\n",
        "input_str = input_str.replace(\" \", \"\")\n",
        "# Create a dictionary to store the letter counts\n",
        "counts = {}\n",
        "\n",
        "# Loop through the input string and count the occurrences of each letter\n",
        "for letter in input_str:\n",
        "    if letter in counts:\n",
        "        counts[letter] += 1\n",
        "    else:\n",
        "        counts[letter] = 1\n",
        "\n",
        "answer = pd.DataFrame(counts.items(), columns=['letters', 'count'])\n",
        "answer = answer.sort_values('letters')\n",
        "\n",
        "print(answer.to_string(index=False, header=False))\n",
        "print(\"dtype: int64\")\n"
      ]
    },
    {
      "cell_type": "markdown",
      "metadata": {
        "id": "MyGJ_Qypx3LY"
      },
      "source": [
        "#Unique characters Seperated by a space\n",
        "\n",
        "Input: apple\n",
        "\n",
        "output: a l e"
      ]
    },
    {
      "cell_type": "code",
      "execution_count": null,
      "metadata": {
        "id": "nrQqhbMox2lr"
      },
      "outputs": [],
      "source": [
        "string=input(str())\n",
        "result=''\n",
        "\n",
        "for letter in string:\n",
        "  if string.count(letter)==1:\n",
        "    result+=letter\n",
        "result=' '.join(result)\n",
        "print(result)"
      ]
    },
    {
      "cell_type": "markdown",
      "metadata": {
        "id": "7fKcWu3y3bcK"
      },
      "source": [
        "# Average ASCII\n",
        "\n",
        "Input1: HAPPY BIRTHDAY\n",
        "\n",
        "Output1: 76\n",
        "\n",
        "Input2: NOTHING IS IMPOSSIBLE\n",
        "\n",
        "Output2:77"
      ]
    },
    {
      "cell_type": "code",
      "execution_count": null,
      "metadata": {
        "id": "n0pzZBvl8WAA"
      },
      "outputs": [],
      "source": [
        "import math\n",
        "input_str = input(\"Please enter a string: \")\n",
        "\n",
        "# Remove any spaces from the input string\n",
        "input_str = input_str.replace(\" \", \"\")\n",
        "\n",
        "# Calculate the total ASCII value of the string\n",
        "total_ascii = sum(ord(char) for char in input_str)\n",
        "\n",
        "# Calculate the average word value\n",
        "avg_word_value = total_ascii / len(input_str)\n",
        "avg_word_value=math.ceil(avg_word_value)\n",
        "# Output the result\n",
        "print(avg_word_value)"
      ]
    },
    {
      "cell_type": "markdown",
      "metadata": {
        "id": "MyetsfUe46mP"
      },
      "source": [
        "#Reshape of an panda array\n",
        "\n",
        " Input: list 1 2 3 4 5 6 7 8\n",
        "\n",
        "  list  2 4\n",
        "\n",
        "  check 2*4=8 and Len is equal to 8 then reshape the array to 2*4 size"
      ]
    },
    {
      "cell_type": "code",
      "execution_count": null,
      "metadata": {
        "id": "cwZNBgLg4odQ"
      },
      "outputs": [],
      "source": [
        "import numpy as np\n",
        "import pandas as pd\n",
        "\n",
        "# Define the input list and target shape\n",
        "input_list = [1, 2, 3, 4, 5, 6, 7, 8]\n",
        "target_shape = (2, 4)\n",
        "\n",
        "# Check if the input list can be reshaped to the target shape\n",
        "if np.prod(target_shape) == len(input_list):\n",
        "    # Reshape the input list to the target shape\n",
        "    reshaped_array = np.array(input_list).reshape(target_shape)\n",
        "\n",
        "    # Convert the reshaped array to a Pandas DataFrame\n",
        "    reshaped_df = pd.DataFrame(reshaped_array)\n",
        "\n",
        "    # Print the reshaped array\n",
        "    print(reshaped_df.to_string(index=False, header=False))\n",
        "\n",
        "else:\n",
        "    print(\"Invalid Output\")\n"
      ]
    },
    {
      "cell_type": "markdown",
      "metadata": {
        "id": "QYPeswInDcPe"
      },
      "source": [
        "input1:\n",
        "\n",
        "4\n",
        "\n",
        "abc?\n",
        "Abc?\n",
        "\n",
        "output1:\n",
        "YES\n",
        "\n",
        "input2:\n",
        "\n",
        "4\n",
        "\n",
        "aab?\n",
        "\n",
        "A?aa\n",
        "\n",
        "output2:\n",
        "YES\n",
        "\n",
        "input3:\n",
        "\n",
        "5\n",
        "\n",
        "aaa?a\n",
        "\n",
        "bbbb?\n",
        "\n",
        "output3: No"
      ]
    },
    {
      "cell_type": "code",
      "execution_count": null,
      "metadata": {
        "id": "Krpj7ecWs3Hg"
      },
      "outputs": [],
      "source": [
        "import pandas as pd\n",
        "\n",
        "# Take input of the two lists\n",
        "list1 = input().split(' ')\n",
        "list2 = input().split(' ')\n",
        "\n",
        "mylist=list1+list2\n",
        "listfordf = [x for i, x in enumerate(mylist) if x not in mylist[:i]]\n",
        "repeated_values = list(set([x for x in mylist if mylist.count(x) > 1]))\n",
        "\n",
        "df=pd.Series(listfordf)\n",
        "result = df[~df.isin(repeated_values)]\n",
        "print(result)\n"
      ]
    },
    {
      "cell_type": "markdown",
      "metadata": {
        "id": "TI_fQIEDwqca"
      },
      "source": [
        "## GENERATE 2D ARRAY\n",
        "PROGRAM TAKE 4 INPUTS ,PRINT 2D ARRAY FOR EACH INPUT"
      ]
    },
    {
      "cell_type": "code",
      "execution_count": null,
      "metadata": {
        "id": "W2ST4DaefQNZ"
      },
      "outputs": [],
      "source": [
        "def process_input(input_str):\n",
        "    values = list(map(int, input_str.strip().split(',')))\n",
        "    output = []\n",
        "    start_value = 1\n",
        "    for _ in range(values[0]):\n",
        "        sublist = list(range(start_value, start_value + values[1]))\n",
        "        output.append(sublist)\n",
        "        start_value += values[1]\n",
        "    return output\n",
        "\n",
        "# Read input from standard input\n",
        "a = input()\n",
        "b =input()\n",
        "c=input()\n",
        "d=input()\n",
        "\n",
        "output1 = process_input(a)\n",
        "print(output1)\n",
        "output2 = process_input(b)\n",
        "print(output2)\n",
        "output3 = process_input(c)\n",
        "print(output3)\n",
        "output4 = process_input(d)\n",
        "print(output4)\n"
      ]
    },
    {
      "cell_type": "code",
      "execution_count": null,
      "metadata": {
        "id": "5KNerflyf-wP"
      },
      "outputs": [],
      "source": [
        "import pandas as pd\n",
        "from sklearn.linear_model import LinearRegression\n",
        "from sklearn.metrics import r2_score\n",
        "\n",
        "n=int(input())\n",
        "ls=[]\n",
        "for i in range(n):\n",
        "  ls.append(input().split(' '))\n",
        "df=pd.DataFrame(ls)\n",
        "\n",
        "X = df.iloc[:, 1:]  # Select all columns except the first (dependent variable)\n",
        "y = df.iloc[:, 0]\n",
        "model=LinearRegression()\n",
        "model.fit(X,y)\n",
        "y_pred=model.predict(X)\n",
        "r2 = r2_score(y, y_pred)\n",
        "print(round(r2, 2))"
      ]
    },
    {
      "cell_type": "markdown",
      "metadata": {
        "id": "hXvbOYNtXbaP"
      },
      "source": [
        "# **Digital MARKETING FIRM**\n",
        "YOU ARE GIVEN CAMPAIGN NAME, NUMBER OF EMAILS AND EMAIL OPEN COUNT.CALCULATE OPEN RATE"
      ]
    },
    {
      "cell_type": "code",
      "execution_count": null,
      "metadata": {
        "id": "XCJ-35-dhyef"
      },
      "outputs": [],
      "source": [
        "import pandas as pd\n",
        "\n",
        "# Get the number of elements in the dictionary\n",
        "T = int(input())\n",
        "\n",
        "# Get the data related to campaign name\n",
        "campaign_names = input().split()\n",
        "\n",
        "# Get the data related to number of emails\n",
        "emails_delivered = list(map(int, input().split()))\n",
        "\n",
        "# Get the data related to email open rate\n",
        "email_open_count = list(map(int, input().split()))\n",
        "\n",
        "# Calculate the mean open rate\n",
        "mean_open_rate = sum(email_open_count) / len(email_open_count)\n",
        "\n",
        "# Create a dictionary of data\n",
        "data = {\n",
        "    'Campaign Name': campaign_names,\n",
        "    'Emails Delivered': emails_delivered,\n",
        "    'Email Open Count': email_open_count,\n",
        "    'Open Rate > Mean': [rate > mean_open_rate for rate in email_open_count]\n",
        "}\n",
        "\n",
        "# Create a DataFrame from the dictionary\n",
        "df = pd.DataFrame(data)\n",
        "\n",
        "# Extract the 'Open Rate > Mean' column as a list of boolean values\n",
        "open_rate_bools = data['Open Rate > Mean']\n",
        "\n",
        "# Print the list of boolean values, one value per line\n",
        "for value in open_rate_bools:\n",
        "    print(value)\n"
      ]
    },
    {
      "cell_type": "markdown",
      "metadata": {
        "id": "D39pNe6TqZ8F"
      },
      "source": [
        "# **FIND greatest N digit number divisible by N**"
      ]
    },
    {
      "cell_type": "code",
      "execution_count": null,
      "metadata": {
        "id": "aFmhP8fiqlGU"
      },
      "outputs": [],
      "source": [
        "n = input()\n",
        "numbers = [int(seennum) for num in n.split(',')]\n",
        "\n",
        "output = []\n",
        "for i in numbers:\n",
        "    largest = 10 ** i - 1\n",
        "    remainder = largest % i\n",
        "    output.append(largest - remainder)\n",
        "\n",
        "output_string = ','.join(map(str, output))\n",
        "print(output_string)"
      ]
    },
    {
      "cell_type": "markdown",
      "metadata": {
        "id": "foonyCjU3r4E"
      },
      "source": [
        "# **DIFFERENCE OF DIFFERENCE**\n",
        "\n",
        "WRITe PYTHON PROGRAM THAT DOES THE FOLLOWING:\n",
        "* takes an integer list as input\n",
        "*creates a Pandas Series from the list\n",
        "* prints the difference of the difference between consecutive elements of the list\n",
        "INPUT FORMAT:\n",
        "* the first line contains  space seperated  integers which represnt the elemnts of the input list\n",
        "OUTPUT FORMAT:\n",
        "*print the diffrence of the consecutive elements of the list on the first line\n",
        "*print the difference of the difference of the elements obtained from the above,on the second line\n",
        "* for missing values,print nan(missing values will be present when you try to subtract the 0th element from the 1st element)"
      ]
    },
    {
      "cell_type": "code",
      "execution_count": null,
      "metadata": {
        "id": "NF_mkBs535gA"
      },
      "outputs": [],
      "source": [
        "import pandas as pd\n",
        "import numpy as np\n",
        "\n",
        "# Take input as space-separated integers\n",
        "input_list = list(map(int, input().split()))\n",
        "\n",
        "# Create a Pandas Series from the input list\n",
        "series = pd.Series(input_list)\n",
        "\n",
        "# Calculate the difference of consecutive elements\n",
        "diff_1 = series.diff()\n",
        "\n",
        "# Calculate the difference of the difference\n",
        "diff_2 = diff_1.diff()\n",
        "\n",
        "# Replace missing values with NaN\n",
        "diff_1.iloc[0] = np.nan\n",
        "diff_2.iloc[0] = np.nan\n",
        "\n",
        "# Store the results in a list\n",
        "output_list = [diff_1.tolist(), diff_2.tolist()]\n",
        "\n",
        "# Print the output list\n",
        "for result in output_list:\n",
        "    print(result)\n"
      ]
    },
    {
      "cell_type": "markdown",
      "metadata": {
        "id": "zQJRUnGp7wqO"
      },
      "source": [
        "# **SECOND BEST**\n",
        "\n",
        "allan marriage, he wants his best man to be tallest guy. he prepared list of friend's heights and has trusted you with the list. it happend that danny ,the tallest guy in the group dwn with fever and supposedly wont be able to attend the function\n",
        "so now its upto you to select the second tallest guy status of he status of the best man. to find a quick answe write python code for it\n",
        "input format:a single line cintaing heights of all friends in inches seperated by commas\n",
        "contraints:1<=height of all friends,=200\n",
        "output format: print the height of second tallest guy"
      ]
    },
    {
      "cell_type": "code",
      "execution_count": null,
      "metadata": {
        "id": "0OlrDAqC77Xg"
      },
      "outputs": [],
      "source": [
        "heights = input()\n",
        "heights_list = list(map(int, heights.split(\",\")))\n",
        "\n",
        "# Remove the tallest guy's height from the list\n",
        "heights_list.remove(max(heights_list))\n",
        "\n",
        "# Find the second tallest guy's height\n",
        "second_tallest_height = max(heights_list)\n",
        "\n",
        "print( second_tallest_height)\n"
      ]
    },
    {
      "cell_type": "markdown",
      "metadata": {
        "id": "WfnI-FHl9y_n"
      },
      "source": [
        "GET THE NUMBER\n",
        "\n",
        "write a program that rewrites number from input to output intill the number 5 is encountered.\n",
        "input format: the input comprises of non zero numbers of intgers in STDIN\n",
        "EACH INTEGER IS SEPERATE BY NEW LINE\n",
        "contsraints: 1<=integer<=50\n",
        "output format: you have to print each integer in a new line according as per the problrm statemne."
      ]
    },
    {
      "cell_type": "code",
      "execution_count": null,
      "metadata": {
        "id": "paMBw6N2-E4A"
      },
      "outputs": [],
      "source": [
        "while True:\n",
        "    num = int(input())\n",
        "    if num == 5:\n",
        "        break\n",
        "    else:\n",
        "        print(num)\n"
      ]
    },
    {
      "cell_type": "markdown",
      "metadata": {
        "id": "sKyYReCI_g-U"
      },
      "source": [
        "**CENTRAL TENDENCY II**\n",
        "\n",
        "taking some numerivcal value as input you have to write a program that calculates and prints the mode of dataset\n",
        "\n",
        "input format:\n",
        "the first line contains number of tests case T\n",
        "the next T line contains space separated numerical values, which represent the input datacase\n",
        "\n",
        "output format:\n",
        "For each testcase T. print the respective mode, each on a new line in the given format:\n",
        "If there is a single mode in the data-set, print the respective value.\n",
        "If there are multiple modes in the dataset and the\n",
        "frequency of occurrence is more than 1. print all of them. each on a new line.\n",
        "If there are no modes in the dataset, print \"No MODE found\""
      ]
    },
    {
      "cell_type": "code",
      "execution_count": null,
      "metadata": {
        "id": "bpB-L-Yy_9YY"
      },
      "outputs": [],
      "source": [
        "# Read the number of test cases\n",
        "T = int(input())\n",
        "\n",
        "# Process each test case\n",
        "for _ in range(T):\n",
        "    # Read the input dataset\n",
        "    dataset = list(map(float, input().split()))\n",
        "\n",
        "    frequency = {}\n",
        "\n",
        "    # Count the occurrences of each value in the dataset\n",
        "    for num in dataset:\n",
        "        if num in frequency:\n",
        "            frequency[num] += 1\n",
        "        else:\n",
        "            frequency[num] = 1\n",
        "\n",
        "    max_count = max(frequency.values())\n",
        "    modes = [num for num, count in frequency.items() if count == max_count]\n",
        "\n",
        "    if len(modes) == len(dataset):\n",
        "        print(\"No MODE found\")\n",
        "    else:\n",
        "        modes.sort()  # Sort the modes in ascending order\n",
        "        for mode in modes:\n",
        "            print(mode)\n"
      ]
    },
    {
      "cell_type": "markdown",
      "metadata": {
        "id": "C0pJ684zgqf6"
      },
      "source": [
        "## **LUCY AND GAME**"
      ]
    },
    {
      "cell_type": "code",
      "execution_count": null,
      "metadata": {
        "id": "P7AJ_ebdgtYs"
      },
      "outputs": [],
      "source": [
        "import sys\n",
        "\n",
        "def bullseye(scores):\n",
        "    count = 0\n",
        "    for s in scores:\n",
        "        if s == 50:\n",
        "            count += 1\n",
        "    return count\n",
        "\n",
        "try:\n",
        "    # Read the number of hits\n",
        "    N = int(input())\n",
        "\n",
        "    # Read the scores\n",
        "    scores = list(map(int, input().split()))\n",
        "\n",
        "    # Call the bullseye function\n",
        "    result = bullseye(scores)\n",
        "\n",
        "    # Print the number of bullseyes hit by Lucy\n",
        "    print(result)\n",
        "\n",
        "except EOFError:\n",
        "    sys.exit()"
      ]
    },
    {
      "cell_type": "markdown",
      "metadata": {
        "id": "e3D5vuc6kVUq"
      },
      "source": [
        "# **smallest string**"
      ]
    },
    {
      "cell_type": "code",
      "execution_count": null,
      "metadata": {
        "id": "r1d27ZKYkcS0"
      },
      "outputs": [],
      "source": [
        "def smallestString(t):\n",
        "    m = len(t)\n",
        "    smallest_str = t\n",
        "    smallest_x = 1\n",
        "    index = 0\n",
        "\n",
        "    if m == 0:\n",
        "        return smallest_x\n",
        "\n",
        "    for x in range(1, m + 1):\n",
        "        k = m - x + 1\n",
        "        new_str = t[x-1:m] + t[0:x-1]\n",
        "\n",
        "        if new_str < smallest_str:\n",
        "            smallest_str = new_str\n",
        "            smallest_x = x\n",
        "\n",
        "    return smallest_x\n",
        "\n",
        "if __name__ == '__main__':\n",
        "    t = input()\n",
        "    result = smallestString(t)\n",
        "    print(str(result))"
      ]
    },
    {
      "cell_type": "markdown",
      "metadata": {
        "id": "OWYeJOtjld0q"
      },
      "source": [
        "# **UNIQUE CHARACTERS SEPARATED BY A SPACE**"
      ]
    },
    {
      "cell_type": "code",
      "execution_count": null,
      "metadata": {
        "id": "Yv7aLnWPlh8Y"
      },
      "outputs": [],
      "source": [
        "string = input(str())\n",
        "result = \"\"\n",
        "\n",
        "for letter in string:\n",
        "  if string.count(letter) == 1:\n",
        "    result +=letter\n",
        "result_with_spaces = \" \".join(result)\n",
        "print(result_with_spaces)"
      ]
    },
    {
      "cell_type": "markdown",
      "metadata": {
        "id": "ORyBv47jlrlU"
      },
      "source": [
        "# **Space shuttle Manufacturing Firm**"
      ]
    },
    {
      "cell_type": "code",
      "execution_count": null,
      "metadata": {
        "id": "72sKNKuEl6ou"
      },
      "outputs": [],
      "source": [
        "#print the final veloctity\n",
        "\n",
        "import numpy as np\n",
        "\n",
        "a,b,m,n,c,d = map(int , input(\" \").split())\n",
        "p,q = map(int , input(\"\").split())\n",
        "\n",
        "A=np.array([[a,b] , [m,n]])\n",
        "B= np.array([c,d])\n",
        "\n",
        "\n",
        "X=np.linalg.solve(A,B)\n",
        "\n",
        "p_vec = np.array([p,0])\n",
        "q_vec = np.array([0,q])\n",
        "v_actual = np.dot(X, p_vec) + np.dot(X , q_vec)\n",
        "\n",
        "if v_actual<0:\n",
        "  print(\"Process Error\")\n",
        "else:\n",
        "  print(f\"{v_actual:.2f}\")"
      ]
    },
    {
      "cell_type": "markdown",
      "metadata": {
        "id": "qhoBLg0s7YAC"
      },
      "source": [
        "# **PRINT 0.0 AND 1.0 FROM  THE DATAFRAME COLUMN RESULT**\n",
        "\n",
        "You are working as a Data Analyst firm. one of your clients is leading educatinal institute across the globe. As part of your consulting project you are given a dataset related to various students containing the following fields\n",
        "• Name • Age • Marks • Country\n",
        "Using Pandas operations, add a new column to  the Dataframe named 'Result' that contains the following  data:\n",
        "• \"0.0\" for students having marks greater  than the meal value\n",
        "• \"1.0\" for students having marks lower than the mean vale\n",
        "INPUT FORMAT:\n",
        "• The first line represesnts the number of test cases T\n",
        " • The next T lines represnts each row in the dataset\n",
        "Output Format :\n",
        " Print  the value of Result accodingly"
      ]
    },
    {
      "cell_type": "code",
      "execution_count": null,
      "metadata": {
        "id": "8-Uw0I0S8Lq6"
      },
      "outputs": [],
      "source": [
        "import pandas as pd\n",
        "\n",
        "# Read the number of test cases\n",
        "T = int(input())\n",
        "\n",
        "# Initialize an empty list to store the data\n",
        "data = []\n",
        "\n",
        "# Read the data for each test case\n",
        "for _ in range(T):\n",
        "    row = input().split()\n",
        "    data.append(row)\n",
        "\n",
        "# Create a DataFrame from the data\n",
        "df = pd.DataFrame(data, columns=['Name', 'Age', 'Marks', 'Country'])\n",
        "\n",
        "# Convert 'Marks' column to numeric\n",
        "df['Marks'] = pd.to_numeric(df['Marks'])\n",
        "\n",
        "# Calculate the mean value of marks\n",
        "mean_value = df['Marks'].mean()\n",
        "\n",
        "# Add the 'Result' column\n",
        "df['Result'] = df['Marks'].apply(lambda x: 0.0 if x > mean_value else 1.0)\n",
        "\n",
        "# Print the values of the 'Result' column\n",
        "for result in df['Result']:\n",
        "    print(result)\n"
      ]
    },
    {
      "cell_type": "markdown",
      "metadata": {
        "id": "N92aGlE4jBkw"
      },
      "source": [
        "# **english alphabets**"
      ]
    },
    {
      "cell_type": "code",
      "execution_count": null,
      "metadata": {
        "id": "qtVuxqzVi9fh"
      },
      "outputs": [],
      "source": [
        "import pandas as pd\n",
        "\n",
        "inp = 'abcdefghijklmnopqrstuvwxyz'\n",
        "\n",
        "inp_name = input()\n",
        "my_list = []\n",
        "\n",
        "# Logic\n",
        "for i in inp:\n",
        "    my_list.append(i)\n",
        "\n",
        "my_series = pd.Series(my_list)\n",
        "my_series.index.name = None\n",
        "print(my_series.to_string())"
      ]
    },
    {
      "cell_type": "markdown",
      "metadata": {
        "id": "6Ab0twJqkFOj"
      },
      "source": [
        "# **#create database**"
      ]
    },
    {
      "cell_type": "code",
      "execution_count": null,
      "metadata": {
        "id": "PskNoIOhkBYu"
      },
      "outputs": [],
      "source": [
        "import pandas as pd\n",
        "import numpy as np\n",
        "\n",
        "data ={'animal' : ['cat','cat','snake','dog']}\n",
        "data"
      ]
    },
    {
      "cell_type": "markdown",
      "metadata": {
        "id": "l5k4-TZtj9wy"
      },
      "source": [
        "# **join divisible sum**"
      ]
    },
    {
      "cell_type": "code",
      "execution_count": null,
      "metadata": {
        "id": "aiNsbPioj1Yi"
      },
      "outputs": [],
      "source": [
        "num = input()\n",
        "divisible_nums = [binary for binary in num.split(',') if int(binary,2) % 3 == 0]\n",
        "print(','.join(divisible_nums))"
      ]
    },
    {
      "cell_type": "code",
      "execution_count": null,
      "metadata": {
        "id": "PiL8a9Ri8VJ0"
      },
      "outputs": [],
      "source": [
        "num = input()\n",
        "divisible_nums = [binary for binary in num.split(',') if int(binary, 2) % 3 == 0]\n",
        "print(','.join(divisible_nums))\n"
      ]
    },
    {
      "cell_type": "markdown",
      "metadata": {
        "id": "_xFtiIV0j4GA"
      },
      "source": [
        "# **smallest & largest**"
      ]
    },
    {
      "cell_type": "code",
      "execution_count": null,
      "metadata": {
        "id": "B4X28R66jxLg"
      },
      "outputs": [],
      "source": [
        "num = (input())\n",
        "num_list = [int(num) for num in num.split(',')]\n",
        "smallest = min(num_list)\n",
        "largest = max(num_list)\n",
        "print('smallest = ' ,smallest ,'Largest = ', largest)"
      ]
    },
    {
      "cell_type": "markdown",
      "metadata": {
        "id": "a4Hr7ETwjtYE"
      },
      "source": [
        "# **number of profitable day**"
      ]
    },
    {
      "cell_type": "code",
      "execution_count": null,
      "metadata": {
        "id": "q7QMSqHKjI0I"
      },
      "outputs": [],
      "source": [
        "num = int(input())\n",
        "list1 = [int(num) for num in input().split(' ') if len(num) > 0 ]\n",
        "pos_count = 0\n",
        "\n",
        "for i in list1:\n",
        "  if i>= 0:\n",
        "    pos_count += 1\n",
        "\n",
        "print(pos_count)"
      ]
    },
    {
      "cell_type": "markdown",
      "metadata": {
        "id": "6WSMNXSwPdTy"
      },
      "source": [
        "# **PRODUCT &SUM**"
      ]
    },
    {
      "cell_type": "code",
      "execution_count": null,
      "metadata": {
        "id": "Mc3f3OimOXGk"
      },
      "outputs": [],
      "source": [
        "def perform_operations(nums):\n",
        "  sum_result=sum(nums)\n",
        "  product_result=1\n",
        "  for num in nums:\n",
        "    product_result*=num\n",
        "  return sum_result,product_result\n",
        "\n",
        "\n",
        "n=int(input())\n",
        "numbers=[]\n",
        "for i in range(n):\n",
        "  num=int(input())\n",
        "  numbers.append(num)\n",
        "sum_result,product_result=perform_operations(numbers)\n",
        "print(sum_result)\n",
        "print(product_result)\n",
        "\n",
        "\n"
      ]
    },
    {
      "cell_type": "markdown",
      "metadata": {
        "id": "ifwuV8rwWPpL"
      },
      "source": [
        "# **LUCY MEMORY IS WEAK . NEEDS TO RECOLLECT FRIENDS DETAILS**\n",
        "\n",
        "Lucy a weak memory, she cant remember details of each of his friends .So. she needs your help in this. You will be given names of  each friend Lucy has with their details (Age,hobbies,favorite chocolate). Also Q queries will be given each containing the name of her friends, you need to develop a program which will print queried friend details.\n",
        "\n",
        "Input Format\n",
        "\n",
        " • First line contains T(1<=T<=10) the number of test cases\n",
        "\n",
        " • First line of each test case contains N( 1<=N<=30),Q(1<=Q<=15) denoting the number of friends Lucy has and the number of queries.\n",
        "\n",
        " • Next N lines contains a tuple of 4 strings name, age, hobbies. favorite chocolate (Its guaranteed that no two tuples will be the same).\n",
        "\n",
        "• Next Q lines contains name. the friend Whose details Lucy wants to recollect\n",
        "\n",
        "OUTPUT FORMAT:\n",
        "For each query output age,hobbies,favorite chocolate of the queried friend.\n",
        "sample input:\n",
        "1\n",
        "3 2\n",
        "diwakar 22 programming darkfantacy\n",
        "suraj 11 programming milkybar\n",
        "Ashutosh 17 football milkybar\n",
        "suraj\n",
        "Ashutosh\n"
      ]
    },
    {
      "cell_type": "code",
      "execution_count": null,
      "metadata": {
        "id": "vQObPTMGObte"
      },
      "outputs": [],
      "source": [
        "def print_friend_details(friends, queries):\n",
        "    friend_details = {friend[0]: friend[1:] for friend in friends}\n",
        "\n",
        "    for query in queries:\n",
        "        if query in friend_details:\n",
        "            details = friend_details[query]\n",
        "            print(f\"{details[0]}, {details[1]}, {details[2]}\")\n",
        "\n",
        "# Read the number of test cases\n",
        "T = int(input())\n",
        "\n",
        "for _ in range(T):\n",
        "    # Read the number of friends and queries\n",
        "    N, Q = map(int, input().split())\n",
        "\n",
        "    friends = []\n",
        "    queries = []\n",
        "\n",
        "    # Read the details of each friend\n",
        "    for _ in range(N):\n",
        "        friend = input().split()\n",
        "        friends.append(friend)\n",
        "\n",
        "    # Read the names of queried friends\n",
        "    for _ in range(Q):\n",
        "        query = input().strip()\n",
        "        queries.append(query)\n",
        "\n",
        "    # Print the friend details\n",
        "    print_friend_details(friends, queries)\n"
      ]
    },
    {
      "cell_type": "markdown",
      "metadata": {
        "id": "8AdX1DU1acGx"
      },
      "source": [
        "# **ASCII PROBLEM RANGE(65-90 &48,57)**\n",
        "write a programm that takes a string as input . the programm validates the inputtes string, if the string is valid, the programm should print YES . otherwise NO. the validation criteria is as follow.\n",
        "\n",
        "There Should not be any character With ASCII code . 32 in the string .\n",
        "the first and last chracter of the input should be character from the ASCII range 65 -  90\n",
        "the input shoud contan two character from the ASCII range 48 -57 and both should appears together without any character in - between.\n"
      ]
    },
    {
      "cell_type": "code",
      "execution_count": null,
      "metadata": {
        "id": "ewsWuFMFaBQd"
      },
      "outputs": [],
      "source": [
        "def validate_input_string(s):\n",
        "    # Check if any character has ASCII code 32\n",
        "    if any(ord(char) == 32 for char in s):\n",
        "        return \"NO\"\n",
        "\n",
        "    # Check if the first and last characters are in the ASCII range 65-90\n",
        "    if not (65 <= ord(s[0]) <= 90) or not (65 <= ord(s[-1]) <= 90):\n",
        "        return \"NO\"\n",
        "\n",
        "    # Check if there are exactly two digits together without any character in-between\n",
        "    digit_count = 0\n",
        "    for i in range(len(s) - 1):\n",
        "        if s[i].isdigit() and s[i+1].isdigit():\n",
        "            digit_count += 1\n",
        "\n",
        "    if digit_count != 2:\n",
        "        return \"NO\"\n",
        "\n",
        "    return \"YES\"\n",
        "\n",
        "\n",
        "# Example usage\n",
        "input_str = input()\n",
        "result = validate_input_string(input_str)\n",
        "print(result)\n"
      ]
    },
    {
      "cell_type": "markdown",
      "metadata": {
        "id": "mVQbONTikSUE"
      },
      "source": [
        "# **first non repeating character**"
      ]
    },
    {
      "cell_type": "code",
      "execution_count": null,
      "metadata": {
        "id": "bk64Zh2PqvAH"
      },
      "outputs": [],
      "source": [
        "def find_first_non_repeating_char(string):\n",
        "    char_count = {}\n",
        "\n",
        "    # Count the occurrences of each character\n",
        "    for char in string:\n",
        "        if char in char_count:\n",
        "            char_count[char] += 1\n",
        "        else:\n",
        "            char_count[char] = 1\n",
        "\n",
        "    # Find the first non-repeating character\n",
        "    for char in string:\n",
        "        if char_count[char] == 1:\n",
        "            return char\n",
        "\n",
        "    # If no non-repeating character found, return 0\n",
        "    return '0'\n",
        "\n",
        "# Example usage\n",
        "input_str = input()\n",
        "result = find_first_non_repeating_char(input_str)\n",
        "print(result)\n"
      ]
    },
    {
      "cell_type": "markdown",
      "metadata": {
        "id": "_Mj0hscok-FB"
      },
      "source": [
        "# **is divisible 3**"
      ]
    },
    {
      "cell_type": "code",
      "execution_count": null,
      "metadata": {
        "id": "zE7LLV5QkOmN"
      },
      "outputs": [],
      "source": [
        "numbers = input()\n",
        "divisible_numbers = [binary for binary in numbers.split(',') if int(binary, 2) % 3 == 0]\n",
        "print( ','.join(divisible_numbers))"
      ]
    },
    {
      "cell_type": "markdown",
      "metadata": {
        "id": "6yPKpQILle3x"
      },
      "source": [
        "# **find_Substring**"
      ]
    },
    {
      "cell_type": "code",
      "execution_count": null,
      "metadata": {
        "id": "wJ1Y11wLlA3u"
      },
      "outputs": [],
      "source": [
        "import re\n",
        "\n",
        "def find_substring(input_string, substring):\n",
        "    # Replace * with a regex pattern for any characters\n",
        "    pattern = substring.replace('*', '.*')\n",
        "\n",
        "    match = re.search(pattern, input_string)\n",
        "\n",
        "    if match:\n",
        "        start_index = match.start()\n",
        "        end_index = match.end()\n",
        "        return input_string[start_index:end_index]\n",
        "    else:\n",
        "        return \"no matches found\"\n",
        "\n",
        "# Accept two console inputs\n",
        "input_string = input(\"Enter the input string: \")\n",
        "substring = input(\"Enter the substring: \")\n",
        "\n",
        "# Find the substring and print the result\n",
        "result = find_substring(input_string, substring)\n",
        "print(result.lower())7"
      ]
    },
    {
      "cell_type": "markdown",
      "metadata": {
        "id": "nhC6guAUnAVO"
      },
      "source": [
        "# **Max Prefix**"
      ]
    },
    {
      "cell_type": "code",
      "execution_count": null,
      "metadata": {
        "id": "WPfTAsvulYQg"
      },
      "outputs": [],
      "source": [
        "def findMaxPrefix(s):\n",
        "    n = len(s)\n",
        "    lps = [0] * n  # Longest Proper Prefix which is also a Suffix\n",
        "    length = 0  # Length of the previous longest prefix suffix\n",
        "\n",
        "    i = 1\n",
        "    while i < n:\n",
        "        if s[i] == s[length]:\n",
        "            length += 1\n",
        "            lps[i] = length\n",
        "            i += 1\n",
        "        else:\n",
        "            if length != 0:\n",
        "                length = lps[length - 1]\n",
        "            else:\n",
        "                lps[i] = 0\n",
        "                i += 1\n",
        "\n",
        "    return lps[n - 1]\n",
        "\n",
        "\n",
        "# Constant part\n",
        "if __name__ == \"__main__\":\n",
        "    S = input(\"Enter a string: \")\n",
        "\n",
        "    # Customizable part\n",
        "    result = findMaxPrefix(S)\n",
        "    print(result)"
      ]
    },
    {
      "cell_type": "markdown",
      "metadata": {
        "id": "vRjMHtDHwwAW"
      },
      "source": [
        "# **WHAT DOES THE FOX SAY**\n",
        "\n",
        "You have learnt how to use Regular expressions in Python It's time that you implemented this awesome functionaity of Regular Expressions and check for yourself how good you are at it\n",
        "\n",
        "You have to take a sentence (with minimum three words in it) and an integer (N)as input. You have to print all N-lettered words present in the string\n",
        "\n",
        "Input Format:\n",
        "\n",
        "• The first line should contain a string, with minimum three space-separated words in it\n",
        "\n",
        "• The second line contains an Integer N\n",
        "\n",
        "Constraints:\n",
        "\n",
        "• The number of words in the string MD A/Id not be than 3: else pint Too Less Number of Words Entered\n",
        "• The string should contain only uppercase and lowercase letters of the English alphabet\n",
        "\n",
        "Output Format :\n",
        "\n",
        "• Print all N -Fettered words in new lines."
      ]
    },
    {
      "cell_type": "code",
      "execution_count": null,
      "metadata": {
        "id": "G8h_5g9zw-XC"
      },
      "outputs": [],
      "source": [
        "import re\n",
        "\n",
        "# Take input from the user\n",
        "sentence = input().strip()\n",
        "n = int(input())\n",
        "\n",
        "# Split the sentence into words\n",
        "words = sentence.split()\n",
        "\n",
        "# Check the number of words in the sentence\n",
        "if len(words) < 3:\n",
        "    print(\"Too Less Number of Words Entered\")\n",
        "else:\n",
        "    # Use regular expression to find N-lettered words\n",
        "    pattern = r'\\b\\w{' + str(n) + r'}\\b'\n",
        "    n_lettered_words = re.findall(pattern, sentence)\n",
        "\n",
        "    # Print the N-lettered words\n",
        "    for word in n_lettered_words:\n",
        "        print(word)\n"
      ]
    },
    {
      "cell_type": "markdown",
      "metadata": {
        "id": "H2q9tOEgbHJY"
      },
      "source": [
        "# **optimal quentity question**"
      ]
    },
    {
      "cell_type": "code",
      "execution_count": null,
      "metadata": {
        "id": "ck2BNhnd4R10"
      },
      "outputs": [],
      "source": [
        "import math\n",
        "\n",
        "def calculate_optimal_order_quantity(demand):\n",
        "    c = 50  # Cost per order\n",
        "    h = 30  # Annual holding cost per unit\n",
        "\n",
        "    quantities = []\n",
        "    for d in demand:\n",
        "        q = math.sqrt((2 * c * d) / h)\n",
        "        quantities.append(round(q))\n",
        "\n",
        "    return quantities\n",
        "\n",
        "\n",
        "demand = input(\"Enter the annual demand quantities (comma-separated): \").split(\",\")\n",
        "demand = [int(d.strip()) for d in demand]\n",
        "\n",
        "optimal_quantities = calculate_optimal_order_quantity(demand)\n",
        "\n",
        "print(\",\".join(str(q) for q in optimal_quantities))\n"
      ]
    },
    {
      "cell_type": "markdown",
      "metadata": {
        "id": "STiyOuEfbCmK"
      },
      "source": [
        "# **Cricket Score**"
      ]
    },
    {
      "cell_type": "code",
      "execution_count": null,
      "metadata": {
        "id": "D82aIqbwAKpt"
      },
      "outputs": [],
      "source": [
        "def solve(score):\n",
        "    str1 = score\n",
        "\n",
        "    mylist = list(str1)\n",
        "    player1_score = 0\n",
        "    player2_score = 0\n",
        "    current_player = 1\n",
        "\n",
        "    def is_odd(number):\n",
        "        return number % 2 != 0\n",
        "\n",
        "    for i in mylist:\n",
        "        if i == '|':\n",
        "            current_player = 2 if current_player == 1 else 1\n",
        "        else:\n",
        "            if current_player == 1:\n",
        "                player1_score += int(i)\n",
        "            if is_odd(int(i)):\n",
        "                current_player = 2 if current_player == 1 else 1\n",
        "\n",
        "    if player1_score >= player2_score:\n",
        "        result = 'player1'\n",
        "    else:\n",
        "        result = 'player2'\n",
        "\n",
        "    return result\n",
        "\n",
        "if __name__ == '__main__':\n",
        "    score = input()\n",
        "    result = solve(score)\n",
        "    print(result)"
      ]
    },
    {
      "cell_type": "code",
      "execution_count": null,
      "metadata": {
        "id": "uId1xWeenQnK"
      },
      "outputs": [],
      "source": [
        "import pandas as pd\n",
        "import numpy as np\n",
        "\n",
        "data = {\n",
        "    'animal': ['cat', 'cat', 'snake', 'dog', 'dog'],\n",
        "    'age': [2.5, 3, 0.5, np.nan, 5],\n",
        "    'visits': [1, 3, 2, 3, 2],\n",
        "    'priority': ['yes', 'yes', 'no', 'yes', 'no']\n",
        "}\n",
        "\n",
        "labels = ['a', 'b', 'c', 'd', 'e']\n",
        "\n",
        "df = pd.DataFrame(data, index=labels)\n",
        "\n",
        "summary = df.describe()\n",
        "\n",
        "print(summary)"
      ]
    },
    {
      "cell_type": "markdown",
      "metadata": {
        "id": "rsA5x1pC4Ibo"
      },
      "source": [
        "# **PRINT TRUE OR FALSE DEPENDS UPON THE BALANCE OF PARANTHESIS**"
      ]
    },
    {
      "cell_type": "code",
      "execution_count": null,
      "metadata": {
        "id": "0EsghbrekW4e"
      },
      "outputs": [],
      "source": [
        "def is_balanced(string):\n",
        "    stack = []\n",
        "\n",
        "    for char in string:\n",
        "        if char == \"(\":\n",
        "            stack.append(char)\n",
        "        elif char == \")\":\n",
        "            if len(stack) == 0 or stack[-1] != \"(\":\n",
        "                return False\n",
        "            stack.pop()\n",
        "\n",
        "    return len(stack) == 0\n",
        "\n",
        "# Get input from the user\n",
        "input_string = input(\"Enter a string: \")\n",
        "\n",
        "# Check if parentheses are balanced\n",
        "result = is_balanced(input_string)\n",
        "\n",
        "# Print the result\n",
        "print(str(result).lower())\n"
      ]
    },
    {
      "cell_type": "markdown",
      "metadata": {
        "id": "qCbOr3CpvwSf"
      },
      "source": [
        "# **find letter ( camel canal)**"
      ]
    },
    {
      "cell_type": "code",
      "execution_count": null,
      "metadata": {
        "id": "o7EENbsakXWK"
      },
      "outputs": [],
      "source": [
        "def find_letters(string1, string2):\n",
        "    letters = set(string1) - set(string2)\n",
        "    return list(letters)\n",
        "\n",
        "# Test the function\n",
        "string = input().split(\" \")\n",
        "string1 = string[0]\n",
        "string2 = string[1]\n",
        "result = find_letters(string1, string2)\n",
        "print(\" \".join(result))\n"
      ]
    },
    {
      "cell_type": "code",
      "execution_count": null,
      "metadata": {
        "id": "VvO0PeAyeZle"
      },
      "outputs": [],
      "source": [
        "string[1]"
      ]
    },
    {
      "cell_type": "markdown",
      "metadata": {
        "id": "D3c8GnUw4k15"
      },
      "source": [
        "# **JOIN TWO STRINGS**"
      ]
    },
    {
      "cell_type": "code",
      "execution_count": null,
      "metadata": {
        "id": "r7D3ZLzVm1R2"
      },
      "outputs": [],
      "source": [
        "# Read the two strings from input\n",
        "string1 = input()\n",
        "string2 = input()\n",
        "\n",
        "# Concatenate the strings with a space between them\n",
        "result = string1 + \"\" + string2\n",
        "\n",
        "# Print the result\n",
        "print(result)\n"
      ]
    },
    {
      "cell_type": "markdown",
      "metadata": {
        "id": "exnxrOEi4s2u"
      },
      "source": [
        "# **PRINT TRUE OR FALSE DEPENDING UPON WHETHER  X IS A MEMBER OF VALUES FROM THE LIST A**"
      ]
    },
    {
      "cell_type": "code",
      "execution_count": null,
      "metadata": {
        "id": "m30I1U_5pDIn"
      },
      "outputs": [],
      "source": [
        "# Read the value and the list from input\n",
        "x = input()\n",
        "N = int(input())\n",
        "\n",
        "# Read the elements of the list\n",
        "A = []\n",
        "for _ in range(N):\n",
        "    element = input()\n",
        "    A.append(element)\n",
        "\n",
        "# Check if x is a member of A\n",
        "is_member = False\n",
        "for element in A:\n",
        "    if element == x:\n",
        "        is_member = True\n",
        "        break\n",
        "\n",
        "# Print the result\n",
        "print(is_member)\n",
        "\n"
      ]
    },
    {
      "cell_type": "markdown",
      "metadata": {
        "id": "tQX0EF8UvxKI"
      },
      "source": [
        "# **PANDAS LIST TO DATAFRAME OF THE ORDER M*N PRINT WEIRED!**\n",
        "\n",
        "you have to write python program which does the following\n",
        "* takes list as input\n",
        "* converts the list to a pandas series\n",
        "* reshapes the series into a dataframe of the order m*n\n",
        "input format:\n",
        "* the first line contains two space seperated integers,represnting the values of m and n accordingly.\n",
        "*the first line contains two space seperated integers,which represnts the elemnts of the list\n",
        "\n",
        "Constraints:\n",
        "\n",
        "2<=m,n<=10\n",
        "the product of m and n should be equal to the length of input list\n",
        "OUTPUT FORMAT:\n",
        "\n",
        "IF THE PRODUCT OF M AND N EQUALS THE LENGTH OF THE INPUT LIST, print the converted dataframe\n",
        "\n",
        "if the product of m and n is NOT EQUAL to the length of the input list, print the messesge \"Weired Order!\""
      ]
    },
    {
      "cell_type": "code",
      "execution_count": null,
      "metadata": {
        "id": "9llXFQ4nv4Nz"
      },
      "outputs": [],
      "source": [
        "import pandas as pd\n",
        "\n",
        "def reshape_list_to_dataframe(lst, m, n):\n",
        "    if m * n == len(lst):\n",
        "        series = pd.Series(lst)\n",
        "        dataframe = pd.DataFrame(series.values.reshape(m, n))\n",
        "        return dataframe\n",
        "    else:\n",
        "        return \"Weird Order!\"\n",
        "\n",
        "# Get input from the user\n",
        "m, n = map(int, input().split())\n",
        "lst = list(map(int, input().split()))\n",
        "\n",
        "# Reshape the list to a dataframe\n",
        "result = reshape_list_to_dataframe(lst, m, n)\n",
        "\n",
        "# Print the result\n",
        "print(result)\n"
      ]
    },
    {
      "cell_type": "markdown",
      "metadata": {
        "id": "eAohR4_H3Fwa"
      },
      "source": [
        "# **REVERSE EACH WORD AND ELIMINATE PALIANDROME**\n",
        "\n",
        "John asked for a puzzle from one of his friends. He has given a string and he has to decode the given string according to the set of rules -\n",
        "\n",
        "1. Reverse each word of the space-separated string.\n",
        "2. Eliminate palindrome word.\n",
        "\n",
        "Palindrome words are those words that can be read the same from either side. For example - \"aba\" is the same as the reverse of \"aba\"; Therefore, it is a palindrome.\n",
        "\n",
        "Input Format\n",
        "\n",
        "• First line contains the value of N, no. of queries(String).\n",
        "\n",
        "Next N lines contains string.\n",
        "\n",
        "Output Format\n",
        "\n",
        "• For each query print the decoded string in a newline."
      ]
    },
    {
      "cell_type": "code",
      "execution_count": null,
      "metadata": {
        "id": "2Afw5yAp3YOD"
      },
      "outputs": [],
      "source": [
        "def reverse_words(string):\n",
        "    words = string.split()\n",
        "    reversed_words = [word[::-1] for word in words]\n",
        "    return ' '.join(reversed_words)\n",
        "\n",
        "def is_palindrome(word):\n",
        "    return word == word[::-1]\n",
        "\n",
        "def decode_string(string):\n",
        "    reversed_string = reverse_words(string)\n",
        "    words = reversed_string.split()\n",
        "    decoded_words = [word for word in words if not is_palindrome(word)]\n",
        "    return ' '.join(decoded_words)\n",
        "\n",
        "# Get the number of queries\n",
        "N = int(input())\n",
        "\n",
        "# Process each query\n",
        "for _ in range(N):\n",
        "    string = input()\n",
        "    decoded_string = decode_string(string)\n",
        "    print(decoded_string)\n"
      ]
    },
    {
      "cell_type": "markdown",
      "metadata": {
        "id": "XNTR2IMb8Vhs"
      },
      "source": [
        "# **PRINT NUMBERS BETWEEN GIVEN NUMBERS. PRINT OUT OF RANGE AND DIFFERENCE NOT IN RANGE**\n",
        "\n",
        "As a beginner in Python programming, your first task is to create a list which prints 10 numbers between a given start point and end point.\n",
        "\n",
        "Write a Python script to implement this.\n",
        "\n",
        "Input Format\n",
        "\n",
        "• The first line contains the number of test-cases T.\n",
        "\n",
        "The next T lines contain a start point integer and an end point integer.\n",
        "\n",
        "Constraints\n",
        "\n",
        "The start point should NOT be less than 1; else print Out of Range\n",
        "\n",
        "The end point should NOT exceed 100; else print Out of Range\n",
        "\n",
        "• The difference between the start point and end point (inclusive of both) should always be equal to 10; else print Difference Not in Range\n",
        "\n",
        "• The limits constraint should be checked before the\n",
        "difference constraint.\n",
        "output format:\n",
        "print the 10 numbers between the given range"
      ]
    },
    {
      "cell_type": "markdown",
      "metadata": {
        "id": "vaiSIiMk9MPT"
      },
      "source": [
        "# **CODE WITH FUNCTION**"
      ]
    },
    {
      "cell_type": "code",
      "execution_count": null,
      "metadata": {
        "id": "5CHhAeyX9TXx"
      },
      "outputs": [],
      "source": [
        "def print_numbers(start, end):\n",
        "    numbers = list(range(start, end + 1))\n",
        "    print(numbers)\n",
        "\n",
        "def process_test_case(start, end):\n",
        "    if start < 1 or end > 100:\n",
        "        print(\"Out of Range\")\n",
        "    elif end - start + 1 != 10:\n",
        "        print(\"Difference Not in Range\")\n",
        "    else:\n",
        "        print_numbers(start, end)\n",
        "\n",
        "# Read the number of test cases\n",
        "t = int(input())\n",
        "\n",
        "# Process each test case\n",
        "for _ in range(t):\n",
        "    # Read the start and end points\n",
        "    start, end = map(int, input().split())\n",
        "\n",
        "    # Process the test case\n",
        "    process_test_case(start, end)\n"
      ]
    },
    {
      "cell_type": "markdown",
      "metadata": {
        "id": "-hWOAuC69ltO"
      },
      "source": [
        "# **CODE WITHOUT FUNCTION**"
      ]
    },
    {
      "cell_type": "code",
      "execution_count": null,
      "metadata": {
        "id": "mXKqwfau9vI4"
      },
      "outputs": [],
      "source": [
        "# Read the number of test cases\n",
        "t = int(input(\"Enter the number of test cases: \"))\n",
        "\n",
        "# Process each test case\n",
        "for _ in range(t):\n",
        "    # Read the start and end points\n",
        "    start, end = map(int, input(\"Enter the start and end points: \").split())\n",
        "\n",
        "    # Check if start point is out of range\n",
        "    if start < 1:\n",
        "        print(\"Out of Range\")\n",
        "        continue\n",
        "\n",
        "    # Check if end point is out of range\n",
        "    if end > 100:\n",
        "        print(\"Out of Range\")\n",
        "        continue\n",
        "\n",
        "    # Check if the difference is not equal to 10\n",
        "    if end - start + 1 != 10:\n",
        "        print(\"Difference Not in Range\")\n",
        "        continue\n",
        "\n",
        "    # Print the numbers between the given range\n",
        "    numbers = list(range(start, end + 1))\n",
        "    print(numbers)"
      ]
    },
    {
      "cell_type": "markdown",
      "metadata": {
        "id": "KDdUEx_cMgM2"
      },
      "source": [
        "# **RGB-HEX**"
      ]
    },
    {
      "cell_type": "code",
      "execution_count": null,
      "metadata": {
        "id": "68VarBiuN0Em"
      },
      "outputs": [],
      "source": [
        "def convert_rgb_to_hex(rgb):\n",
        "    hex_values = []\n",
        "    rgb_values = rgb.split(',')\n",
        "\n",
        "    for rgb in rgb_values:\n",
        "        r, g, b = rgb.split('-')\n",
        "        r = int(r)\n",
        "        g = int(g)\n",
        "        b = int(b)\n",
        "\n",
        "        if r > 255 or g > 255 or b > 255:\n",
        "            hex_values.append(\"INVALID\")\n",
        "        else:\n",
        "            hex_value = \"#{:02X}{:02X}{:02X}\".format(r, g, b)\n",
        "            hex_values.append(hex_value)\n",
        "\n",
        "    return ','.join(hex_values)\n",
        "\n",
        "\n",
        "# User Input\n",
        "rgb_input = input()\n",
        "\n",
        "# Convert RGB to Hexadecimal\n",
        "result = convert_rgb_to_hex(rgb_input)\n",
        "\n",
        "# Output\n",
        "print(result)\n"
      ]
    },
    {
      "cell_type": "markdown",
      "metadata": {
        "id": "FoBBMn-E0Du9"
      },
      "source": [
        "# **INTRESTING STRINGS**\n",
        "\n",
        "John is reading his English book in 2nd chapter he looked at the words \"tokyo\" and \"kyoto\" and noticed an unusual property that We can split \"tokyo\" into \"to\"+\"kyo\" and then swap those two parts to obtain \"kyo\"+\"to\" = \"kyoto\".\n",
        "\n",
        "Let S and T be two different strings. We call the pair (ST) interesting if there are two non-empty strings A and B such that\n",
        "\n",
        "S=A+B and T = B+A.\n",
        "\n",
        "For example, according to this definition, if S=\"tokyo\" and T=\"kyoto\", then the pair (S.T) is interesting because we can find A=\"to\" and B=\"kyo\"\n",
        "\n",
        "You are given String[] words. Return the number of interesting pairs we can find among the elements of words. Only count each pair once. E.g.. (\"tokyo\", \"kyoto\") and (\"kyoto\",\"tokyo\") is the same interesting pair"
      ]
    },
    {
      "cell_type": "code",
      "execution_count": null,
      "metadata": {
        "id": "6pM9nFUHQqIV"
      },
      "outputs": [],
      "source": [
        "def count_interesting_pairs(words):\n",
        "    count = 0\n",
        "    word_set = set(words)  # Remove duplicate words\n",
        "\n",
        "    for word in word_set:\n",
        "        n = len(word)\n",
        "        for i in range(1, n):\n",
        "            prefix = word[:i]\n",
        "            suffix = word[i:]\n",
        "\n",
        "            reversed_word = suffix + prefix\n",
        "            if reversed_word in word_set and reversed_word != word:\n",
        "                count += 1\n",
        "\n",
        "    return count // 2  # Divide by 2 to avoid counting pairs twice\n",
        "\n",
        "# Example usage:\n",
        "word_input = input(\"Enter the words (comma-separated): \")\n",
        "word_list = word_input.split(\",\")\n",
        "pair_count = count_interesting_pairs(word_list)\n",
        "print(pair_count)\n"
      ]
    },
    {
      "cell_type": "markdown",
      "metadata": {
        "id": "i1MzfqZF0_mH"
      },
      "source": [
        "# **PYTHON DATAFRAME DESCRIBE METHOD**"
      ]
    },
    {
      "cell_type": "code",
      "execution_count": null,
      "metadata": {
        "id": "rWuPS4l_09ac"
      },
      "outputs": [],
      "source": [
        "import pandas as pd\n",
        "import numpy as np\n",
        "\n",
        "data = {\n",
        "    'animal': ['cat', 'cat', 'snake', 'dog', 'dog'],\n",
        "    'age': [2.5, 3, 0.5, np.nan, 5],\n",
        "    'visits': [1, 3, 2, 3, 2],\n",
        "    'priority': ['yes', 'yes', 'no', 'yes', 'no']\n",
        "}\n",
        "\n",
        "labels = ['a', 'b', 'c', 'd', 'e']\n",
        "\n",
        "df = pd.DataFrame(data, index=labels)\n",
        "\n",
        "summary = df.describe()\n",
        "\n",
        "last_3=df.tail(3)\n",
        "print(last_3)"
      ]
    },
    {
      "cell_type": "markdown",
      "metadata": {
        "id": "vvXzuaHl2CoZ"
      },
      "source": [
        "# **PALINDROMES AGAIN!**\n",
        "\n",
        "You have been asked questions about palindromic strings. One of them was indeed interesting. It asks the user to find if any anagram of a given string is a palindrome?\n",
        "\n",
        "Anagram is just the rearrangement of the letters of a string The entire number of letters and their count remains intact in the new string\n",
        "\n",
        "Input Format\n",
        "\n",
        ". The input is just a string, consisting of lower case alphabets.\n",
        "\n",
        "Constraints\n",
        "\n",
        "The length of the string: [S]: 1<=[5]<=10^5\n",
        "\n",
        "Output Format\n",
        "\n",
        "• You must output True, if there is a possibility of a palindromic anagram.\n",
        "\n",
        "Else output False"
      ]
    },
    {
      "cell_type": "code",
      "execution_count": null,
      "metadata": {
        "id": "CRf5ZLBr12qt"
      },
      "outputs": [],
      "source": [
        "def is_palin_anagram(s):\n",
        "    char_count = {}\n",
        "    odd_count = 0\n",
        "\n",
        "    for char in s:\n",
        "        char_count[char] = char_count.get(char, 0) + 1\n",
        "\n",
        "    for count in char_count.values():\n",
        "        if count % 2 != 0:\n",
        "            odd_count += 1\n",
        "\n",
        "    return odd_count <= 1\n",
        "\n",
        "\n",
        "if __name__ == '__main__':\n",
        "    s = input()\n",
        "    result = is_palin_anagram(s)\n",
        "    print(result)\n"
      ]
    },
    {
      "cell_type": "code",
      "execution_count": null,
      "metadata": {
        "id": "1snJ21TTJiFh"
      },
      "outputs": [],
      "source": [
        "def reverse_number(number):\n",
        "    reversed_number = 0\n",
        "    while number > 0:\n",
        "        reversed_number = (reversed_number * 10) + (number % 10)\n",
        "        number = number // 10\n",
        "    return reversed_number\n",
        "\n",
        "# Take input from the user\n",
        "input_number = int(input())\n",
        "reversed_number = reverse_number(input_number)\n",
        "print( reversed_number)\n"
      ]
    },
    {
      "cell_type": "markdown",
      "metadata": {
        "id": "rsmRuqrc3sld"
      },
      "source": [
        "QTP,SELENIUM,PROTRACTOR MATCHING QUESTION\n"
      ]
    },
    {
      "cell_type": "code",
      "execution_count": null,
      "metadata": {
        "id": "Wt-o6bz83iYZ"
      },
      "outputs": [],
      "source": [
        "A1 = ['QTP', 'Selenium', 'Protractor']\n",
        "\n",
        "# Take input from the user\n",
        "user_input = input()\n",
        "input_list = user_input.split(',')\n",
        "\n",
        "\n",
        "input_list = [elem.strip() for elem in input_list]\n",
        "\n",
        "\n",
        "A1_sorted = sorted(A1)\n",
        "input_list_sorted = sorted(input_list)\n",
        "\n",
        "\n",
        "if A1_sorted == input_list_sorted:\n",
        "    print(\"Match\")\n",
        "else:\n",
        "    print(\"Not Match\")\n"
      ]
    },
    {
      "cell_type": "markdown",
      "metadata": {
        "id": "_xjDJhKs46te"
      },
      "source": []
    },
    {
      "cell_type": "code",
      "execution_count": null,
      "metadata": {
        "id": "eOV98UIO41K-"
      },
      "outputs": [],
      "source": [
        "str1, str2 = input().split(',')\n",
        "\n",
        "def sum_ascii(string):\n",
        "    total_sum = 0\n",
        "    for char in string:\n",
        "        total_sum += ord(char)\n",
        "    return total_sum\n",
        "\n",
        "diff = sum_ascii(str1) - sum_ascii(str2)\n",
        "print(diff)\n"
      ]
    },
    {
      "cell_type": "markdown",
      "metadata": {
        "id": "Ljln2QUw5QZh"
      },
      "source": []
    },
    {
      "cell_type": "code",
      "execution_count": null,
      "metadata": {
        "id": "Pah2Xhr05D5P"
      },
      "outputs": [],
      "source": [
        "def count_profitable_days(numDays, sales):\n",
        "    count = 0\n",
        "    for i in range(numDays):\n",
        "        if sales[i] > 0:\n",
        "            count += 1\n",
        "    return count\n",
        "\n",
        "# Read input\n",
        "numDays = int(input())\n",
        "sales = list(map(int, input().split()))\n",
        "\n",
        "# Call the function and print the result\n",
        "profitable_days = count_profitable_days(numDays, sales)\n",
        "print(profitable_days)\n",
        "\n"
      ]
    },
    {
      "cell_type": "code",
      "execution_count": null,
      "metadata": {
        "id": "-oQPWTpyb8in"
      },
      "outputs": [],
      "source": [
        "\n",
        "def solve(s):\n",
        "  numerical_value = int(s)\n",
        "  result = numerical_value * 2\n",
        "  return result\n",
        "\n",
        "string_num =input()\n",
        "out=solve(string_num)\n",
        "print(out)"
      ]
    },
    {
      "cell_type": "code",
      "execution_count": null,
      "metadata": {
        "id": "43u7EQwscENv"
      },
      "outputs": [],
      "source": [
        "def reverse_number(num):\n",
        "    reversed_num = \"\"\n",
        "    num_str = str(num)\n",
        "\n",
        "    for i in range(len(num_str) - 1, -1, -1):\n",
        "        reversed_num += num_str[i]\n",
        "\n",
        "    return reversed_num\n",
        "\n",
        "# Test the function\n",
        "num = input()\n",
        "reversed_num = reverse_number(num)\n",
        "print(reversed_num)\n"
      ]
    },
    {
      "cell_type": "markdown",
      "metadata": {
        "id": "xjJkUWM-kZen"
      },
      "source": [
        "Write a program that does the following:\n",
        "\n",
        "• takes a list as input\n",
        "\n",
        "• creates a Pandas Series from the list above\n",
        "\n",
        "takes a string as input and assigns the string as a name to the Series\n",
        "\n",
        "• takes the inputs for n & pos and prints some (n) rows from the first OR last of the Series, depending on the input\n",
        "\n",
        "Input Format\n",
        "\n",
        "• The first line contains the elements of the list\n",
        "\n",
        "• The second line contains a string which is to be used as a name for the Pandas Series being generated.\n",
        "The last line contains two space-separated integers ⚫\n",
        "n-This represents the number of rows that you have to print from the Series.\n",
        "\n",
        "pos-This represents the position from where the rows have to be extracted. This can be only 1 (first) or 0 (last).\n",
        "\n",
        "Output Format\n",
        "\n",
        "Depending on the values of n and pos, print the first/last\n",
        "\n",
        "n rows of the Series on to the STDOUT\n",
        "\n",
        "• Print the Name and dtype of the output Series with its name (from input) and data type."
      ]
    },
    {
      "cell_type": "code",
      "execution_count": null,
      "metadata": {
        "id": "SorMyRxUiylz"
      },
      "outputs": [],
      "source": [
        "import pandas as pd\n",
        "\n",
        "# Take input for the list\n",
        "list_input = input().split()\n",
        "\n",
        "# Create a Pandas Series from the list\n",
        "series = pd.Series(list_input)\n",
        "\n",
        "# Take input for the name of the Series\n",
        "series_name = input()\n",
        "\n",
        "# Assign the name to the Series\n",
        "series.name = series_name\n",
        "\n",
        "# Take input for the number of rows and position\n",
        "n, pos = map(int, input().split())\n",
        "\n",
        "# Print the specified rows from the first or last of the Series\n",
        "if pos == 1:\n",
        "    output = series.head(n)\n",
        "else:\n",
        "    output = series.tail(n)\n",
        "\n",
        "print(output)\n"
      ]
    },
    {
      "cell_type": "code",
      "execution_count": null,
      "metadata": {
        "id": "nl-5DNVqkhu1"
      },
      "outputs": [],
      "source": [
        "def format(num, length):\n",
        "    x_str = str(num)\n",
        "    if len(x_str) >= length:\n",
        "        return x_str\n",
        "    else:\n",
        "        return x_str.zfill(length)\n",
        "\n",
        "if __name__ == '__main__':\n",
        "    num = int(input().strip())\n",
        "    length = int(input().strip())\n",
        "\n",
        "    result = format(num, length)\n",
        "    print(result)\n"
      ]
    },
    {
      "cell_type": "code",
      "execution_count": null,
      "metadata": {
        "id": "tkPj7TjJlPqD"
      },
      "outputs": [],
      "source": [
        "def count_updates(initial, target):\n",
        "    initial = list(initial)\n",
        "    target = list(target)\n",
        "    count = 0\n",
        "\n",
        "    while initial != target:\n",
        "        initial.append(initial.pop(0))\n",
        "        count += 1\n",
        "        if count > len(initial):\n",
        "            count = -1\n",
        "            break\n",
        "\n",
        "    return count\n",
        "\n",
        "# Test the function\n",
        "num=int(input())\n",
        "initial_str = input()\n",
        "target_str = input()\n",
        "num_updates = count_updates(initial_str, target_str)\n",
        "print(num_updates)\n"
      ]
    },
    {
      "cell_type": "code",
      "execution_count": null,
      "metadata": {
        "id": "z3FFk6xrlQd5"
      },
      "outputs": [],
      "source": [
        "def get_longest_string(strings):\n",
        "    longest_string = \"\"\n",
        "    for string in strings:\n",
        "        if len(string) > len(longest_string):\n",
        "            longest_string = string\n",
        "    return longest_string"
      ]
    },
    {
      "cell_type": "code",
      "execution_count": null,
      "metadata": {
        "id": "mNEVKhSzyyrB"
      },
      "outputs": [],
      "source": [
        "a=('a','bb','ccc')\n",
        "get_longest_string(a)"
      ]
    },
    {
      "cell_type": "code",
      "execution_count": null,
      "metadata": {
        "id": "Ms55m78cy-3Q"
      },
      "outputs": [],
      "source": [
        "def calculate_total_savings(date):\n",
        "    # Split the input date string into year, month, and date\n",
        "    year, month, day = map(int, date.split('/'))\n",
        "\n",
        "    # Calculate the total savings\n",
        "    total_savings = 10 * ((year - 1) * 365 + (month - 1) * 30 + day)\n",
        "\n",
        "    return total_savings\n",
        "\n",
        "# Read the input date from the user\n",
        "date = input(\"Enter the date (year/month/date): \")\n",
        "\n",
        "# Calculate and print the total savings\n",
        "total_savings = calculate_total_savings(date)\n",
        "print(\"Total savings till date\", date, \"is Rs.\", total_savings)"
      ]
    },
    {
      "cell_type": "code",
      "execution_count": null,
      "metadata": {
        "id": "NfdWFMVizVUy"
      },
      "outputs": [],
      "source": [
        "def calculate_total_savings(date):\n",
        "    # Split the input date string into year, month, and date\n",
        "    year, month, day = map(int, date.split('/'))\n",
        "\n",
        "    # Calculate the total savings\n",
        "    total_savings = 10 * ((year - 2019) * 365 + (month - 1) * 30 + day)\n",
        "\n",
        "    return total_savings\n",
        "\n",
        "# Read the input date from the user\n",
        "date = input(\"Enter the date (year/month/date): \")\n",
        "\n",
        "# Calculate and print the total savings\n",
        "total_savings = calculate_total_savings(date)\n",
        "print(\"Total savings till date\", date, \"is Rs.\", total_savings)"
      ]
    },
    {
      "cell_type": "code",
      "execution_count": null,
      "metadata": {
        "id": "h97ixqfw00if"
      },
      "outputs": [],
      "source": [
        "def calculate_savings(date):\n",
        "    start_date = '2019/01/01'\n",
        "    daily_saving = 10\n",
        "\n",
        "    start_timestamp = int(time.mktime(time.strptime(start_date, '%Y/%m/%d')))\n",
        "    end_timestamp = int(time.mktime(time.strptime(date, '%Y/%m/%d')))\n",
        "\n",
        "    days_passed = (end_timestamp - start_timestamp) // (24 * 60 * 60)\n",
        "    total_savings = days_passed * daily_saving\n",
        "\n",
        "    return total_savings\n",
        "\n",
        "# Example usage\n",
        "given_date = '2019/02/10'\n",
        "total_savings = calculate_savings(given_date)\n",
        "print(total_savings)"
      ]
    },
    {
      "cell_type": "code",
      "execution_count": null,
      "metadata": {
        "id": "mhtp9BIu1ZzN"
      },
      "outputs": [],
      "source": [
        "import datetime\n",
        "\n",
        "def calculate_savings(date):\n",
        "    start_date = datetime.datetime(2019, 1, 1)\n",
        "    end_date = datetime.datetime.strptime(date, '%Y/%m/%d')\n",
        "    days_passed = (end_date - start_date).days\n",
        "    total_savings = days_passed * 10  # Rs.10 saved per day\n",
        "    return total_savings\n",
        "\n",
        "# Take the input from the user\n",
        "given_date = input(\"Enter the date (year/month/date): \")\n",
        "total_savings = calculate_savings(given_date)\n",
        "print(total_savings)"
      ]
    },
    {
      "cell_type": "code",
      "execution_count": null,
      "metadata": {
        "id": "yEEU-6pv1upS"
      },
      "outputs": [],
      "source": [
        "import datetime\n",
        "\n",
        "def calculate_savings(date):\n",
        "    start_date = datetime.datetime(2019, 1, 1)\n",
        "    end_date = datetime.datetime.strptime(date, '%Y/%m/%d')\n",
        "    days_passed = (end_date - start_date).days\n",
        "    total_savings = days_passed * 10  # Rs.10 saved per day\n",
        "    return total_savings\n",
        "\n",
        "# Take the input from the user\n",
        "given_date = input(\"Enter the date (year/month/date): \")\n",
        "total_savings = calculate_savings(given_date)\n",
        "print(f\"Total savings till {given_date}: {total_savings}\")"
      ]
    },
    {
      "cell_type": "code",
      "execution_count": null,
      "metadata": {
        "id": "poB8bt8B2Kyd"
      },
      "outputs": [],
      "source": [
        "a=10\n",
        "b=20\n",
        "def change():\n",
        "  global b\n",
        "  a=45\n",
        "  b=56\n",
        "change()\n",
        "print(a)\n",
        "print(b)\n"
      ]
    },
    {
      "cell_type": "code",
      "execution_count": null,
      "metadata": {
        "id": "JCqvFy4ZgLJY"
      },
      "outputs": [],
      "source": [
        "value = input(int())\n",
        "list1 = []\n",
        "for i in value:\n",
        "  val = input(string())\n",
        "  list1.append(val)\n",
        "for j in len(list1):\n"
      ]
    },
    {
      "cell_type": "code",
      "execution_count": null,
      "metadata": {
        "id": "eG94E1vOmco6"
      },
      "outputs": [],
      "source": [
        "\n",
        "def invert_cases(word):\n",
        "    inverted_word = \"\"\n",
        "    for char in word:\n",
        "        if char.islower():\n",
        "            inverted_word += char.upper()\n",
        "        elif char.isupper():\n",
        "            inverted_word += char.lower()\n",
        "        else:\n",
        "            inverted_word += char\n",
        "    return inverted_word\n",
        "\n",
        "T = int(input())\n",
        "\n",
        "\n",
        "for _ in range(T):\n",
        "    word = input()\n",
        "    inverted_word = invert_cases(word)\n",
        "    print(inverted_word)\n",
        "\n",
        "\n",
        "\n",
        "\n"
      ]
    },
    {
      "cell_type": "code",
      "execution_count": null,
      "metadata": {
        "id": "xALeaM6K1_lA"
      },
      "outputs": [],
      "source": [
        "A1 = ['Protractor', 'Seleium', 'QTP']\n",
        "\n",
        "\n",
        "input_list = input().split(\", \")\n",
        "\n",
        "if set(A1) == set(input_list):\n",
        "    print(\"Match\")\n",
        "else:\n",
        "    print(\"Not Match\")\n"
      ]
    },
    {
      "cell_type": "code",
      "execution_count": null,
      "metadata": {
        "id": "ABOBt960tilu"
      },
      "outputs": [],
      "source": [
        "def find_indexes(input_string):\n",
        "    index_are = input_string.find(\"are\")\n",
        "    index_b = input_string.find(\"b\")\n",
        "    if index_are == -1:\n",
        "        index_are = -1\n",
        "    if index_b == -1:\n",
        "        index_b = -1\n",
        "    return index_are, index_b\n",
        "\n",
        "input_string = input()\n",
        "index_are, index_b = find_indexes(input_string)\n",
        "\n",
        "print(index_are+index_b)\n",
        "\n",
        "\n"
      ]
    },
    {
      "cell_type": "code",
      "execution_count": null,
      "metadata": {
        "colab": {
          "background_save": true
        },
        "id": "aHoB6OXEyww1"
      },
      "outputs": [],
      "source": [
        "def calculate_ascii_sum(string):\n",
        "    ascii_sum = 0\n",
        "    for char in string:\n",
        "        ascii_sum += ord(char)\n",
        "    return ascii_sum\n",
        "\n",
        "# Taking the pair of strings separated by a comma as input\n",
        "input_string = input(\"Enter a pair of strings separated by a comma: \")\n",
        "string1, string2 = input_string.split(',')\n",
        "\n",
        "# Calculating the sum of ASCII values for each string\n",
        "ascii_sum1 = calculate_ascii_sum(string1)\n",
        "ascii_sum2 = calculate_ascii_sum(string2)\n",
        "\n",
        "# Calculating the difference between the sum of ASCII values\n",
        "difference = ascii_sum1 - ascii_sum2\n",
        "\n",
        "# Printing the difference\n",
        "print(\"Difference:\", difference)"
      ]
    }
  ],
  "metadata": {
    "colab": {
      "provenance": [],
      "include_colab_link": true
    },
    "kernelspec": {
      "display_name": "Python 3",
      "name": "python3"
    },
    "language_info": {
      "name": "python"
    }
  },
  "nbformat": 4,
  "nbformat_minor": 0
}