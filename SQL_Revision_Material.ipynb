{
  "nbformat": 4,
  "nbformat_minor": 0,
  "metadata": {
    "colab": {
      "provenance": [],
      "authorship_tag": "ABX9TyOFWA9UPt3z/QDBL/5IAk71",
      "include_colab_link": true
    },
    "kernelspec": {
      "name": "python3",
      "display_name": "Python 3"
    },
    "language_info": {
      "name": "python"
    }
  },
  "cells": [
    {
      "cell_type": "markdown",
      "metadata": {
        "id": "view-in-github",
        "colab_type": "text"
      },
      "source": [
        "<a href=\"https://colab.research.google.com/github/azizdafi/Practice-and-revision-material/blob/main/SQL_Revision_Material.ipynb\" target=\"_parent\"><img src=\"https://colab.research.google.com/assets/colab-badge.svg\" alt=\"Open In Colab\"/></a>"
      ]
    },
    {
      "cell_type": "markdown",
      "source": [
        "##What is SQL?  \n",
        "SQL stands for Structured Query Language  \n",
        "SQL lets you access and manipulate databases  \n",
        "SQL became a standard of the American National Standards Institute (ANSI) in 1986, and of the International Organization for Standardization (ISO) in 1987\n",
        "\n",
        "##What Can SQL do?\n",
        "SQL can execute queries against a database  \n",
        "SQL can retrieve data from a database  \n",
        "SQL can insert records in a database  \n",
        "SQL can update records in a database  \n",
        "SQL can delete records from a database  \n",
        "SQL can create new databases  \n",
        "SQL can create new tables in a database  \n",
        "SQL can create stored procedures in a database  \n",
        "SQL can create views in a database  \n",
        "SQL can set permissions on tables, procedures, and views  \n",
        "\n",
        "##RDBMS\n",
        "RDBMS stands for Relational Database Management System.\n",
        "\n",
        "RDBMS is the basis for SQL, and for all modern database systems such as MS SQL Server, IBM DB2, Oracle, MySQL, and Microsoft Access.\n",
        "\n",
        "The data in RDBMS is stored in database objects called tables. A table is a collection of related data entries and it consists of columns and rows.\n",
        "\n",
        "Every table is broken up into smaller entities called fields. The fields in the Customers table consist of CustomerID, CustomerName, ContactName, Address, City, PostalCode and Country. A field is a column in a table that is designed to maintain specific information about every record in the table.\n",
        "\n",
        "A record, also called a row, is each individual entry that exists in a table. For example, there are 91 records in the above Customers table. A record is a horizontal entity in a table.\n",
        "\n",
        "A column is a vertical entity in a table that contains all information associated with a specific field in a table.\n",
        "\n",
        "#SQL keywords are NOT case sensitive: select is the same as SELECT\n",
        "\n"
      ],
      "metadata": {
        "id": "dD2rdKd_t6rw"
      }
    },
    {
      "cell_type": "markdown",
      "source": [],
      "metadata": {
        "id": "Z5Ph1ihlt_mh"
      }
    },
    {
      "cell_type": "markdown",
      "source": [
        "## Some of The Most Important SQL Commands\n",
        "SELECT - extracts data from a database  \n",
        "UPDATE - updates data in a database  \n",
        "DELETE - deletes data from a database  \n",
        "INSERT INTO - inserts new data into a database  \n",
        "CREATE DATABASE - creates a new database  \n",
        "ALTER DATABASE - modifies a database  \n",
        "CREATE TABLE - creates a new table  \n",
        "ALTER TABLE - modifies a table  \n",
        "DROP TABLE - deletes a table  \n",
        "CREATE INDEX - creates an index (search key)  \n",
        "DROP INDEX - deletes an index  "
      ],
      "metadata": {
        "id": "AqbcaHzNthY_"
      }
    },
    {
      "cell_type": "markdown",
      "source": [
        "###genral syntax for SQL query:  \n",
        "SELECT column1, column2, ...  \n",
        "FROM table_name;  \n",
        "\n",
        "example:  \n",
        "SELECT columname1, columnname2 FROM tablename\n",
        "\n",
        "---\n",
        "###selecting distinct values of a column:  \n",
        "SELECT DISTINCT Country FROM Customers\n",
        "\n",
        "\n",
        "---\n",
        "###Counting the distinct number of country\n",
        "SELECT COUNT(DISTINCT Country) FROM Customers\n",
        "\n",
        "---\n",
        "###WHERE Syntax\n",
        "SELECT column1, column2, ...  \n",
        "FROM table_name  \n",
        "WHERE condition1 AND condition2 AND condition3 ...   \n",
        "\n"
      ],
      "metadata": {
        "id": "Htpd7VlxvR02"
      }
    },
    {
      "cell_type": "markdown",
      "source": [
        "###condition operators for SQL\n",
        "'='\tEqual\n",
        "'\\>'\tGreater than\n",
        "'<'\tLess than\n",
        "\\'>='\tGreater than or equal\n",
        "'<='\tLess than or equal\n",
        "'<>'\tNot equal. Note: In some versions of SQL this operator may be written as '!='\n",
        "'BETWEEN'\tBetween a certain range\n",
        "'LIKE'\tSearch for a pattern\n",
        "'IN'\tTo specify multiple possible values for a column  "
      ],
      "metadata": {
        "id": "88LQGxB2yWEY"
      }
    },
    {
      "cell_type": "markdown",
      "source": [
        "#Some examples for various conditions\n",
        "\n",
        "---\n",
        "SELECT * FROM Customers\n",
        "WHERE Country='Mexico'\n",
        "\n",
        "---\n",
        "SELECT * FROM Customers  \n",
        "WHERE Country='Germany' AND City='Berlin'  \n",
        "\n",
        "---\n",
        "SELECT * FROM Customers  \n",
        "WHERE Country='Germany' AND (City='Berlin' OR City='München')  \n"
      ],
      "metadata": {
        "id": "uNWol2pizOs_"
      }
    },
    {
      "cell_type": "markdown",
      "source": [
        "###Order By\n",
        "\n",
        "SELECT * FROM Customers  \n",
        "ORDER BY Country DESC  \n",
        "\n",
        "---\n",
        "SELECT * FROM Customers  \n",
        "ORDER BY Country ASC  \n",
        "\n",
        "---\n",
        "sorted by the \"Country\" and the \"CustomerName\" column. This means that it orders by Country, but if some rows have the same Country, it orders them by CustomerName\n",
        "\n",
        "SELECT * FROM Customers  \n",
        "ORDER BY Country, CustomerName  "
      ],
      "metadata": {
        "id": "ITRGaZfgzl22"
      }
    },
    {
      "cell_type": "markdown",
      "source": [
        "###INSERT INTO Statement\n",
        "####Syntax  \n",
        "INSERT INTO table_name (column1, column2, column3, ...)  \n",
        "VALUES (value1, value2, value3, ...)  \n",
        "\n",
        "If you are adding values for all the columns of the table, you do not need to specify the column names in the SQL query.  \n",
        "INSERT INTO table_name  \n",
        "VALUES (value1, value2, value3, ...)  \n",
        "\n",
        "####Example\n",
        "INSERT INTO Customers (CustomerName, City, Country)  \n",
        "VALUES ('Cardinal', 'Stavanger', 'Norway')  \n"
      ],
      "metadata": {
        "id": "Hw_w92Nw0F9u"
      }
    },
    {
      "cell_type": "markdown",
      "source": [
        "###NULL Values\n",
        "A field with a NULL value is a field with no value.\n",
        "#### Example\n",
        "SELECT CustomerName, ContactName, Address  \n",
        "FROM Customers  \n",
        "WHERE Address IS NULL  \n",
        "\n",
        "\n",
        "####similarly we can use not null"
      ],
      "metadata": {
        "id": "1_0Enos90iCB"
      }
    },
    {
      "cell_type": "markdown",
      "source": [
        "###UPDATE\n",
        "The UPDATE statement is used to modify the existing records in a table.\n",
        "\n",
        "####Syntax\n",
        "UPDATE table_name  \n",
        "SET column1 = value1, column2 = value2, ...  \n",
        "WHERE condition  \n",
        "\n",
        "####Example\n",
        "UPDATE Customers  \n",
        "SET ContactName = 'Alfred Schmidt', City= 'Frankfurt'  \n",
        "WHERE CustomerID = 1  \n",
        "\n",
        "**Note: Be careful when updating records. If you omit the WHERE clause, ALL records will be updated!**\n"
      ],
      "metadata": {
        "id": "PR7x6Iak03EH"
      }
    },
    {
      "cell_type": "markdown",
      "source": [
        "###Delete\n",
        "DELETE FROM Customers WHERE CustomerName='Alfreds Futterkiste'\n",
        "\n",
        "**It is possible to delete all rows in a table without deleting the table. This means that the table structure, attributes, and indexes will be intact:**\n",
        "\n",
        "DELETE FROM table_name  \n"
      ],
      "metadata": {
        "id": "Fg7KmCdf5B2z"
      }
    },
    {
      "cell_type": "markdown",
      "source": [
        "###Limit\n",
        "\n",
        "SELECT column_name(s)  \n",
        "FROM table_name  \n",
        "WHERE condition  \n",
        "LIMIT number  \n",
        "\n",
        "example  \n",
        "SELECT * FROM Customers  \n",
        "LIMIT 3  "
      ],
      "metadata": {
        "id": "iz2Bmprm6ucO"
      }
    },
    {
      "cell_type": "markdown",
      "source": [
        "###MIN() and Max()\n",
        "SELECT MIN(column_name)  \n",
        "FROM table_name  \n",
        "WHERE condition  \n",
        "\n",
        "SELECT MIN(Price) AS SmallestPrice  \n",
        "FROM Products  \n",
        "\n",
        "SELECT MAX(Price) AS LargestPrice  \n",
        "FROM Products  "
      ],
      "metadata": {
        "id": "qDRZuR0468ai"
      }
    },
    {
      "cell_type": "markdown",
      "source": [
        "###Count(), SUM(), AVG()\n",
        "\n",
        "SELECT COUNT(ProductID)  \n",
        "FROM Products  \n",
        "\n",
        "---\n",
        "SELECT SUM(Quantity)  \n",
        "FROM OrderDetails  \n",
        "\n",
        "---\n",
        "SELECT AVG(Price)  \n",
        "FROM Products  "
      ],
      "metadata": {
        "id": "sqOR4fHM8IVa"
      }
    },
    {
      "cell_type": "markdown",
      "source": [
        "###LIKE\n",
        "\n",
        "The LIKE operator is used in a WHERE clause to search for a specified pattern in a column.\n",
        "\n",
        "####Syntax\n",
        "SELECT column1, column2, ...  \n",
        "FROM table_name  \n",
        "WHERE columnN LIKE pattern  \n",
        "\n",
        "**Wildcards**\n",
        "%\tRepresents zero or more characters  \n",
        "_\tRepresents a single character  \n",
        "[]\tRepresents any single character within the brackets\th[oa]t finds hot and hat, but not hit  \n",
        "^\tRepresents any character not in the brackets\th[^oa]t finds hit, but not hot and hat  \n",
        "\\-\tRepresents any single character within the specified range c[a-b]t finds cat and cbt  \n",
        "\n",
        "**Some examples:**\n",
        "WHERE CustomerName LIKE 'a%'\n",
        "Finds any values that start with \"a\"  \n",
        "\n",
        "WHERE CustomerName LIKE '%a'\n",
        "Finds any values that end with \"a\"  \n",
        "\n",
        "WHERE CustomerName LIKE '%or%'\n",
        "Finds any values that have \"or\" in any position  \n",
        "\n",
        "WHERE CustomerName LIKE '_r%'\n",
        "Finds any values that have \"r\" in the second position  \n",
        "\n",
        "WHERE CustomerName LIKE 'a_%'\n",
        "Finds any values that start with \"a\" and are at least 2 characters in length  \n",
        "\n",
        "WHERE CustomerName LIKE 'a__%'\n",
        "Finds any values that start with \"a\" and are at least 3 characters in length  \n",
        "\n",
        "WHERE ContactName LIKE 'a%o'\n",
        "Finds any values that start with \"a\" and ends with \"o\"  "
      ],
      "metadata": {
        "id": "m33D3yQS8mZl"
      }
    },
    {
      "cell_type": "code",
      "source": [],
      "metadata": {
        "id": "MrYAD1mL8HKR"
      },
      "execution_count": null,
      "outputs": []
    }
  ]
}