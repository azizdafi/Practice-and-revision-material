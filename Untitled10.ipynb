{
  "nbformat": 4,
  "nbformat_minor": 0,
  "metadata": {
    "colab": {
      "provenance": [],
      "authorship_tag": "ABX9TyPaWemzPoQigNHjI92xHmsw",
      "include_colab_link": true
    },
    "kernelspec": {
      "name": "python3",
      "display_name": "Python 3"
    },
    "language_info": {
      "name": "python"
    }
  },
  "cells": [
    {
      "cell_type": "markdown",
      "metadata": {
        "id": "view-in-github",
        "colab_type": "text"
      },
      "source": [
        "<a href=\"https://colab.research.google.com/github/azizdafi/Practice-and-revision-material/blob/main/Untitled10.ipynb\" target=\"_parent\"><img src=\"https://colab.research.google.com/assets/colab-badge.svg\" alt=\"Open In Colab\"/></a>"
      ]
    },
    {
      "cell_type": "code",
      "execution_count": 1,
      "metadata": {
        "colab": {
          "base_uri": "https://localhost:8080/"
        },
        "id": "UhPgxTITcJ-3",
        "outputId": "14a2fcba-7046-4444-bb50-a5c35cfa164f"
      },
      "outputs": [
        {
          "output_type": "stream",
          "name": "stdout",
          "text": [
            "Sayed\n",
            "6\n"
          ]
        }
      ],
      "source": [
        "a = 6\n",
        "b = 'Sayed'\n",
        "\n",
        "a , b = b, a\n",
        "\n",
        "print(a)\n",
        "print(b)"
      ]
    },
    {
      "cell_type": "code",
      "source": [
        "res = 1\n",
        "inp_num = int(input())\n",
        "for i in range(1, inp_num+1):\n",
        "  res = res*i\n",
        "print(res)"
      ],
      "metadata": {
        "colab": {
          "base_uri": "https://localhost:8080/"
        },
        "id": "oXQ2sco0cYzq",
        "outputId": "a439fcfb-226d-4cb5-b6b8-bfedb4691846"
      },
      "execution_count": 3,
      "outputs": [
        {
          "output_type": "stream",
          "name": "stdout",
          "text": [
            "6\n",
            "720\n"
          ]
        }
      ]
    },
    {
      "cell_type": "code",
      "source": [
        "# 153 = 1^3 + 5 ^3 + 3^3\n",
        "\n",
        "inp = int(input())\n",
        "res = 0\n",
        "for i in str(inp):\n",
        "  res = res + int(i) * int(i) * int(i) # pow(int(i),3)\n",
        "if res == inp:\n",
        "  print('it is armstrong numbers')\n",
        "else:\n",
        "  print('it is not armstrong numbers')\n",
        "\n"
      ],
      "metadata": {
        "colab": {
          "base_uri": "https://localhost:8080/"
        },
        "id": "OWsfJZTSc1Dx",
        "outputId": "93d48d93-a392-4928-c079-7a08ea03a704"
      },
      "execution_count": 7,
      "outputs": [
        {
          "output_type": "stream",
          "name": "stdout",
          "text": [
            "153\n",
            "it is armstrong numbers\n"
          ]
        }
      ]
    },
    {
      "cell_type": "code",
      "source": [
        "inp = str(input())\n",
        "res = {}\n",
        "for i in inp:\n",
        "  if i in res:\n",
        "    res[i] += 1\n",
        "  else:\n",
        "    res[i] = 1\n",
        "print(res)"
      ],
      "metadata": {
        "colab": {
          "base_uri": "https://localhost:8080/"
        },
        "id": "2QcqfEEid4Rh",
        "outputId": "76873c3f-5521-49c9-e004-a9f151a89f30"
      },
      "execution_count": 10,
      "outputs": [
        {
          "output_type": "stream",
          "name": "stdout",
          "text": [
            "ranjan\n",
            "{'r': 1, 'a': 2, 'n': 2, 'j': 1}\n"
          ]
        }
      ]
    },
    {
      "cell_type": "code",
      "source": [],
      "metadata": {
        "id": "GwveurRgevnR"
      },
      "execution_count": null,
      "outputs": []
    }
  ]
}